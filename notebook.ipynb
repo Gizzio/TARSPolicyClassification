{
 "cells": [
  {
   "cell_type": "code",
   "execution_count": 1,
   "id": "62564764",
   "metadata": {},
   "outputs": [],
   "source": [
    "TRAIN_PATH = 'documents_functions_data/document_function_train.csv'\n",
    "TEST_PATH = 'documents_functions_data/document_function_test.csv'"
   ]
  },
  {
   "cell_type": "code",
   "execution_count": 2,
   "id": "cf62b317",
   "metadata": {},
   "outputs": [],
   "source": [
    "import pandas as pd\n",
    "import plotly.express as px\n",
    "import spacy\n",
    "import plotly.express as px\n",
    "from sklearn.metrics import accuracy_score\n",
    "from sklearn import metrics\n",
    "from sklearn.metrics import plot_confusion_matrix, confusion_matrix\n",
    "from sklearn.model_selection import train_test_split\n",
    "from sklearn.preprocessing import LabelEncoder\n",
    "from sklearn.pipeline import Pipeline\n",
    "from sklearn.feature_extraction.text import CountVectorizer\n",
    "from sklearn.linear_model import LogisticRegression\n",
    "from flair.models import TARSClassifier\n",
    "from flair.data import Sentence\n",
    "from flair.datasets import SentenceDataset\n",
    "from flair.trainers import ModelTrainer\n",
    "from flair.data import Corpus\n",
    "from sklearn.metrics import ConfusionMatrixDisplay\n",
    "import matplotlib.pyplot as plt\n"
   ]
  },
  {
   "cell_type": "code",
   "execution_count": 3,
   "id": "aaa476a3",
   "metadata": {},
   "outputs": [],
   "source": [
    "df = pd.read_csv(TRAIN_PATH)\n",
    "df_test = pd.read_csv(TEST_PATH)\n",
    "df_full = pd.concat([df, df_test], ignore_index=True)\n",
    "\n",
    "d = {\n",
    "'strategy': \"strategy, document describing actions that should be taken towards AI\",\n",
    " 'body or organization':\"document establishing AI-related body or organization\",\n",
    " 'diagnosis': \"diagnosis, report, or other document describing the current state of AI\",\n",
    " 'principles': \"principles, sets of ethical rules regarding AI\",\n",
    " 'regulation': \"legal regulation addressing AI\",\n",
    " 'pre-regulation': \"proposal of legal regulation addressing AI\"\n",
    "}\n",
    "df['docFunctionLong']= df['documentFunction'].map(d)\n",
    "df_test['docFunctionLong']= df_test['documentFunction'].map(d)\n",
    "df_full['docFunctionLong']= df_full['documentFunction'].map(d)\n",
    "\n",
    "X_train = df.title\n",
    "y_train = df.documentFunction\n",
    "y_train_long = df.docFunctionLong\n",
    "\n",
    "X_test = df_test.title\n",
    "y_test = df_test.documentFunction\n",
    "y_test_long = df_test.docFunctionLong\n",
    "\n",
    "X_full = df_full.title\n",
    "y_full = df_full.documentFunction\n",
    "y_full_long = df_full.docFunctionLong"
   ]
  },
  {
   "cell_type": "code",
   "execution_count": 4,
   "id": "7cba5b89",
   "metadata": {},
   "outputs": [
    {
     "data": {
      "application/vnd.plotly.v1+json": {
       "config": {
        "plotlyServerURL": "https://plot.ly"
       },
       "data": [
        {
         "alignmentgroup": "True",
         "bingroup": "x",
         "hovertemplate": "variable=documentFunction<br>value=%{x}<br>count=%{y}<extra></extra>",
         "legendgroup": "documentFunction",
         "marker": {
          "color": "#636efa",
          "pattern": {
           "shape": ""
          }
         },
         "name": "documentFunction",
         "offsetgroup": "documentFunction",
         "orientation": "v",
         "showlegend": true,
         "type": "histogram",
         "x": [
          "body or organization",
          "strategy",
          "strategy",
          "strategy",
          "strategy",
          "body or organization",
          "body or organization",
          "body or organization",
          "body or organization",
          "strategy",
          "regulation",
          "strategy",
          "body or organization",
          "strategy",
          "body or organization",
          "body or organization",
          "regulation",
          "pre-regulation",
          "principles",
          "strategy",
          "regulation",
          "body or organization",
          "body or organization",
          "principles",
          "body or organization",
          "strategy",
          "body or organization",
          "strategy",
          "body or organization",
          "body or organization",
          "strategy",
          "diagnosis",
          "regulation",
          "body or organization",
          "strategy",
          "strategy",
          "strategy",
          "strategy",
          "diagnosis",
          "principles",
          "strategy",
          "strategy",
          "body or organization",
          "body or organization",
          "body or organization",
          "principles",
          "body or organization",
          "strategy",
          "pre-regulation",
          "body or organization",
          "strategy",
          "body or organization",
          "regulation",
          "strategy",
          "principles",
          "body or organization",
          "diagnosis",
          "strategy",
          "strategy",
          "strategy",
          "strategy",
          "strategy",
          "body or organization",
          "body or organization",
          "strategy",
          "strategy",
          "strategy",
          "strategy",
          "strategy",
          "body or organization",
          "regulation",
          "strategy",
          "diagnosis",
          "body or organization",
          "strategy",
          "principles",
          "strategy",
          "body or organization",
          "body or organization",
          "body or organization",
          "body or organization",
          "strategy",
          "principles",
          "body or organization",
          "principles",
          "body or organization",
          "diagnosis",
          "regulation",
          "body or organization",
          "diagnosis",
          "body or organization",
          "diagnosis",
          "strategy",
          "strategy",
          "body or organization",
          "strategy",
          "body or organization",
          "strategy",
          "strategy",
          "diagnosis",
          "diagnosis",
          "principles",
          "strategy",
          "strategy",
          "body or organization",
          "strategy",
          "regulation",
          "diagnosis",
          "strategy",
          "body or organization",
          "body or organization",
          "diagnosis",
          "body or organization",
          "pre-regulation",
          "strategy",
          "principles",
          "diagnosis",
          "regulation",
          "body or organization",
          "strategy",
          "body or organization",
          "principles",
          "strategy",
          "strategy",
          "body or organization",
          "strategy",
          "strategy",
          "body or organization",
          "diagnosis",
          "strategy",
          "strategy",
          "strategy",
          "strategy",
          "diagnosis",
          "body or organization",
          "strategy",
          "strategy",
          "body or organization",
          "strategy",
          "body or organization",
          "strategy",
          "body or organization",
          "strategy",
          "body or organization",
          "body or organization",
          "body or organization",
          "body or organization",
          "body or organization",
          "strategy",
          "strategy",
          "body or organization",
          "strategy",
          "diagnosis",
          "principles",
          "body or organization",
          "strategy",
          "strategy",
          "body or organization",
          "strategy",
          "diagnosis",
          "strategy",
          "strategy",
          "strategy",
          "principles",
          "diagnosis",
          "regulation",
          "body or organization",
          "strategy",
          "regulation",
          "diagnosis",
          "body or organization",
          "strategy",
          "body or organization",
          "strategy",
          "strategy",
          "diagnosis",
          "strategy",
          "strategy",
          "strategy",
          "pre-regulation",
          "principles",
          "strategy",
          "diagnosis",
          "strategy",
          "body or organization",
          "body or organization",
          "strategy",
          "strategy",
          "strategy",
          "body or organization",
          "strategy",
          "body or organization",
          "strategy",
          "principles",
          "principles",
          "strategy",
          "body or organization",
          "strategy",
          "principles",
          "strategy",
          "body or organization",
          "strategy",
          "strategy",
          "strategy",
          "pre-regulation",
          "body or organization",
          "principles",
          "body or organization",
          "principles",
          "body or organization",
          "strategy",
          "body or organization",
          "strategy",
          "regulation",
          "strategy",
          "diagnosis",
          "strategy",
          "strategy",
          "strategy",
          "body or organization",
          "pre-regulation",
          "strategy",
          "principles",
          "body or organization",
          "regulation",
          "body or organization",
          "principles",
          "body or organization",
          "principles",
          "strategy",
          "strategy",
          "strategy",
          "body or organization",
          "body or organization",
          "strategy",
          "diagnosis",
          "body or organization",
          "body or organization",
          "principles",
          "body or organization",
          "body or organization",
          "regulation",
          "strategy",
          "strategy",
          "strategy",
          "diagnosis",
          "diagnosis",
          "strategy",
          "diagnosis",
          "strategy",
          "strategy",
          "strategy",
          "strategy"
         ],
         "xaxis": "x",
         "yaxis": "y"
        }
       ],
       "layout": {
        "barmode": "relative",
        "legend": {
         "title": {
          "text": "variable"
         },
         "tracegroupgap": 0
        },
        "margin": {
         "t": 60
        },
        "template": {
         "data": {
          "bar": [
           {
            "error_x": {
             "color": "#2a3f5f"
            },
            "error_y": {
             "color": "#2a3f5f"
            },
            "marker": {
             "line": {
              "color": "#E5ECF6",
              "width": 0.5
             },
             "pattern": {
              "fillmode": "overlay",
              "size": 10,
              "solidity": 0.2
             }
            },
            "type": "bar"
           }
          ],
          "barpolar": [
           {
            "marker": {
             "line": {
              "color": "#E5ECF6",
              "width": 0.5
             },
             "pattern": {
              "fillmode": "overlay",
              "size": 10,
              "solidity": 0.2
             }
            },
            "type": "barpolar"
           }
          ],
          "carpet": [
           {
            "aaxis": {
             "endlinecolor": "#2a3f5f",
             "gridcolor": "white",
             "linecolor": "white",
             "minorgridcolor": "white",
             "startlinecolor": "#2a3f5f"
            },
            "baxis": {
             "endlinecolor": "#2a3f5f",
             "gridcolor": "white",
             "linecolor": "white",
             "minorgridcolor": "white",
             "startlinecolor": "#2a3f5f"
            },
            "type": "carpet"
           }
          ],
          "choropleth": [
           {
            "colorbar": {
             "outlinewidth": 0,
             "ticks": ""
            },
            "type": "choropleth"
           }
          ],
          "contour": [
           {
            "colorbar": {
             "outlinewidth": 0,
             "ticks": ""
            },
            "colorscale": [
             [
              0,
              "#0d0887"
             ],
             [
              0.1111111111111111,
              "#46039f"
             ],
             [
              0.2222222222222222,
              "#7201a8"
             ],
             [
              0.3333333333333333,
              "#9c179e"
             ],
             [
              0.4444444444444444,
              "#bd3786"
             ],
             [
              0.5555555555555556,
              "#d8576b"
             ],
             [
              0.6666666666666666,
              "#ed7953"
             ],
             [
              0.7777777777777778,
              "#fb9f3a"
             ],
             [
              0.8888888888888888,
              "#fdca26"
             ],
             [
              1,
              "#f0f921"
             ]
            ],
            "type": "contour"
           }
          ],
          "contourcarpet": [
           {
            "colorbar": {
             "outlinewidth": 0,
             "ticks": ""
            },
            "type": "contourcarpet"
           }
          ],
          "heatmap": [
           {
            "colorbar": {
             "outlinewidth": 0,
             "ticks": ""
            },
            "colorscale": [
             [
              0,
              "#0d0887"
             ],
             [
              0.1111111111111111,
              "#46039f"
             ],
             [
              0.2222222222222222,
              "#7201a8"
             ],
             [
              0.3333333333333333,
              "#9c179e"
             ],
             [
              0.4444444444444444,
              "#bd3786"
             ],
             [
              0.5555555555555556,
              "#d8576b"
             ],
             [
              0.6666666666666666,
              "#ed7953"
             ],
             [
              0.7777777777777778,
              "#fb9f3a"
             ],
             [
              0.8888888888888888,
              "#fdca26"
             ],
             [
              1,
              "#f0f921"
             ]
            ],
            "type": "heatmap"
           }
          ],
          "heatmapgl": [
           {
            "colorbar": {
             "outlinewidth": 0,
             "ticks": ""
            },
            "colorscale": [
             [
              0,
              "#0d0887"
             ],
             [
              0.1111111111111111,
              "#46039f"
             ],
             [
              0.2222222222222222,
              "#7201a8"
             ],
             [
              0.3333333333333333,
              "#9c179e"
             ],
             [
              0.4444444444444444,
              "#bd3786"
             ],
             [
              0.5555555555555556,
              "#d8576b"
             ],
             [
              0.6666666666666666,
              "#ed7953"
             ],
             [
              0.7777777777777778,
              "#fb9f3a"
             ],
             [
              0.8888888888888888,
              "#fdca26"
             ],
             [
              1,
              "#f0f921"
             ]
            ],
            "type": "heatmapgl"
           }
          ],
          "histogram": [
           {
            "marker": {
             "pattern": {
              "fillmode": "overlay",
              "size": 10,
              "solidity": 0.2
             }
            },
            "type": "histogram"
           }
          ],
          "histogram2d": [
           {
            "colorbar": {
             "outlinewidth": 0,
             "ticks": ""
            },
            "colorscale": [
             [
              0,
              "#0d0887"
             ],
             [
              0.1111111111111111,
              "#46039f"
             ],
             [
              0.2222222222222222,
              "#7201a8"
             ],
             [
              0.3333333333333333,
              "#9c179e"
             ],
             [
              0.4444444444444444,
              "#bd3786"
             ],
             [
              0.5555555555555556,
              "#d8576b"
             ],
             [
              0.6666666666666666,
              "#ed7953"
             ],
             [
              0.7777777777777778,
              "#fb9f3a"
             ],
             [
              0.8888888888888888,
              "#fdca26"
             ],
             [
              1,
              "#f0f921"
             ]
            ],
            "type": "histogram2d"
           }
          ],
          "histogram2dcontour": [
           {
            "colorbar": {
             "outlinewidth": 0,
             "ticks": ""
            },
            "colorscale": [
             [
              0,
              "#0d0887"
             ],
             [
              0.1111111111111111,
              "#46039f"
             ],
             [
              0.2222222222222222,
              "#7201a8"
             ],
             [
              0.3333333333333333,
              "#9c179e"
             ],
             [
              0.4444444444444444,
              "#bd3786"
             ],
             [
              0.5555555555555556,
              "#d8576b"
             ],
             [
              0.6666666666666666,
              "#ed7953"
             ],
             [
              0.7777777777777778,
              "#fb9f3a"
             ],
             [
              0.8888888888888888,
              "#fdca26"
             ],
             [
              1,
              "#f0f921"
             ]
            ],
            "type": "histogram2dcontour"
           }
          ],
          "mesh3d": [
           {
            "colorbar": {
             "outlinewidth": 0,
             "ticks": ""
            },
            "type": "mesh3d"
           }
          ],
          "parcoords": [
           {
            "line": {
             "colorbar": {
              "outlinewidth": 0,
              "ticks": ""
             }
            },
            "type": "parcoords"
           }
          ],
          "pie": [
           {
            "automargin": true,
            "type": "pie"
           }
          ],
          "scatter": [
           {
            "marker": {
             "colorbar": {
              "outlinewidth": 0,
              "ticks": ""
             }
            },
            "type": "scatter"
           }
          ],
          "scatter3d": [
           {
            "line": {
             "colorbar": {
              "outlinewidth": 0,
              "ticks": ""
             }
            },
            "marker": {
             "colorbar": {
              "outlinewidth": 0,
              "ticks": ""
             }
            },
            "type": "scatter3d"
           }
          ],
          "scattercarpet": [
           {
            "marker": {
             "colorbar": {
              "outlinewidth": 0,
              "ticks": ""
             }
            },
            "type": "scattercarpet"
           }
          ],
          "scattergeo": [
           {
            "marker": {
             "colorbar": {
              "outlinewidth": 0,
              "ticks": ""
             }
            },
            "type": "scattergeo"
           }
          ],
          "scattergl": [
           {
            "marker": {
             "colorbar": {
              "outlinewidth": 0,
              "ticks": ""
             }
            },
            "type": "scattergl"
           }
          ],
          "scattermapbox": [
           {
            "marker": {
             "colorbar": {
              "outlinewidth": 0,
              "ticks": ""
             }
            },
            "type": "scattermapbox"
           }
          ],
          "scatterpolar": [
           {
            "marker": {
             "colorbar": {
              "outlinewidth": 0,
              "ticks": ""
             }
            },
            "type": "scatterpolar"
           }
          ],
          "scatterpolargl": [
           {
            "marker": {
             "colorbar": {
              "outlinewidth": 0,
              "ticks": ""
             }
            },
            "type": "scatterpolargl"
           }
          ],
          "scatterternary": [
           {
            "marker": {
             "colorbar": {
              "outlinewidth": 0,
              "ticks": ""
             }
            },
            "type": "scatterternary"
           }
          ],
          "surface": [
           {
            "colorbar": {
             "outlinewidth": 0,
             "ticks": ""
            },
            "colorscale": [
             [
              0,
              "#0d0887"
             ],
             [
              0.1111111111111111,
              "#46039f"
             ],
             [
              0.2222222222222222,
              "#7201a8"
             ],
             [
              0.3333333333333333,
              "#9c179e"
             ],
             [
              0.4444444444444444,
              "#bd3786"
             ],
             [
              0.5555555555555556,
              "#d8576b"
             ],
             [
              0.6666666666666666,
              "#ed7953"
             ],
             [
              0.7777777777777778,
              "#fb9f3a"
             ],
             [
              0.8888888888888888,
              "#fdca26"
             ],
             [
              1,
              "#f0f921"
             ]
            ],
            "type": "surface"
           }
          ],
          "table": [
           {
            "cells": {
             "fill": {
              "color": "#EBF0F8"
             },
             "line": {
              "color": "white"
             }
            },
            "header": {
             "fill": {
              "color": "#C8D4E3"
             },
             "line": {
              "color": "white"
             }
            },
            "type": "table"
           }
          ]
         },
         "layout": {
          "annotationdefaults": {
           "arrowcolor": "#2a3f5f",
           "arrowhead": 0,
           "arrowwidth": 1
          },
          "autotypenumbers": "strict",
          "coloraxis": {
           "colorbar": {
            "outlinewidth": 0,
            "ticks": ""
           }
          },
          "colorscale": {
           "diverging": [
            [
             0,
             "#8e0152"
            ],
            [
             0.1,
             "#c51b7d"
            ],
            [
             0.2,
             "#de77ae"
            ],
            [
             0.3,
             "#f1b6da"
            ],
            [
             0.4,
             "#fde0ef"
            ],
            [
             0.5,
             "#f7f7f7"
            ],
            [
             0.6,
             "#e6f5d0"
            ],
            [
             0.7,
             "#b8e186"
            ],
            [
             0.8,
             "#7fbc41"
            ],
            [
             0.9,
             "#4d9221"
            ],
            [
             1,
             "#276419"
            ]
           ],
           "sequential": [
            [
             0,
             "#0d0887"
            ],
            [
             0.1111111111111111,
             "#46039f"
            ],
            [
             0.2222222222222222,
             "#7201a8"
            ],
            [
             0.3333333333333333,
             "#9c179e"
            ],
            [
             0.4444444444444444,
             "#bd3786"
            ],
            [
             0.5555555555555556,
             "#d8576b"
            ],
            [
             0.6666666666666666,
             "#ed7953"
            ],
            [
             0.7777777777777778,
             "#fb9f3a"
            ],
            [
             0.8888888888888888,
             "#fdca26"
            ],
            [
             1,
             "#f0f921"
            ]
           ],
           "sequentialminus": [
            [
             0,
             "#0d0887"
            ],
            [
             0.1111111111111111,
             "#46039f"
            ],
            [
             0.2222222222222222,
             "#7201a8"
            ],
            [
             0.3333333333333333,
             "#9c179e"
            ],
            [
             0.4444444444444444,
             "#bd3786"
            ],
            [
             0.5555555555555556,
             "#d8576b"
            ],
            [
             0.6666666666666666,
             "#ed7953"
            ],
            [
             0.7777777777777778,
             "#fb9f3a"
            ],
            [
             0.8888888888888888,
             "#fdca26"
            ],
            [
             1,
             "#f0f921"
            ]
           ]
          },
          "colorway": [
           "#636efa",
           "#EF553B",
           "#00cc96",
           "#ab63fa",
           "#FFA15A",
           "#19d3f3",
           "#FF6692",
           "#B6E880",
           "#FF97FF",
           "#FECB52"
          ],
          "font": {
           "color": "#2a3f5f"
          },
          "geo": {
           "bgcolor": "white",
           "lakecolor": "white",
           "landcolor": "#E5ECF6",
           "showlakes": true,
           "showland": true,
           "subunitcolor": "white"
          },
          "hoverlabel": {
           "align": "left"
          },
          "hovermode": "closest",
          "mapbox": {
           "style": "light"
          },
          "paper_bgcolor": "white",
          "plot_bgcolor": "#E5ECF6",
          "polar": {
           "angularaxis": {
            "gridcolor": "white",
            "linecolor": "white",
            "ticks": ""
           },
           "bgcolor": "#E5ECF6",
           "radialaxis": {
            "gridcolor": "white",
            "linecolor": "white",
            "ticks": ""
           }
          },
          "scene": {
           "xaxis": {
            "backgroundcolor": "#E5ECF6",
            "gridcolor": "white",
            "gridwidth": 2,
            "linecolor": "white",
            "showbackground": true,
            "ticks": "",
            "zerolinecolor": "white"
           },
           "yaxis": {
            "backgroundcolor": "#E5ECF6",
            "gridcolor": "white",
            "gridwidth": 2,
            "linecolor": "white",
            "showbackground": true,
            "ticks": "",
            "zerolinecolor": "white"
           },
           "zaxis": {
            "backgroundcolor": "#E5ECF6",
            "gridcolor": "white",
            "gridwidth": 2,
            "linecolor": "white",
            "showbackground": true,
            "ticks": "",
            "zerolinecolor": "white"
           }
          },
          "shapedefaults": {
           "line": {
            "color": "#2a3f5f"
           }
          },
          "ternary": {
           "aaxis": {
            "gridcolor": "white",
            "linecolor": "white",
            "ticks": ""
           },
           "baxis": {
            "gridcolor": "white",
            "linecolor": "white",
            "ticks": ""
           },
           "bgcolor": "#E5ECF6",
           "caxis": {
            "gridcolor": "white",
            "linecolor": "white",
            "ticks": ""
           }
          },
          "title": {
           "x": 0.05
          },
          "xaxis": {
           "automargin": true,
           "gridcolor": "white",
           "linecolor": "white",
           "ticks": "",
           "title": {
            "standoff": 15
           },
           "zerolinecolor": "white",
           "zerolinewidth": 2
          },
          "yaxis": {
           "automargin": true,
           "gridcolor": "white",
           "linecolor": "white",
           "ticks": "",
           "title": {
            "standoff": 15
           },
           "zerolinecolor": "white",
           "zerolinewidth": 2
          }
         }
        },
        "xaxis": {
         "anchor": "y",
         "domain": [
          0,
          1
         ],
         "title": {
          "text": "value"
         }
        },
        "yaxis": {
         "anchor": "x",
         "domain": [
          0,
          1
         ],
         "title": {
          "text": "count"
         }
        }
       }
      }
     },
     "metadata": {},
     "output_type": "display_data"
    }
   ],
   "source": [
    "px.histogram(y_train)"
   ]
  },
  {
   "cell_type": "code",
   "execution_count": 5,
   "id": "a91aaf53",
   "metadata": {},
   "outputs": [
    {
     "data": {
      "application/vnd.plotly.v1+json": {
       "config": {
        "plotlyServerURL": "https://plot.ly"
       },
       "data": [
        {
         "alignmentgroup": "True",
         "bingroup": "x",
         "hovertemplate": "variable=documentFunction<br>value=%{x}<br>count=%{y}<extra></extra>",
         "legendgroup": "documentFunction",
         "marker": {
          "color": "#636efa",
          "pattern": {
           "shape": ""
          }
         },
         "name": "documentFunction",
         "offsetgroup": "documentFunction",
         "orientation": "v",
         "showlegend": true,
         "type": "histogram",
         "x": [
          "strategy",
          "strategy",
          "body or organization",
          "strategy",
          "body or organization",
          "strategy",
          "body or organization",
          "strategy",
          "diagnosis",
          "body or organization",
          "principles",
          "strategy",
          "body or organization",
          "strategy",
          "strategy",
          "strategy",
          "regulation",
          "body or organization",
          "diagnosis",
          "strategy",
          "strategy",
          "strategy",
          "body or organization",
          "strategy",
          "strategy",
          "pre-regulation",
          "principles",
          "strategy",
          "strategy",
          "principles",
          "regulation",
          "strategy",
          "body or organization",
          "body or organization",
          "body or organization",
          "strategy",
          "diagnosis",
          "diagnosis",
          "strategy",
          "strategy",
          "body or organization",
          "body or organization",
          "strategy",
          "body or organization",
          "body or organization",
          "body or organization",
          "strategy",
          "body or organization",
          "body or organization",
          "body or organization",
          "body or organization",
          "body or organization",
          "pre-regulation",
          "strategy",
          "diagnosis",
          "body or organization",
          "strategy",
          "strategy",
          "strategy",
          "regulation",
          "strategy",
          "principles",
          "body or organization",
          "diagnosis",
          "strategy",
          "strategy",
          "body or organization",
          "strategy",
          "body or organization",
          "body or organization",
          "strategy",
          "diagnosis",
          "strategy",
          "body or organization",
          "strategy",
          "principles",
          "regulation",
          "regulation",
          "body or organization",
          "diagnosis",
          "principles",
          "strategy",
          "diagnosis",
          "strategy",
          "principles"
         ],
         "xaxis": "x",
         "yaxis": "y"
        }
       ],
       "layout": {
        "barmode": "relative",
        "legend": {
         "title": {
          "text": "variable"
         },
         "tracegroupgap": 0
        },
        "margin": {
         "t": 60
        },
        "template": {
         "data": {
          "bar": [
           {
            "error_x": {
             "color": "#2a3f5f"
            },
            "error_y": {
             "color": "#2a3f5f"
            },
            "marker": {
             "line": {
              "color": "#E5ECF6",
              "width": 0.5
             },
             "pattern": {
              "fillmode": "overlay",
              "size": 10,
              "solidity": 0.2
             }
            },
            "type": "bar"
           }
          ],
          "barpolar": [
           {
            "marker": {
             "line": {
              "color": "#E5ECF6",
              "width": 0.5
             },
             "pattern": {
              "fillmode": "overlay",
              "size": 10,
              "solidity": 0.2
             }
            },
            "type": "barpolar"
           }
          ],
          "carpet": [
           {
            "aaxis": {
             "endlinecolor": "#2a3f5f",
             "gridcolor": "white",
             "linecolor": "white",
             "minorgridcolor": "white",
             "startlinecolor": "#2a3f5f"
            },
            "baxis": {
             "endlinecolor": "#2a3f5f",
             "gridcolor": "white",
             "linecolor": "white",
             "minorgridcolor": "white",
             "startlinecolor": "#2a3f5f"
            },
            "type": "carpet"
           }
          ],
          "choropleth": [
           {
            "colorbar": {
             "outlinewidth": 0,
             "ticks": ""
            },
            "type": "choropleth"
           }
          ],
          "contour": [
           {
            "colorbar": {
             "outlinewidth": 0,
             "ticks": ""
            },
            "colorscale": [
             [
              0,
              "#0d0887"
             ],
             [
              0.1111111111111111,
              "#46039f"
             ],
             [
              0.2222222222222222,
              "#7201a8"
             ],
             [
              0.3333333333333333,
              "#9c179e"
             ],
             [
              0.4444444444444444,
              "#bd3786"
             ],
             [
              0.5555555555555556,
              "#d8576b"
             ],
             [
              0.6666666666666666,
              "#ed7953"
             ],
             [
              0.7777777777777778,
              "#fb9f3a"
             ],
             [
              0.8888888888888888,
              "#fdca26"
             ],
             [
              1,
              "#f0f921"
             ]
            ],
            "type": "contour"
           }
          ],
          "contourcarpet": [
           {
            "colorbar": {
             "outlinewidth": 0,
             "ticks": ""
            },
            "type": "contourcarpet"
           }
          ],
          "heatmap": [
           {
            "colorbar": {
             "outlinewidth": 0,
             "ticks": ""
            },
            "colorscale": [
             [
              0,
              "#0d0887"
             ],
             [
              0.1111111111111111,
              "#46039f"
             ],
             [
              0.2222222222222222,
              "#7201a8"
             ],
             [
              0.3333333333333333,
              "#9c179e"
             ],
             [
              0.4444444444444444,
              "#bd3786"
             ],
             [
              0.5555555555555556,
              "#d8576b"
             ],
             [
              0.6666666666666666,
              "#ed7953"
             ],
             [
              0.7777777777777778,
              "#fb9f3a"
             ],
             [
              0.8888888888888888,
              "#fdca26"
             ],
             [
              1,
              "#f0f921"
             ]
            ],
            "type": "heatmap"
           }
          ],
          "heatmapgl": [
           {
            "colorbar": {
             "outlinewidth": 0,
             "ticks": ""
            },
            "colorscale": [
             [
              0,
              "#0d0887"
             ],
             [
              0.1111111111111111,
              "#46039f"
             ],
             [
              0.2222222222222222,
              "#7201a8"
             ],
             [
              0.3333333333333333,
              "#9c179e"
             ],
             [
              0.4444444444444444,
              "#bd3786"
             ],
             [
              0.5555555555555556,
              "#d8576b"
             ],
             [
              0.6666666666666666,
              "#ed7953"
             ],
             [
              0.7777777777777778,
              "#fb9f3a"
             ],
             [
              0.8888888888888888,
              "#fdca26"
             ],
             [
              1,
              "#f0f921"
             ]
            ],
            "type": "heatmapgl"
           }
          ],
          "histogram": [
           {
            "marker": {
             "pattern": {
              "fillmode": "overlay",
              "size": 10,
              "solidity": 0.2
             }
            },
            "type": "histogram"
           }
          ],
          "histogram2d": [
           {
            "colorbar": {
             "outlinewidth": 0,
             "ticks": ""
            },
            "colorscale": [
             [
              0,
              "#0d0887"
             ],
             [
              0.1111111111111111,
              "#46039f"
             ],
             [
              0.2222222222222222,
              "#7201a8"
             ],
             [
              0.3333333333333333,
              "#9c179e"
             ],
             [
              0.4444444444444444,
              "#bd3786"
             ],
             [
              0.5555555555555556,
              "#d8576b"
             ],
             [
              0.6666666666666666,
              "#ed7953"
             ],
             [
              0.7777777777777778,
              "#fb9f3a"
             ],
             [
              0.8888888888888888,
              "#fdca26"
             ],
             [
              1,
              "#f0f921"
             ]
            ],
            "type": "histogram2d"
           }
          ],
          "histogram2dcontour": [
           {
            "colorbar": {
             "outlinewidth": 0,
             "ticks": ""
            },
            "colorscale": [
             [
              0,
              "#0d0887"
             ],
             [
              0.1111111111111111,
              "#46039f"
             ],
             [
              0.2222222222222222,
              "#7201a8"
             ],
             [
              0.3333333333333333,
              "#9c179e"
             ],
             [
              0.4444444444444444,
              "#bd3786"
             ],
             [
              0.5555555555555556,
              "#d8576b"
             ],
             [
              0.6666666666666666,
              "#ed7953"
             ],
             [
              0.7777777777777778,
              "#fb9f3a"
             ],
             [
              0.8888888888888888,
              "#fdca26"
             ],
             [
              1,
              "#f0f921"
             ]
            ],
            "type": "histogram2dcontour"
           }
          ],
          "mesh3d": [
           {
            "colorbar": {
             "outlinewidth": 0,
             "ticks": ""
            },
            "type": "mesh3d"
           }
          ],
          "parcoords": [
           {
            "line": {
             "colorbar": {
              "outlinewidth": 0,
              "ticks": ""
             }
            },
            "type": "parcoords"
           }
          ],
          "pie": [
           {
            "automargin": true,
            "type": "pie"
           }
          ],
          "scatter": [
           {
            "marker": {
             "colorbar": {
              "outlinewidth": 0,
              "ticks": ""
             }
            },
            "type": "scatter"
           }
          ],
          "scatter3d": [
           {
            "line": {
             "colorbar": {
              "outlinewidth": 0,
              "ticks": ""
             }
            },
            "marker": {
             "colorbar": {
              "outlinewidth": 0,
              "ticks": ""
             }
            },
            "type": "scatter3d"
           }
          ],
          "scattercarpet": [
           {
            "marker": {
             "colorbar": {
              "outlinewidth": 0,
              "ticks": ""
             }
            },
            "type": "scattercarpet"
           }
          ],
          "scattergeo": [
           {
            "marker": {
             "colorbar": {
              "outlinewidth": 0,
              "ticks": ""
             }
            },
            "type": "scattergeo"
           }
          ],
          "scattergl": [
           {
            "marker": {
             "colorbar": {
              "outlinewidth": 0,
              "ticks": ""
             }
            },
            "type": "scattergl"
           }
          ],
          "scattermapbox": [
           {
            "marker": {
             "colorbar": {
              "outlinewidth": 0,
              "ticks": ""
             }
            },
            "type": "scattermapbox"
           }
          ],
          "scatterpolar": [
           {
            "marker": {
             "colorbar": {
              "outlinewidth": 0,
              "ticks": ""
             }
            },
            "type": "scatterpolar"
           }
          ],
          "scatterpolargl": [
           {
            "marker": {
             "colorbar": {
              "outlinewidth": 0,
              "ticks": ""
             }
            },
            "type": "scatterpolargl"
           }
          ],
          "scatterternary": [
           {
            "marker": {
             "colorbar": {
              "outlinewidth": 0,
              "ticks": ""
             }
            },
            "type": "scatterternary"
           }
          ],
          "surface": [
           {
            "colorbar": {
             "outlinewidth": 0,
             "ticks": ""
            },
            "colorscale": [
             [
              0,
              "#0d0887"
             ],
             [
              0.1111111111111111,
              "#46039f"
             ],
             [
              0.2222222222222222,
              "#7201a8"
             ],
             [
              0.3333333333333333,
              "#9c179e"
             ],
             [
              0.4444444444444444,
              "#bd3786"
             ],
             [
              0.5555555555555556,
              "#d8576b"
             ],
             [
              0.6666666666666666,
              "#ed7953"
             ],
             [
              0.7777777777777778,
              "#fb9f3a"
             ],
             [
              0.8888888888888888,
              "#fdca26"
             ],
             [
              1,
              "#f0f921"
             ]
            ],
            "type": "surface"
           }
          ],
          "table": [
           {
            "cells": {
             "fill": {
              "color": "#EBF0F8"
             },
             "line": {
              "color": "white"
             }
            },
            "header": {
             "fill": {
              "color": "#C8D4E3"
             },
             "line": {
              "color": "white"
             }
            },
            "type": "table"
           }
          ]
         },
         "layout": {
          "annotationdefaults": {
           "arrowcolor": "#2a3f5f",
           "arrowhead": 0,
           "arrowwidth": 1
          },
          "autotypenumbers": "strict",
          "coloraxis": {
           "colorbar": {
            "outlinewidth": 0,
            "ticks": ""
           }
          },
          "colorscale": {
           "diverging": [
            [
             0,
             "#8e0152"
            ],
            [
             0.1,
             "#c51b7d"
            ],
            [
             0.2,
             "#de77ae"
            ],
            [
             0.3,
             "#f1b6da"
            ],
            [
             0.4,
             "#fde0ef"
            ],
            [
             0.5,
             "#f7f7f7"
            ],
            [
             0.6,
             "#e6f5d0"
            ],
            [
             0.7,
             "#b8e186"
            ],
            [
             0.8,
             "#7fbc41"
            ],
            [
             0.9,
             "#4d9221"
            ],
            [
             1,
             "#276419"
            ]
           ],
           "sequential": [
            [
             0,
             "#0d0887"
            ],
            [
             0.1111111111111111,
             "#46039f"
            ],
            [
             0.2222222222222222,
             "#7201a8"
            ],
            [
             0.3333333333333333,
             "#9c179e"
            ],
            [
             0.4444444444444444,
             "#bd3786"
            ],
            [
             0.5555555555555556,
             "#d8576b"
            ],
            [
             0.6666666666666666,
             "#ed7953"
            ],
            [
             0.7777777777777778,
             "#fb9f3a"
            ],
            [
             0.8888888888888888,
             "#fdca26"
            ],
            [
             1,
             "#f0f921"
            ]
           ],
           "sequentialminus": [
            [
             0,
             "#0d0887"
            ],
            [
             0.1111111111111111,
             "#46039f"
            ],
            [
             0.2222222222222222,
             "#7201a8"
            ],
            [
             0.3333333333333333,
             "#9c179e"
            ],
            [
             0.4444444444444444,
             "#bd3786"
            ],
            [
             0.5555555555555556,
             "#d8576b"
            ],
            [
             0.6666666666666666,
             "#ed7953"
            ],
            [
             0.7777777777777778,
             "#fb9f3a"
            ],
            [
             0.8888888888888888,
             "#fdca26"
            ],
            [
             1,
             "#f0f921"
            ]
           ]
          },
          "colorway": [
           "#636efa",
           "#EF553B",
           "#00cc96",
           "#ab63fa",
           "#FFA15A",
           "#19d3f3",
           "#FF6692",
           "#B6E880",
           "#FF97FF",
           "#FECB52"
          ],
          "font": {
           "color": "#2a3f5f"
          },
          "geo": {
           "bgcolor": "white",
           "lakecolor": "white",
           "landcolor": "#E5ECF6",
           "showlakes": true,
           "showland": true,
           "subunitcolor": "white"
          },
          "hoverlabel": {
           "align": "left"
          },
          "hovermode": "closest",
          "mapbox": {
           "style": "light"
          },
          "paper_bgcolor": "white",
          "plot_bgcolor": "#E5ECF6",
          "polar": {
           "angularaxis": {
            "gridcolor": "white",
            "linecolor": "white",
            "ticks": ""
           },
           "bgcolor": "#E5ECF6",
           "radialaxis": {
            "gridcolor": "white",
            "linecolor": "white",
            "ticks": ""
           }
          },
          "scene": {
           "xaxis": {
            "backgroundcolor": "#E5ECF6",
            "gridcolor": "white",
            "gridwidth": 2,
            "linecolor": "white",
            "showbackground": true,
            "ticks": "",
            "zerolinecolor": "white"
           },
           "yaxis": {
            "backgroundcolor": "#E5ECF6",
            "gridcolor": "white",
            "gridwidth": 2,
            "linecolor": "white",
            "showbackground": true,
            "ticks": "",
            "zerolinecolor": "white"
           },
           "zaxis": {
            "backgroundcolor": "#E5ECF6",
            "gridcolor": "white",
            "gridwidth": 2,
            "linecolor": "white",
            "showbackground": true,
            "ticks": "",
            "zerolinecolor": "white"
           }
          },
          "shapedefaults": {
           "line": {
            "color": "#2a3f5f"
           }
          },
          "ternary": {
           "aaxis": {
            "gridcolor": "white",
            "linecolor": "white",
            "ticks": ""
           },
           "baxis": {
            "gridcolor": "white",
            "linecolor": "white",
            "ticks": ""
           },
           "bgcolor": "#E5ECF6",
           "caxis": {
            "gridcolor": "white",
            "linecolor": "white",
            "ticks": ""
           }
          },
          "title": {
           "x": 0.05
          },
          "xaxis": {
           "automargin": true,
           "gridcolor": "white",
           "linecolor": "white",
           "ticks": "",
           "title": {
            "standoff": 15
           },
           "zerolinecolor": "white",
           "zerolinewidth": 2
          },
          "yaxis": {
           "automargin": true,
           "gridcolor": "white",
           "linecolor": "white",
           "ticks": "",
           "title": {
            "standoff": 15
           },
           "zerolinecolor": "white",
           "zerolinewidth": 2
          }
         }
        },
        "xaxis": {
         "anchor": "y",
         "domain": [
          0,
          1
         ],
         "title": {
          "text": "value"
         }
        },
        "yaxis": {
         "anchor": "x",
         "domain": [
          0,
          1
         ],
         "title": {
          "text": "count"
         }
        }
       }
      }
     },
     "metadata": {},
     "output_type": "display_data"
    }
   ],
   "source": [
    "px.histogram(y_test)"
   ]
  },
  {
   "cell_type": "code",
   "execution_count": 43,
   "id": "11d59faa",
   "metadata": {},
   "outputs": [
    {
     "data": {
      "text/html": [
       "<div>\n",
       "<style scoped>\n",
       "    .dataframe tbody tr th:only-of-type {\n",
       "        vertical-align: middle;\n",
       "    }\n",
       "\n",
       "    .dataframe tbody tr th {\n",
       "        vertical-align: top;\n",
       "    }\n",
       "\n",
       "    .dataframe thead th {\n",
       "        text-align: right;\n",
       "    }\n",
       "</style>\n",
       "<table border=\"1\" class=\"dataframe\">\n",
       "  <thead>\n",
       "    <tr style=\"text-align: right;\">\n",
       "      <th></th>\n",
       "      <th>title</th>\n",
       "      <th>documentFunction</th>\n",
       "    </tr>\n",
       "  </thead>\n",
       "  <tbody>\n",
       "    <tr>\n",
       "      <th>1</th>\n",
       "      <td>AI FOR INDUSTRY</td>\n",
       "      <td>strategy</td>\n",
       "    </tr>\n",
       "    <tr>\n",
       "      <th>2</th>\n",
       "      <td>AI SINGAPORE</td>\n",
       "      <td>strategy</td>\n",
       "    </tr>\n",
       "    <tr>\n",
       "      <th>3</th>\n",
       "      <td>WELSH LANGUAGE TECHNOLOGY ACTION PLAN</td>\n",
       "      <td>strategy</td>\n",
       "    </tr>\n",
       "    <tr>\n",
       "      <th>0</th>\n",
       "      <td>MATERIALS GENOME INITIATIVE</td>\n",
       "      <td>body or organization</td>\n",
       "    </tr>\n",
       "    <tr>\n",
       "      <th>5</th>\n",
       "      <td>KNOWLEDGE CENTRE FOR DATA AND SOCIETY</td>\n",
       "      <td>body or organization</td>\n",
       "    </tr>\n",
       "    <tr>\n",
       "      <th>6</th>\n",
       "      <td>ARTIFICIAL INTELLIGENCE AND TECHNOLOGY OFFICE</td>\n",
       "      <td>body or organization</td>\n",
       "    </tr>\n",
       "    <tr>\n",
       "      <th>31</th>\n",
       "      <td>AI BAROMETER</td>\n",
       "      <td>diagnosis</td>\n",
       "    </tr>\n",
       "    <tr>\n",
       "      <th>38</th>\n",
       "      <td>AI GRAND CHALLENGES</td>\n",
       "      <td>diagnosis</td>\n",
       "    </tr>\n",
       "    <tr>\n",
       "      <th>56</th>\n",
       "      <td>CIVIL LIABILITY REGIME FOR ARTIFICIAL INTELLIG...</td>\n",
       "      <td>diagnosis</td>\n",
       "    </tr>\n",
       "    <tr>\n",
       "      <th>18</th>\n",
       "      <td>AI ETHICS AND GOVERNANCE BODY OF KNOWLEDGE</td>\n",
       "      <td>principles</td>\n",
       "    </tr>\n",
       "    <tr>\n",
       "      <th>23</th>\n",
       "      <td>ETHICAL FRAMEWORK FOR ARTIFICIAL INTELLIGENCE ...</td>\n",
       "      <td>principles</td>\n",
       "    </tr>\n",
       "    <tr>\n",
       "      <th>39</th>\n",
       "      <td>DATA ETHICS AND AI GUIDANCE LANDSCAPE</td>\n",
       "      <td>principles</td>\n",
       "    </tr>\n",
       "    <tr>\n",
       "      <th>10</th>\n",
       "      <td>LAW ON ROAD TRAFFIC SAFETY (SELF-DRIVING CARS)</td>\n",
       "      <td>regulation</td>\n",
       "    </tr>\n",
       "    <tr>\n",
       "      <th>16</th>\n",
       "      <td>32ND AMENDMENT TO THE AUSTRIAN MOTOR VEHICLES ACT</td>\n",
       "      <td>regulation</td>\n",
       "    </tr>\n",
       "    <tr>\n",
       "      <th>20</th>\n",
       "      <td>NATIONAL REGULATION ON AUTOMATED DECISION-MAKING</td>\n",
       "      <td>regulation</td>\n",
       "    </tr>\n",
       "    <tr>\n",
       "      <th>17</th>\n",
       "      <td>RESOLUTION ON AUTOMATED DECISION-MAKING PROCESSES</td>\n",
       "      <td>pre-regulation</td>\n",
       "    </tr>\n",
       "    <tr>\n",
       "      <th>48</th>\n",
       "      <td>RESOLUTION ON AUTONOMOUS DRIVING IN EUROPEAN T...</td>\n",
       "      <td>pre-regulation</td>\n",
       "    </tr>\n",
       "    <tr>\n",
       "      <th>113</th>\n",
       "      <td>RESOLUTION ON DIGITISING EUROPEAN INDUSTRY</td>\n",
       "      <td>pre-regulation</td>\n",
       "    </tr>\n",
       "  </tbody>\n",
       "</table>\n",
       "</div>"
      ],
      "text/plain": [
       "                                                 title      documentFunction\n",
       "1                                      AI FOR INDUSTRY              strategy\n",
       "2                                         AI SINGAPORE              strategy\n",
       "3                WELSH LANGUAGE TECHNOLOGY ACTION PLAN              strategy\n",
       "0                          MATERIALS GENOME INITIATIVE  body or organization\n",
       "5                KNOWLEDGE CENTRE FOR DATA AND SOCIETY  body or organization\n",
       "6        ARTIFICIAL INTELLIGENCE AND TECHNOLOGY OFFICE  body or organization\n",
       "31                                        AI BAROMETER             diagnosis\n",
       "38                                 AI GRAND CHALLENGES             diagnosis\n",
       "56   CIVIL LIABILITY REGIME FOR ARTIFICIAL INTELLIG...             diagnosis\n",
       "18          AI ETHICS AND GOVERNANCE BODY OF KNOWLEDGE            principles\n",
       "23   ETHICAL FRAMEWORK FOR ARTIFICIAL INTELLIGENCE ...            principles\n",
       "39               DATA ETHICS AND AI GUIDANCE LANDSCAPE            principles\n",
       "10      LAW ON ROAD TRAFFIC SAFETY (SELF-DRIVING CARS)            regulation\n",
       "16   32ND AMENDMENT TO THE AUSTRIAN MOTOR VEHICLES ACT            regulation\n",
       "20    NATIONAL REGULATION ON AUTOMATED DECISION-MAKING            regulation\n",
       "17   RESOLUTION ON AUTOMATED DECISION-MAKING PROCESSES        pre-regulation\n",
       "48   RESOLUTION ON AUTONOMOUS DRIVING IN EUROPEAN T...        pre-regulation\n",
       "113         RESOLUTION ON DIGITISING EUROPEAN INDUSTRY        pre-regulation"
      ]
     },
     "execution_count": 43,
     "metadata": {},
     "output_type": "execute_result"
    }
   ],
   "source": [
    "df_=df[['title', 'documentFunction']]\n",
    "\n",
    "pd.concat([df_.query('documentFunction==\"strategy\"').head(3),\n",
    "df_.query('documentFunction==\"body or organization\"').head(3),\n",
    "df_.query('documentFunction==\"diagnosis\"').head(3),\n",
    "df_.query('documentFunction==\"principles\"').head(3),\n",
    "df_.query('documentFunction==\"regulation\"').head(3),\n",
    "df_.query('documentFunction==\"pre-regulation\"').head(3)])\n",
    "\n"
   ]
  },
  {
   "cell_type": "markdown",
   "id": "991daecf",
   "metadata": {},
   "source": [
    "## Baseline: argmax"
   ]
  },
  {
   "cell_type": "code",
   "execution_count": 7,
   "id": "8688bb83",
   "metadata": {},
   "outputs": [
    {
     "name": "stdout",
     "output_type": "stream",
     "text": [
      "TRAIN: 0.4189723320158103\n",
      "TEST: 0.4117647058823529\n"
     ]
    }
   ],
   "source": [
    "print(\"TRAIN:\",accuracy_score(df.documentFunction, ['strategy']*len(df)))\n",
    "print(\"TEST:\",accuracy_score(df_test.documentFunction, ['strategy']*len(df_test)))"
   ]
  },
  {
   "cell_type": "markdown",
   "id": "7b550054",
   "metadata": {},
   "source": [
    "## Baseline: logistic regression on BoW"
   ]
  },
  {
   "cell_type": "code",
   "execution_count": 8,
   "id": "4609431e",
   "metadata": {},
   "outputs": [],
   "source": [
    "def prep_lemmas(df):\n",
    "    lemmas = df.title.apply(nlp).apply(lambda d: [(t.lemma_).lower() for t in d if not t.is_stop])\n",
    "    lemmas_joined = lemmas.apply(lambda t: ' '.join(t))\n",
    "    return lemmas_joined\n",
    "\n",
    "nlp = spacy.load('en_core_web_sm')\n",
    "X = prep_lemmas(df)\n",
    "classifier = LogisticRegression(penalty=\"l2\", multi_class=\"multinomial\")\n",
    "\n",
    "pipeline = Pipeline(\n",
    "    [\n",
    "        (\"preprocessing\", CountVectorizer()),\n",
    "        (\"classifier\", LogisticRegression(penalty=\"l2\", multi_class=\"multinomial\")),\n",
    "    ]\n",
    ")\n",
    "\n",
    "pipeline = pipeline.fit(X, df.documentFunction)"
   ]
  },
  {
   "cell_type": "markdown",
   "id": "842411ee",
   "metadata": {},
   "source": [
    "#### Train acc"
   ]
  },
  {
   "cell_type": "code",
   "execution_count": 9,
   "id": "1a72f6ad",
   "metadata": {},
   "outputs": [
    {
     "data": {
      "text/plain": [
       "0.9881422924901185"
      ]
     },
     "execution_count": 9,
     "metadata": {},
     "output_type": "execute_result"
    }
   ],
   "source": [
    "y_pred = pipeline.predict(X)\n",
    "accuracy_score(y_train, y_pred)"
   ]
  },
  {
   "cell_type": "markdown",
   "id": "31fada4d",
   "metadata": {},
   "source": [
    "#### Test acc"
   ]
  },
  {
   "cell_type": "code",
   "execution_count": 10,
   "id": "5ade0c25",
   "metadata": {},
   "outputs": [
    {
     "data": {
      "text/plain": [
       "0.7176470588235294"
      ]
     },
     "execution_count": 10,
     "metadata": {},
     "output_type": "execute_result"
    }
   ],
   "source": [
    "X = prep_lemmas(df_test)\n",
    "\n",
    "y_pred = pipeline.predict(X)\n",
    "accuracy_score(y_test, y_pred)"
   ]
  },
  {
   "cell_type": "markdown",
   "id": "0efeb8c3",
   "metadata": {},
   "source": [
    "# TARS: zero shot"
   ]
  },
  {
   "cell_type": "code",
   "execution_count": 11,
   "id": "40251c76",
   "metadata": {},
   "outputs": [
    {
     "name": "stdout",
     "output_type": "stream",
     "text": [
      "2021-11-05 01:05:10,118 loading file /home/stanislaw/.flair/models/tars-base-v8.pt\n",
      "{'TREC_6': {'label_dictionary': <flair.data.Dictionary object at 0x7fabe5b08370>, 'multi_label': False, 'multi_label_threshold': 0.5, 'label_type': None, 'beta': 1.0}, 'DBPedia': {'label_dictionary': <flair.data.Dictionary object at 0x7fabe5b08070>, 'multi_label': False, 'multi_label_threshold': 0.5, 'label_type': None, 'beta': 1.0}, 'AGNews': {'label_dictionary': <flair.data.Dictionary object at 0x7fabe5b08850>, 'multi_label': False, 'multi_label_threshold': 0.5, 'label_type': None, 'beta': 1.0}, 'IMDB': {'label_dictionary': <flair.data.Dictionary object at 0x7fabe5b088b0>, 'multi_label': False, 'multi_label_threshold': 0.5, 'label_type': None, 'beta': 1.0}, 'SST': {'label_dictionary': <flair.data.Dictionary object at 0x7fabe5b08d00>, 'multi_label': False, 'multi_label_threshold': 0.5, 'label_type': None, 'beta': 1.0}, 'GO_EMOTIONS': {'label_dictionary': <flair.data.Dictionary object at 0x7fabe5b08310>, 'multi_label': True, 'multi_label_threshold': 0.5, 'label_type': None, 'beta': 1.0}, 'NEWS_CATEGORY': {'label_dictionary': <flair.data.Dictionary object at 0x7fabe5afc0d0>, 'multi_label': False, 'multi_label_threshold': 0.5, 'label_type': None, 'beta': 1.0}, 'Amazon': {'label_dictionary': <flair.data.Dictionary object at 0x7fabe4a97ca0>, 'multi_label': False, 'multi_label_threshold': 0.5, 'label_type': None, 'beta': 1.0}, 'Yelp': {'label_dictionary': <flair.data.Dictionary object at 0x7fabe5b08f40>, 'multi_label': False, 'multi_label_threshold': 0.5, 'label_type': None, 'beta': 1.0}}\n"
     ]
    }
   ],
   "source": [
    "tars = TARSClassifier.load('tars-base')\n",
    "def predict_zero_shot(titles, classes):\n",
    "    prepared = titles.apply(Sentence)\n",
    "    for title in prepared:\n",
    "        tars.predict_zero_shot(title, classes, multi_label=False)\n",
    "    return prepared\n",
    "    \n",
    "def get_predictions(sentences: pd.Series):\n",
    "    labels = sentences.apply(lambda s: sorted(s.labels, key=lambda l: l.score, reverse=True)[0].value)\n",
    "    scores = sentences.apply(lambda s: sorted(s.labels, key=lambda l: l.score, reverse=True)[0].score)\n",
    "    \n",
    "    return labels, scores"
   ]
  },
  {
   "cell_type": "code",
   "execution_count": 12,
   "id": "3042cc00",
   "metadata": {},
   "outputs": [
    {
     "data": {
      "text/plain": [
       "(['strategy, document describing actions that should be taken towards AI',\n",
       "  'document establishing AI-related body or organization',\n",
       "  'diagnosis, report, or other document describing the current state of AI',\n",
       "  'principles, sets of ethical rules regarding AI',\n",
       "  'legal regulation addressing AI',\n",
       "  'proposal of legal regulation addressing AI'],\n",
       " ['strategy',\n",
       "  'body or organization',\n",
       "  'diagnosis',\n",
       "  'principles',\n",
       "  'regulation',\n",
       "  'pre-regulation'])"
      ]
     },
     "execution_count": 12,
     "metadata": {},
     "output_type": "execute_result"
    }
   ],
   "source": [
    "classes = list(df_test.documentFunction.drop_duplicates())\n",
    "classes_long = list(df_test.docFunctionLong.drop_duplicates())\n",
    "classes_long,classes"
   ]
  },
  {
   "cell_type": "markdown",
   "id": "89782d70",
   "metadata": {},
   "source": [
    "## Zero shot: short labels"
   ]
  },
  {
   "cell_type": "code",
   "execution_count": 13,
   "id": "2ce9f8f2",
   "metadata": {},
   "outputs": [],
   "source": [
    "titles = predict_zero_shot(X_test, classes)\n",
    "pred, scores = get_predictions(titles)\n",
    "acc = accuracy_score(y_test, pred)"
   ]
  },
  {
   "cell_type": "code",
   "execution_count": 14,
   "id": "8306aaaa",
   "metadata": {},
   "outputs": [
    {
     "name": "stdout",
     "output_type": "stream",
     "text": [
      "0.4823529411764706\n"
     ]
    }
   ],
   "source": [
    "print(acc)"
   ]
  },
  {
   "cell_type": "code",
   "execution_count": 15,
   "id": "96316239",
   "metadata": {},
   "outputs": [
    {
     "data": {
      "image/png": "[encoded data removed]",
      "text/plain": [
       "<Figure size 432x288 with 1 Axes>"
      ]
     },
     "metadata": {
      "needs_background": "light"
     },
     "output_type": "display_data"
    }
   ],
   "source": [
    "ConfusionMatrixDisplay(\n",
    "    confusion_matrix(y_test, pred, labels=classes), display_labels=classes\n",
    ").plot(xticks_rotation=\"vertical\", cmap=plt.cm.Blues, colorbar=False)\n",
    "plt.show()\n"
   ]
  },
  {
   "cell_type": "markdown",
   "id": "3d1435aa",
   "metadata": {},
   "source": [
    "## Zero-shot with longer labels"
   ]
  },
  {
   "cell_type": "code",
   "execution_count": 16,
   "id": "d12eeaad",
   "metadata": {},
   "outputs": [
    {
     "data": {
      "text/plain": [
       "0.38823529411764707"
      ]
     },
     "execution_count": 16,
     "metadata": {},
     "output_type": "execute_result"
    }
   ],
   "source": [
    "titles = predict_zero_shot(X_test, y_test_long)\n",
    "pred_2, scores_2 = get_predictions(titles)\n",
    "accuracy_score(y_test_long, pred_2)"
   ]
  },
  {
   "cell_type": "code",
   "execution_count": 17,
   "id": "1ad87f2e",
   "metadata": {},
   "outputs": [
    {
     "data": {
      "image/png": "[encoded data removed]",
      "text/plain": [
       "<Figure size 432x288 with 1 Axes>"
      ]
     },
     "metadata": {
      "needs_background": "light"
     },
     "output_type": "display_data"
    }
   ],
   "source": [
    "ConfusionMatrixDisplay(\n",
    "    confusion_matrix(y_test_long, pred_2, labels=classes_long), display_labels=classes\n",
    ").plot(xticks_rotation=\"vertical\", cmap=plt.cm.Blues, colorbar=False)\n",
    "plt.show()"
   ]
  },
  {
   "cell_type": "code",
   "execution_count": 18,
   "id": "200bb6bd",
   "metadata": {},
   "outputs": [],
   "source": [
    "titles = predict_zero_shot(X_full, y_full)\n",
    "pred, scores = get_predictions(titles)\n",
    "\n",
    "\n",
    "titles = predict_zero_shot(X_full, y_full_long)\n",
    "pred_long, scores_long = get_predictions(titles)\n"
   ]
  },
  {
   "cell_type": "code",
   "execution_count": 19,
   "id": "a28674d5",
   "metadata": {},
   "outputs": [
    {
     "data": {
      "image/png": "[encoded data removed]",
      "text/plain": [
       "<Figure size 720x576 with 2 Axes>"
      ]
     },
     "metadata": {
      "needs_background": "light"
     },
     "output_type": "display_data"
    }
   ],
   "source": [
    "from matplotlib.pyplot import figure\n",
    "\n",
    "fig, ax = plt.subplots(1,2,figsize=(10, 8))\n",
    "ConfusionMatrixDisplay(\n",
    "    confusion_matrix(y_full, pred, labels=classes), display_labels=classes\n",
    ").plot(xticks_rotation=\"vertical\", cmap=plt.cm.Blues, colorbar=False,ax=ax[0])\n",
    "# ax = plt.subplot(122)\n",
    "ConfusionMatrixDisplay(\n",
    "    confusion_matrix(y_full_long, pred_long, labels=classes_long), display_labels=classes\n",
    ").plot(xticks_rotation=\"vertical\", cmap=plt.cm.Blues, colorbar=False,ax=ax[1])\n",
    "plt.tight_layout()\n",
    "\n",
    "plt.savefig('confusion_matrix.pdf')#, dpi=200)"
   ]
  },
  {
   "cell_type": "markdown",
   "id": "7c3862be",
   "metadata": {},
   "source": [
    "## TARS: few shot"
   ]
  },
  {
   "cell_type": "code",
   "execution_count": 20,
   "id": "b6ef6764",
   "metadata": {},
   "outputs": [],
   "source": [
    "def create_set(sentences: list, labels: list, label_name: str):\n",
    "    dataset = SentenceDataset(\n",
    "        [\n",
    "            Sentence(sent).add_label(label_name, label)\n",
    "            for sent, label in zip(sentences, labels)\n",
    "        ]\n",
    "    )\n",
    "    \n",
    "    return dataset\n",
    "\n",
    "\n",
    "def train_and_get_model(X_train, y_train, X_test, y_test,model_name):\n",
    "    tars = TARSClassifier.load('tars-base')\n",
    "\n",
    "    train_set = create_set(X_train, y_train, \"Document function\")\n",
    "    test_set = create_set(X_test, y_test, \"Document function\")\n",
    "    corpus = Corpus(train=train_set)\n",
    "    label_type = 'Document function'\n",
    "    label_dict = corpus.make_label_dictionary(label_type=label_type)\n",
    "\n",
    "    tars.add_and_switch_to_new_task(\"Document function classification\",label_dictionary=label_dict,label_type=label_type)\n",
    "    trainer = ModelTrainer(tars, corpus)\n",
    "    trainer.train(base_path=f'models/{model_name}', # path to store the model artifacts\n",
    "                learning_rate=0.02, # use very small learning rate\n",
    "                mini_batch_size=16, # small mini-batch size since corpus is tiny\n",
    "                max_epochs=10, # terminate after 10 epochs\n",
    "                train_with_dev=True,\n",
    "                )\n",
    "\n",
    "    trained = TARSClassifier.load(f'models/{model_name}/final-model.pt')\n",
    "    return trained"
   ]
  },
  {
   "cell_type": "code",
   "execution_count": 21,
   "id": "21e44099",
   "metadata": {},
   "outputs": [
    {
     "name": "stdout",
     "output_type": "stream",
     "text": [
      "2021-11-05 01:05:50,815 loading file /home/stanislaw/.flair/models/tars-base-v8.pt\n",
      "{'TREC_6': {'label_dictionary': <flair.data.Dictionary object at 0x7fabdc845460>, 'multi_label': False, 'multi_label_threshold': 0.5, 'label_type': None, 'beta': 1.0}, 'DBPedia': {'label_dictionary': <flair.data.Dictionary object at 0x7fabdc845490>, 'multi_label': False, 'multi_label_threshold': 0.5, 'label_type': None, 'beta': 1.0}, 'AGNews': {'label_dictionary': <flair.data.Dictionary object at 0x7fabdc845700>, 'multi_label': False, 'multi_label_threshold': 0.5, 'label_type': None, 'beta': 1.0}, 'IMDB': {'label_dictionary': <flair.data.Dictionary object at 0x7fabdc8457c0>, 'multi_label': False, 'multi_label_threshold': 0.5, 'label_type': None, 'beta': 1.0}, 'SST': {'label_dictionary': <flair.data.Dictionary object at 0x7fabdc845820>, 'multi_label': False, 'multi_label_threshold': 0.5, 'label_type': None, 'beta': 1.0}, 'GO_EMOTIONS': {'label_dictionary': <flair.data.Dictionary object at 0x7fabdc845880>, 'multi_label': True, 'multi_label_threshold': 0.5, 'label_type': None, 'beta': 1.0}, 'NEWS_CATEGORY': {'label_dictionary': <flair.data.Dictionary object at 0x7fabdc845df0>, 'multi_label': False, 'multi_label_threshold': 0.5, 'label_type': None, 'beta': 1.0}, 'Amazon': {'label_dictionary': <flair.data.Dictionary object at 0x7fabdc862610>, 'multi_label': False, 'multi_label_threshold': 0.5, 'label_type': None, 'beta': 1.0}, 'Yelp': {'label_dictionary': <flair.data.Dictionary object at 0x7fabdc845430>, 'multi_label': False, 'multi_label_threshold': 0.5, 'label_type': None, 'beta': 1.0}}\n",
      "2021-11-05 01:05:55,920 Computing label dictionary. Progress:\n"
     ]
    },
    {
     "name": "stderr",
     "output_type": "stream",
     "text": [
      "100%|██████████| 205/205 [00:00<00:00, 36921.69it/s]"
     ]
    },
    {
     "name": "stdout",
     "output_type": "stream",
     "text": [
      "2021-11-05 01:05:55,927 Corpus contains the labels: Document function (#205)\n",
      "2021-11-05 01:05:55,927 Created (for label 'Document function') Dictionary with 6 tags: body or organization, strategy, regulation, principles, diagnosis, pre-regulation\n",
      "2021-11-05 01:05:55,928 ----------------------------------------------------------------------------------------------------\n",
      "2021-11-05 01:05:55,930 Model: \"TARSClassifier(\n",
      "  (tars_model): TextClassifier(\n",
      "    (loss_function): CrossEntropyLoss()\n",
      "    (document_embeddings): TransformerDocumentEmbeddings(\n",
      "      (model): BertModel(\n",
      "        (embeddings): BertEmbeddings(\n",
      "          (word_embeddings): Embedding(30522, 768, padding_idx=0)\n",
      "          (position_embeddings): Embedding(512, 768)\n",
      "          (token_type_embeddings): Embedding(2, 768)\n",
      "          (LayerNorm): LayerNorm((768,), eps=1e-12, elementwise_affine=True)\n",
      "          (dropout): Dropout(p=0.1, inplace=False)\n",
      "        )\n",
      "        (encoder): BertEncoder(\n",
      "          (layer): ModuleList(\n",
      "            (0): BertLayer(\n",
      "              (attention): BertAttention(\n",
      "                (self): BertSelfAttention(\n",
      "                  (query): Linear(in_features=768, out_features=768, bias=True)\n",
      "                  (key): Linear(in_features=768, out_features=768, bias=True)\n",
      "                  (value): Linear(in_features=768, out_features=768, bias=True)\n",
      "                  (dropout): Dropout(p=0.1, inplace=False)\n",
      "                )\n",
      "                (output): BertSelfOutput(\n",
      "                  (dense): Linear(in_features=768, out_features=768, bias=True)\n",
      "                  (LayerNorm): LayerNorm((768,), eps=1e-12, elementwise_affine=True)\n",
      "                  (dropout): Dropout(p=0.1, inplace=False)\n",
      "                )\n",
      "              )\n",
      "              (intermediate): BertIntermediate(\n",
      "                (dense): Linear(in_features=768, out_features=3072, bias=True)\n",
      "              )\n",
      "              (output): BertOutput(\n",
      "                (dense): Linear(in_features=3072, out_features=768, bias=True)\n",
      "                (LayerNorm): LayerNorm((768,), eps=1e-12, elementwise_affine=True)\n",
      "                (dropout): Dropout(p=0.1, inplace=False)\n",
      "              )\n",
      "            )\n",
      "            (1): BertLayer(\n",
      "              (attention): BertAttention(\n",
      "                (self): BertSelfAttention(\n",
      "                  (query): Linear(in_features=768, out_features=768, bias=True)\n",
      "                  (key): Linear(in_features=768, out_features=768, bias=True)\n",
      "                  (value): Linear(in_features=768, out_features=768, bias=True)\n",
      "                  (dropout): Dropout(p=0.1, inplace=False)\n",
      "                )\n",
      "                (output): BertSelfOutput(\n",
      "                  (dense): Linear(in_features=768, out_features=768, bias=True)\n",
      "                  (LayerNorm): LayerNorm((768,), eps=1e-12, elementwise_affine=True)\n",
      "                  (dropout): Dropout(p=0.1, inplace=False)\n",
      "                )\n",
      "              )\n",
      "              (intermediate): BertIntermediate(\n",
      "                (dense): Linear(in_features=768, out_features=3072, bias=True)\n",
      "              )\n",
      "              (output): BertOutput(\n",
      "                (dense): Linear(in_features=3072, out_features=768, bias=True)\n",
      "                (LayerNorm): LayerNorm((768,), eps=1e-12, elementwise_affine=True)\n",
      "                (dropout): Dropout(p=0.1, inplace=False)\n",
      "              )\n",
      "            )\n",
      "            (2): BertLayer(\n",
      "              (attention): BertAttention(\n",
      "                (self): BertSelfAttention(\n",
      "                  (query): Linear(in_features=768, out_features=768, bias=True)\n",
      "                  (key): Linear(in_features=768, out_features=768, bias=True)\n",
      "                  (value): Linear(in_features=768, out_features=768, bias=True)\n",
      "                  (dropout): Dropout(p=0.1, inplace=False)\n",
      "                )\n",
      "                (output): BertSelfOutput(\n",
      "                  (dense): Linear(in_features=768, out_features=768, bias=True)\n",
      "                  (LayerNorm): LayerNorm((768,), eps=1e-12, elementwise_affine=True)\n",
      "                  (dropout): Dropout(p=0.1, inplace=False)\n",
      "                )\n",
      "              )\n",
      "              (intermediate): BertIntermediate(\n",
      "                (dense): Linear(in_features=768, out_features=3072, bias=True)\n",
      "              )\n",
      "              (output): BertOutput(\n",
      "                (dense): Linear(in_features=3072, out_features=768, bias=True)\n",
      "                (LayerNorm): LayerNorm((768,), eps=1e-12, elementwise_affine=True)\n",
      "                (dropout): Dropout(p=0.1, inplace=False)\n",
      "              )\n",
      "            )\n",
      "            (3): BertLayer(\n",
      "              (attention): BertAttention(\n",
      "                (self): BertSelfAttention(\n",
      "                  (query): Linear(in_features=768, out_features=768, bias=True)\n",
      "                  (key): Linear(in_features=768, out_features=768, bias=True)\n",
      "                  (value): Linear(in_features=768, out_features=768, bias=True)\n",
      "                  (dropout): Dropout(p=0.1, inplace=False)\n",
      "                )\n",
      "                (output): BertSelfOutput(\n",
      "                  (dense): Linear(in_features=768, out_features=768, bias=True)\n",
      "                  (LayerNorm): LayerNorm((768,), eps=1e-12, elementwise_affine=True)\n",
      "                  (dropout): Dropout(p=0.1, inplace=False)\n",
      "                )\n",
      "              )\n",
      "              (intermediate): BertIntermediate(\n",
      "                (dense): Linear(in_features=768, out_features=3072, bias=True)\n",
      "              )\n",
      "              (output): BertOutput(\n",
      "                (dense): Linear(in_features=3072, out_features=768, bias=True)\n",
      "                (LayerNorm): LayerNorm((768,), eps=1e-12, elementwise_affine=True)\n",
      "                (dropout): Dropout(p=0.1, inplace=False)\n",
      "              )\n",
      "            )\n",
      "            (4): BertLayer(\n",
      "              (attention): BertAttention(\n",
      "                (self): BertSelfAttention(\n",
      "                  (query): Linear(in_features=768, out_features=768, bias=True)\n",
      "                  (key): Linear(in_features=768, out_features=768, bias=True)\n",
      "                  (value): Linear(in_features=768, out_features=768, bias=True)\n",
      "                  (dropout): Dropout(p=0.1, inplace=False)\n",
      "                )\n",
      "                (output): BertSelfOutput(\n",
      "                  (dense): Linear(in_features=768, out_features=768, bias=True)\n",
      "                  (LayerNorm): LayerNorm((768,), eps=1e-12, elementwise_affine=True)\n",
      "                  (dropout): Dropout(p=0.1, inplace=False)\n",
      "                )\n",
      "              )\n",
      "              (intermediate): BertIntermediate(\n",
      "                (dense): Linear(in_features=768, out_features=3072, bias=True)\n",
      "              )\n",
      "              (output): BertOutput(\n",
      "                (dense): Linear(in_features=3072, out_features=768, bias=True)\n",
      "                (LayerNorm): LayerNorm((768,), eps=1e-12, elementwise_affine=True)\n",
      "                (dropout): Dropout(p=0.1, inplace=False)\n",
      "              )\n",
      "            )\n",
      "            (5): BertLayer(\n",
      "              (attention): BertAttention(\n",
      "                (self): BertSelfAttention(\n",
      "                  (query): Linear(in_features=768, out_features=768, bias=True)\n",
      "                  (key): Linear(in_features=768, out_features=768, bias=True)\n",
      "                  (value): Linear(in_features=768, out_features=768, bias=True)\n",
      "                  (dropout): Dropout(p=0.1, inplace=False)\n",
      "                )\n",
      "                (output): BertSelfOutput(\n",
      "                  (dense): Linear(in_features=768, out_features=768, bias=True)\n",
      "                  (LayerNorm): LayerNorm((768,), eps=1e-12, elementwise_affine=True)\n",
      "                  (dropout): Dropout(p=0.1, inplace=False)\n",
      "                )\n",
      "              )\n",
      "              (intermediate): BertIntermediate(\n",
      "                (dense): Linear(in_features=768, out_features=3072, bias=True)\n",
      "              )\n",
      "              (output): BertOutput(\n",
      "                (dense): Linear(in_features=3072, out_features=768, bias=True)\n",
      "                (LayerNorm): LayerNorm((768,), eps=1e-12, elementwise_affine=True)\n",
      "                (dropout): Dropout(p=0.1, inplace=False)\n",
      "              )\n",
      "            )\n",
      "            (6): BertLayer(\n",
      "              (attention): BertAttention(\n",
      "                (self): BertSelfAttention(\n",
      "                  (query): Linear(in_features=768, out_features=768, bias=True)\n",
      "                  (key): Linear(in_features=768, out_features=768, bias=True)\n",
      "                  (value): Linear(in_features=768, out_features=768, bias=True)\n",
      "                  (dropout): Dropout(p=0.1, inplace=False)\n",
      "                )\n",
      "                (output): BertSelfOutput(\n",
      "                  (dense): Linear(in_features=768, out_features=768, bias=True)\n",
      "                  (LayerNorm): LayerNorm((768,), eps=1e-12, elementwise_affine=True)\n",
      "                  (dropout): Dropout(p=0.1, inplace=False)\n",
      "                )\n",
      "              )\n",
      "              (intermediate): BertIntermediate(\n",
      "                (dense): Linear(in_features=768, out_features=3072, bias=True)\n",
      "              )\n",
      "              (output): BertOutput(\n",
      "                (dense): Linear(in_features=3072, out_features=768, bias=True)\n",
      "                (LayerNorm): LayerNorm((768,), eps=1e-12, elementwise_affine=True)\n",
      "                (dropout): Dropout(p=0.1, inplace=False)\n",
      "              )\n",
      "            )\n",
      "            (7): BertLayer(\n",
      "              (attention): BertAttention(\n",
      "                (self): BertSelfAttention(\n",
      "                  (query): Linear(in_features=768, out_features=768, bias=True)\n",
      "                  (key): Linear(in_features=768, out_features=768, bias=True)\n",
      "                  (value): Linear(in_features=768, out_features=768, bias=True)\n",
      "                  (dropout): Dropout(p=0.1, inplace=False)\n",
      "                )\n",
      "                (output): BertSelfOutput(\n",
      "                  (dense): Linear(in_features=768, out_features=768, bias=True)\n",
      "                  (LayerNorm): LayerNorm((768,), eps=1e-12, elementwise_affine=True)\n",
      "                  (dropout): Dropout(p=0.1, inplace=False)\n",
      "                )\n",
      "              )\n",
      "              (intermediate): BertIntermediate(\n",
      "                (dense): Linear(in_features=768, out_features=3072, bias=True)\n",
      "              )\n",
      "              (output): BertOutput(\n",
      "                (dense): Linear(in_features=3072, out_features=768, bias=True)\n",
      "                (LayerNorm): LayerNorm((768,), eps=1e-12, elementwise_affine=True)\n",
      "                (dropout): Dropout(p=0.1, inplace=False)\n",
      "              )\n",
      "            )\n",
      "            (8): BertLayer(\n",
      "              (attention): BertAttention(\n",
      "                (self): BertSelfAttention(\n",
      "                  (query): Linear(in_features=768, out_features=768, bias=True)\n",
      "                  (key): Linear(in_features=768, out_features=768, bias=True)\n",
      "                  (value): Linear(in_features=768, out_features=768, bias=True)\n",
      "                  (dropout): Dropout(p=0.1, inplace=False)\n",
      "                )\n",
      "                (output): BertSelfOutput(\n",
      "                  (dense): Linear(in_features=768, out_features=768, bias=True)\n",
      "                  (LayerNorm): LayerNorm((768,), eps=1e-12, elementwise_affine=True)\n",
      "                  (dropout): Dropout(p=0.1, inplace=False)\n",
      "                )\n",
      "              )\n",
      "              (intermediate): BertIntermediate(\n",
      "                (dense): Linear(in_features=768, out_features=3072, bias=True)\n",
      "              )\n",
      "              (output): BertOutput(\n",
      "                (dense): Linear(in_features=3072, out_features=768, bias=True)\n",
      "                (LayerNorm): LayerNorm((768,), eps=1e-12, elementwise_affine=True)\n",
      "                (dropout): Dropout(p=0.1, inplace=False)\n",
      "              )\n",
      "            )\n",
      "            (9): BertLayer(\n",
      "              (attention): BertAttention(\n",
      "                (self): BertSelfAttention(\n",
      "                  (query): Linear(in_features=768, out_features=768, bias=True)\n",
      "                  (key): Linear(in_features=768, out_features=768, bias=True)\n",
      "                  (value): Linear(in_features=768, out_features=768, bias=True)\n",
      "                  (dropout): Dropout(p=0.1, inplace=False)\n",
      "                )\n",
      "                (output): BertSelfOutput(\n",
      "                  (dense): Linear(in_features=768, out_features=768, bias=True)\n",
      "                  (LayerNorm): LayerNorm((768,), eps=1e-12, elementwise_affine=True)\n",
      "                  (dropout): Dropout(p=0.1, inplace=False)\n",
      "                )\n",
      "              )\n",
      "              (intermediate): BertIntermediate(\n",
      "                (dense): Linear(in_features=768, out_features=3072, bias=True)\n",
      "              )\n",
      "              (output): BertOutput(\n",
      "                (dense): Linear(in_features=3072, out_features=768, bias=True)\n",
      "                (LayerNorm): LayerNorm((768,), eps=1e-12, elementwise_affine=True)\n",
      "                (dropout): Dropout(p=0.1, inplace=False)\n",
      "              )\n",
      "            )\n",
      "            (10): BertLayer(\n",
      "              (attention): BertAttention(\n",
      "                (self): BertSelfAttention(\n",
      "                  (query): Linear(in_features=768, out_features=768, bias=True)\n",
      "                  (key): Linear(in_features=768, out_features=768, bias=True)\n",
      "                  (value): Linear(in_features=768, out_features=768, bias=True)\n",
      "                  (dropout): Dropout(p=0.1, inplace=False)\n",
      "                )\n",
      "                (output): BertSelfOutput(\n",
      "                  (dense): Linear(in_features=768, out_features=768, bias=True)\n",
      "                  (LayerNorm): LayerNorm((768,), eps=1e-12, elementwise_affine=True)\n",
      "                  (dropout): Dropout(p=0.1, inplace=False)\n",
      "                )\n",
      "              )\n",
      "              (intermediate): BertIntermediate(\n",
      "                (dense): Linear(in_features=768, out_features=3072, bias=True)\n",
      "              )\n",
      "              (output): BertOutput(\n",
      "                (dense): Linear(in_features=3072, out_features=768, bias=True)\n",
      "                (LayerNorm): LayerNorm((768,), eps=1e-12, elementwise_affine=True)\n",
      "                (dropout): Dropout(p=0.1, inplace=False)\n",
      "              )\n",
      "            )\n",
      "            (11): BertLayer(\n",
      "              (attention): BertAttention(\n",
      "                (self): BertSelfAttention(\n",
      "                  (query): Linear(in_features=768, out_features=768, bias=True)\n",
      "                  (key): Linear(in_features=768, out_features=768, bias=True)\n",
      "                  (value): Linear(in_features=768, out_features=768, bias=True)\n",
      "                  (dropout): Dropout(p=0.1, inplace=False)\n",
      "                )\n",
      "                (output): BertSelfOutput(\n",
      "                  (dense): Linear(in_features=768, out_features=768, bias=True)\n",
      "                  (LayerNorm): LayerNorm((768,), eps=1e-12, elementwise_affine=True)\n",
      "                  (dropout): Dropout(p=0.1, inplace=False)\n",
      "                )\n",
      "              )\n",
      "              (intermediate): BertIntermediate(\n",
      "                (dense): Linear(in_features=768, out_features=3072, bias=True)\n",
      "              )\n",
      "              (output): BertOutput(\n",
      "                (dense): Linear(in_features=3072, out_features=768, bias=True)\n",
      "                (LayerNorm): LayerNorm((768,), eps=1e-12, elementwise_affine=True)\n",
      "                (dropout): Dropout(p=0.1, inplace=False)\n",
      "              )\n",
      "            )\n",
      "          )\n",
      "        )\n",
      "        (pooler): BertPooler(\n",
      "          (dense): Linear(in_features=768, out_features=768, bias=True)\n",
      "          (activation): Tanh()\n",
      "        )\n",
      "      )\n",
      "    )\n",
      "    (decoder): Linear(in_features=768, out_features=2, bias=True)\n",
      "  )\n",
      ")\"\n",
      "2021-11-05 01:05:55,930 ----------------------------------------------------------------------------------------------------\n",
      "2021-11-05 01:05:55,930 Corpus: \"Corpus: 205 train + 23 dev + 25 test sentences\"\n",
      "2021-11-05 01:05:55,931 ----------------------------------------------------------------------------------------------------\n",
      "2021-11-05 01:05:55,931 Parameters:\n",
      "2021-11-05 01:05:55,931  - learning_rate: \"0.02\"\n",
      "2021-11-05 01:05:55,931  - mini_batch_size: \"16\"\n",
      "2021-11-05 01:05:55,932  - patience: \"3\"\n",
      "2021-11-05 01:05:55,932  - anneal_factor: \"0.5\"\n",
      "2021-11-05 01:05:55,932  - max_epochs: \"10\"\n",
      "2021-11-05 01:05:55,933  - shuffle: \"True\"\n",
      "2021-11-05 01:05:55,933  - train_with_dev: \"True\"\n",
      "2021-11-05 01:05:55,933  - batch_growth_annealing: \"False\"\n",
      "2021-11-05 01:05:55,933 ----------------------------------------------------------------------------------------------------\n",
      "2021-11-05 01:05:55,934 Model training base path: \"models/base\"\n",
      "2021-11-05 01:05:55,934 ----------------------------------------------------------------------------------------------------\n",
      "2021-11-05 01:05:55,934 Device: cuda:0\n",
      "2021-11-05 01:05:55,934 ----------------------------------------------------------------------------------------------------\n",
      "2021-11-05 01:05:55,935 Embeddings storage mode: cpu\n",
      "2021-11-05 01:05:55,938 ----------------------------------------------------------------------------------------------------\n",
      "2021-11-05 01:05:56,066 epoch 1 - iter 1/15 - loss 0.01887218 - samples/sec: 143.58 - lr: 0.020000\n"
     ]
    },
    {
     "name": "stderr",
     "output_type": "stream",
     "text": [
      "\n"
     ]
    },
    {
     "name": "stdout",
     "output_type": "stream",
     "text": [
      "2021-11-05 01:05:56,230 epoch 1 - iter 2/15 - loss 0.01829961 - samples/sec: 97.92 - lr: 0.020000\n",
      "2021-11-05 01:05:56,341 epoch 1 - iter 3/15 - loss 0.01661840 - samples/sec: 145.11 - lr: 0.020000\n",
      "2021-11-05 01:05:56,463 epoch 1 - iter 4/15 - loss 0.01588357 - samples/sec: 132.50 - lr: 0.020000\n",
      "2021-11-05 01:05:56,577 epoch 1 - iter 5/15 - loss 0.01476383 - samples/sec: 141.42 - lr: 0.020000\n",
      "2021-11-05 01:05:56,712 epoch 1 - iter 6/15 - loss 0.01463976 - samples/sec: 118.62 - lr: 0.020000\n",
      "2021-11-05 01:05:56,830 epoch 1 - iter 7/15 - loss 0.01370380 - samples/sec: 137.40 - lr: 0.020000\n",
      "2021-11-05 01:05:56,936 epoch 1 - iter 8/15 - loss 0.01312879 - samples/sec: 151.75 - lr: 0.020000\n",
      "2021-11-05 01:05:57,038 epoch 1 - iter 9/15 - loss 0.01301665 - samples/sec: 158.29 - lr: 0.020000\n",
      "2021-11-05 01:05:57,144 epoch 1 - iter 10/15 - loss 0.01254864 - samples/sec: 151.76 - lr: 0.020000\n",
      "2021-11-05 01:05:57,289 epoch 1 - iter 11/15 - loss 0.01257931 - samples/sec: 110.92 - lr: 0.020000\n",
      "2021-11-05 01:05:57,414 epoch 1 - iter 12/15 - loss 0.01249478 - samples/sec: 128.46 - lr: 0.020000\n",
      "2021-11-05 01:05:57,510 epoch 1 - iter 13/15 - loss 0.01228626 - samples/sec: 168.65 - lr: 0.020000\n",
      "2021-11-05 01:05:57,614 epoch 1 - iter 14/15 - loss 0.01207934 - samples/sec: 154.82 - lr: 0.020000\n",
      "2021-11-05 01:05:57,669 epoch 1 - iter 15/15 - loss 0.01229154 - samples/sec: 291.46 - lr: 0.020000\n",
      "2021-11-05 01:05:57,670 ----------------------------------------------------------------------------------------------------\n",
      "2021-11-05 01:05:57,671 EPOCH 1 done: loss 0.0123 - lr 0.0200000\n",
      "2021-11-05 01:05:57,671 BAD EPOCHS (no improvement): 0\n",
      "2021-11-05 01:05:57,672 ----------------------------------------------------------------------------------------------------\n",
      "2021-11-05 01:05:57,813 epoch 2 - iter 1/15 - loss 0.00781730 - samples/sec: 124.51 - lr: 0.020000\n",
      "2021-11-05 01:05:57,941 epoch 2 - iter 2/15 - loss 0.00701326 - samples/sec: 126.38 - lr: 0.020000\n",
      "2021-11-05 01:05:58,068 epoch 2 - iter 3/15 - loss 0.00662584 - samples/sec: 126.05 - lr: 0.020000\n",
      "2021-11-05 01:05:58,174 epoch 2 - iter 4/15 - loss 0.00664219 - samples/sec: 153.23 - lr: 0.020000\n",
      "2021-11-05 01:05:58,277 epoch 2 - iter 5/15 - loss 0.00725414 - samples/sec: 155.93 - lr: 0.020000\n",
      "2021-11-05 01:05:58,414 epoch 2 - iter 6/15 - loss 0.00768057 - samples/sec: 117.74 - lr: 0.020000\n",
      "2021-11-05 01:05:58,591 epoch 2 - iter 7/15 - loss 0.00787415 - samples/sec: 91.03 - lr: 0.020000\n",
      "2021-11-05 01:05:58,719 epoch 2 - iter 8/15 - loss 0.00761154 - samples/sec: 126.16 - lr: 0.020000\n",
      "2021-11-05 01:05:58,818 epoch 2 - iter 9/15 - loss 0.00738945 - samples/sec: 163.54 - lr: 0.020000\n",
      "2021-11-05 01:05:58,906 epoch 2 - iter 10/15 - loss 0.00736252 - samples/sec: 183.57 - lr: 0.020000\n",
      "2021-11-05 01:05:59,057 epoch 2 - iter 11/15 - loss 0.00737963 - samples/sec: 106.77 - lr: 0.020000\n",
      "2021-11-05 01:05:59,170 epoch 2 - iter 12/15 - loss 0.00730470 - samples/sec: 142.58 - lr: 0.020000\n",
      "2021-11-05 01:05:59,287 epoch 2 - iter 13/15 - loss 0.00717177 - samples/sec: 137.67 - lr: 0.020000\n",
      "2021-11-05 01:05:59,446 epoch 2 - iter 14/15 - loss 0.00713460 - samples/sec: 100.76 - lr: 0.020000\n",
      "2021-11-05 01:05:59,499 epoch 2 - iter 15/15 - loss 0.00739610 - samples/sec: 306.70 - lr: 0.020000\n",
      "2021-11-05 01:05:59,500 ----------------------------------------------------------------------------------------------------\n",
      "2021-11-05 01:05:59,501 EPOCH 2 done: loss 0.0074 - lr 0.0200000\n",
      "2021-11-05 01:05:59,501 BAD EPOCHS (no improvement): 0\n",
      "2021-11-05 01:05:59,502 ----------------------------------------------------------------------------------------------------\n",
      "2021-11-05 01:05:59,621 epoch 3 - iter 1/15 - loss 0.00820759 - samples/sec: 157.66 - lr: 0.020000\n",
      "2021-11-05 01:05:59,764 epoch 3 - iter 2/15 - loss 0.00599976 - samples/sec: 113.34 - lr: 0.020000\n",
      "2021-11-05 01:05:59,876 epoch 3 - iter 3/15 - loss 0.00562878 - samples/sec: 143.73 - lr: 0.020000\n",
      "2021-11-05 01:05:59,995 epoch 3 - iter 4/15 - loss 0.00503693 - samples/sec: 135.81 - lr: 0.020000\n",
      "2021-11-05 01:06:00,101 epoch 3 - iter 5/15 - loss 0.00482325 - samples/sec: 151.20 - lr: 0.020000\n",
      "2021-11-05 01:06:00,196 epoch 3 - iter 6/15 - loss 0.00499583 - samples/sec: 171.54 - lr: 0.020000\n",
      "2021-11-05 01:06:00,292 epoch 3 - iter 7/15 - loss 0.00514485 - samples/sec: 167.67 - lr: 0.020000\n",
      "2021-11-05 01:06:00,427 epoch 3 - iter 8/15 - loss 0.00534527 - samples/sec: 119.08 - lr: 0.020000\n",
      "2021-11-05 01:06:00,511 epoch 3 - iter 9/15 - loss 0.00525166 - samples/sec: 191.68 - lr: 0.020000\n",
      "2021-11-05 01:06:00,601 epoch 3 - iter 10/15 - loss 0.00512318 - samples/sec: 178.74 - lr: 0.020000\n",
      "2021-11-05 01:06:00,694 epoch 3 - iter 11/15 - loss 0.00520635 - samples/sec: 174.65 - lr: 0.020000\n",
      "2021-11-05 01:06:00,818 epoch 3 - iter 12/15 - loss 0.00514478 - samples/sec: 129.43 - lr: 0.020000\n",
      "2021-11-05 01:06:00,919 epoch 3 - iter 13/15 - loss 0.00495276 - samples/sec: 159.80 - lr: 0.020000\n",
      "2021-11-05 01:06:01,034 epoch 3 - iter 14/15 - loss 0.00493612 - samples/sec: 140.38 - lr: 0.020000\n",
      "2021-11-05 01:06:01,077 epoch 3 - iter 15/15 - loss 0.00501446 - samples/sec: 375.42 - lr: 0.020000\n",
      "2021-11-05 01:06:01,078 ----------------------------------------------------------------------------------------------------\n",
      "2021-11-05 01:06:01,079 EPOCH 3 done: loss 0.0050 - lr 0.0200000\n",
      "2021-11-05 01:06:01,079 BAD EPOCHS (no improvement): 0\n",
      "2021-11-05 01:06:01,079 ----------------------------------------------------------------------------------------------------\n",
      "2021-11-05 01:06:01,214 epoch 4 - iter 1/15 - loss 0.00339774 - samples/sec: 129.07 - lr: 0.020000\n",
      "2021-11-05 01:06:01,304 epoch 4 - iter 2/15 - loss 0.00298530 - samples/sec: 177.20 - lr: 0.020000\n",
      "2021-11-05 01:06:01,394 epoch 4 - iter 3/15 - loss 0.00265721 - samples/sec: 180.27 - lr: 0.020000\n",
      "2021-11-05 01:06:01,486 epoch 4 - iter 4/15 - loss 0.00267397 - samples/sec: 175.49 - lr: 0.020000\n",
      "2021-11-05 01:06:01,593 epoch 4 - iter 5/15 - loss 0.00254816 - samples/sec: 149.75 - lr: 0.020000\n",
      "2021-11-05 01:06:01,716 epoch 4 - iter 6/15 - loss 0.00279257 - samples/sec: 130.79 - lr: 0.020000\n",
      "2021-11-05 01:06:01,821 epoch 4 - iter 7/15 - loss 0.00268678 - samples/sec: 153.94 - lr: 0.020000\n",
      "2021-11-05 01:06:01,911 epoch 4 - iter 8/15 - loss 0.00267263 - samples/sec: 177.56 - lr: 0.020000\n",
      "2021-11-05 01:06:02,024 epoch 4 - iter 9/15 - loss 0.00281761 - samples/sec: 142.42 - lr: 0.020000\n",
      "2021-11-05 01:06:02,115 epoch 4 - iter 10/15 - loss 0.00292616 - samples/sec: 178.57 - lr: 0.020000\n",
      "2021-11-05 01:06:02,200 epoch 4 - iter 11/15 - loss 0.00291544 - samples/sec: 188.20 - lr: 0.020000\n",
      "2021-11-05 01:06:02,294 epoch 4 - iter 12/15 - loss 0.00290845 - samples/sec: 172.53 - lr: 0.020000\n",
      "2021-11-05 01:06:02,428 epoch 4 - iter 13/15 - loss 0.00299322 - samples/sec: 120.27 - lr: 0.020000\n",
      "2021-11-05 01:06:02,524 epoch 4 - iter 14/15 - loss 0.00299142 - samples/sec: 166.94 - lr: 0.020000\n",
      "2021-11-05 01:06:02,561 epoch 4 - iter 15/15 - loss 0.00340565 - samples/sec: 446.43 - lr: 0.020000\n",
      "2021-11-05 01:06:02,562 ----------------------------------------------------------------------------------------------------\n",
      "2021-11-05 01:06:02,562 EPOCH 4 done: loss 0.0034 - lr 0.0200000\n",
      "2021-11-05 01:06:02,563 BAD EPOCHS (no improvement): 0\n",
      "2021-11-05 01:06:02,564 ----------------------------------------------------------------------------------------------------\n",
      "2021-11-05 01:06:02,674 epoch 5 - iter 1/15 - loss 0.00336313 - samples/sec: 167.36 - lr: 0.020000\n",
      "2021-11-05 01:06:02,783 epoch 5 - iter 2/15 - loss 0.00307869 - samples/sec: 147.30 - lr: 0.020000\n",
      "2021-11-05 01:06:02,911 epoch 5 - iter 3/15 - loss 0.00295972 - samples/sec: 125.38 - lr: 0.020000\n",
      "2021-11-05 01:06:02,995 epoch 5 - iter 4/15 - loss 0.00313101 - samples/sec: 191.84 - lr: 0.020000\n",
      "2021-11-05 01:06:03,090 epoch 5 - iter 5/15 - loss 0.00301706 - samples/sec: 169.73 - lr: 0.020000\n",
      "2021-11-05 01:06:03,213 epoch 5 - iter 6/15 - loss 0.00409669 - samples/sec: 131.71 - lr: 0.020000\n",
      "2021-11-05 01:06:03,297 epoch 5 - iter 7/15 - loss 0.00382179 - samples/sec: 191.23 - lr: 0.020000\n",
      "2021-11-05 01:06:03,411 epoch 5 - iter 8/15 - loss 0.00381881 - samples/sec: 141.15 - lr: 0.020000\n",
      "2021-11-05 01:06:03,504 epoch 5 - iter 9/15 - loss 0.00356499 - samples/sec: 173.96 - lr: 0.020000\n",
      "2021-11-05 01:06:03,628 epoch 5 - iter 10/15 - loss 0.00342762 - samples/sec: 129.56 - lr: 0.020000\n",
      "2021-11-05 01:06:03,734 epoch 5 - iter 11/15 - loss 0.00350564 - samples/sec: 152.04 - lr: 0.020000\n",
      "2021-11-05 01:06:03,831 epoch 5 - iter 12/15 - loss 0.00373161 - samples/sec: 166.08 - lr: 0.020000\n",
      "2021-11-05 01:06:03,930 epoch 5 - iter 13/15 - loss 0.00362693 - samples/sec: 162.96 - lr: 0.020000\n",
      "2021-11-05 01:06:04,045 epoch 5 - iter 14/15 - loss 0.00346006 - samples/sec: 139.49 - lr: 0.020000\n",
      "2021-11-05 01:06:04,090 epoch 5 - iter 15/15 - loss 0.00386099 - samples/sec: 366.51 - lr: 0.020000\n",
      "2021-11-05 01:06:04,091 ----------------------------------------------------------------------------------------------------\n",
      "2021-11-05 01:06:04,091 EPOCH 5 done: loss 0.0039 - lr 0.0200000\n",
      "2021-11-05 01:06:04,091 BAD EPOCHS (no improvement): 1\n",
      "2021-11-05 01:06:04,092 ----------------------------------------------------------------------------------------------------\n",
      "2021-11-05 01:06:04,197 epoch 6 - iter 1/15 - loss 0.00293827 - samples/sec: 176.97 - lr: 0.020000\n",
      "2021-11-05 01:06:04,290 epoch 6 - iter 2/15 - loss 0.00216079 - samples/sec: 174.28 - lr: 0.020000\n",
      "2021-11-05 01:06:04,389 epoch 6 - iter 3/15 - loss 0.00225027 - samples/sec: 162.94 - lr: 0.020000\n",
      "2021-11-05 01:06:04,482 epoch 6 - iter 4/15 - loss 0.00195471 - samples/sec: 173.57 - lr: 0.020000\n",
      "2021-11-05 01:06:04,579 epoch 6 - iter 5/15 - loss 0.00184526 - samples/sec: 166.03 - lr: 0.020000\n",
      "2021-11-05 01:06:04,703 epoch 6 - iter 6/15 - loss 0.00189026 - samples/sec: 129.30 - lr: 0.020000\n",
      "2021-11-05 01:06:04,805 epoch 6 - iter 7/15 - loss 0.00194297 - samples/sec: 157.40 - lr: 0.020000\n",
      "2021-11-05 01:06:04,891 epoch 6 - iter 8/15 - loss 0.00197252 - samples/sec: 188.42 - lr: 0.020000\n",
      "2021-11-05 01:06:05,005 epoch 6 - iter 9/15 - loss 0.00217182 - samples/sec: 141.16 - lr: 0.020000\n",
      "2021-11-05 01:06:05,099 epoch 6 - iter 10/15 - loss 0.00217967 - samples/sec: 171.06 - lr: 0.020000\n",
      "2021-11-05 01:06:05,232 epoch 6 - iter 11/15 - loss 0.00229337 - samples/sec: 120.72 - lr: 0.020000\n",
      "2021-11-05 01:06:05,324 epoch 6 - iter 12/15 - loss 0.00235545 - samples/sec: 176.13 - lr: 0.020000\n",
      "2021-11-05 01:06:05,444 epoch 6 - iter 13/15 - loss 0.00231356 - samples/sec: 134.53 - lr: 0.020000\n",
      "2021-11-05 01:06:05,557 epoch 6 - iter 14/15 - loss 0.00232335 - samples/sec: 141.68 - lr: 0.020000\n",
      "2021-11-05 01:06:05,600 epoch 6 - iter 15/15 - loss 0.00241136 - samples/sec: 381.20 - lr: 0.020000\n",
      "2021-11-05 01:06:05,601 ----------------------------------------------------------------------------------------------------\n",
      "2021-11-05 01:06:05,601 EPOCH 6 done: loss 0.0024 - lr 0.0200000\n",
      "2021-11-05 01:06:05,602 BAD EPOCHS (no improvement): 0\n",
      "2021-11-05 01:06:05,603 ----------------------------------------------------------------------------------------------------\n",
      "2021-11-05 01:06:05,748 epoch 7 - iter 1/15 - loss 0.00115947 - samples/sec: 121.78 - lr: 0.020000\n",
      "2021-11-05 01:06:05,840 epoch 7 - iter 2/15 - loss 0.00101533 - samples/sec: 173.84 - lr: 0.020000\n",
      "2021-11-05 01:06:05,932 epoch 7 - iter 3/15 - loss 0.00105719 - samples/sec: 177.00 - lr: 0.020000\n",
      "2021-11-05 01:06:06,021 epoch 7 - iter 4/15 - loss 0.00105191 - samples/sec: 180.71 - lr: 0.020000\n",
      "2021-11-05 01:06:06,118 epoch 7 - iter 5/15 - loss 0.00091376 - samples/sec: 165.71 - lr: 0.020000\n",
      "2021-11-05 01:06:06,230 epoch 7 - iter 6/15 - loss 0.00092288 - samples/sec: 143.26 - lr: 0.020000\n",
      "2021-11-05 01:06:06,326 epoch 7 - iter 7/15 - loss 0.00094277 - samples/sec: 168.03 - lr: 0.020000\n",
      "2021-11-05 01:06:06,452 epoch 7 - iter 8/15 - loss 0.00107152 - samples/sec: 127.36 - lr: 0.020000\n",
      "2021-11-05 01:06:06,563 epoch 7 - iter 9/15 - loss 0.00128216 - samples/sec: 146.26 - lr: 0.020000\n",
      "2021-11-05 01:06:06,655 epoch 7 - iter 10/15 - loss 0.00135718 - samples/sec: 174.28 - lr: 0.020000\n",
      "2021-11-05 01:06:06,750 epoch 7 - iter 11/15 - loss 0.00125875 - samples/sec: 169.45 - lr: 0.020000\n",
      "2021-11-05 01:06:06,874 epoch 7 - iter 12/15 - loss 0.00118571 - samples/sec: 130.25 - lr: 0.020000\n",
      "2021-11-05 01:06:06,964 epoch 7 - iter 13/15 - loss 0.00123605 - samples/sec: 177.72 - lr: 0.020000\n",
      "2021-11-05 01:06:07,074 epoch 7 - iter 14/15 - loss 0.00125139 - samples/sec: 146.67 - lr: 0.020000\n",
      "2021-11-05 01:06:07,116 epoch 7 - iter 15/15 - loss 0.00123742 - samples/sec: 382.46 - lr: 0.020000\n",
      "2021-11-05 01:06:07,117 ----------------------------------------------------------------------------------------------------\n",
      "2021-11-05 01:06:07,118 EPOCH 7 done: loss 0.0012 - lr 0.0200000\n",
      "2021-11-05 01:06:07,118 BAD EPOCHS (no improvement): 0\n",
      "2021-11-05 01:06:07,119 ----------------------------------------------------------------------------------------------------\n",
      "2021-11-05 01:06:07,254 epoch 8 - iter 1/15 - loss 0.00088523 - samples/sec: 131.67 - lr: 0.020000\n",
      "2021-11-05 01:06:07,355 epoch 8 - iter 2/15 - loss 0.00090034 - samples/sec: 159.25 - lr: 0.020000\n",
      "2021-11-05 01:06:07,465 epoch 8 - iter 3/15 - loss 0.00120449 - samples/sec: 146.15 - lr: 0.020000\n",
      "2021-11-05 01:06:07,555 epoch 8 - iter 4/15 - loss 0.00094135 - samples/sec: 177.86 - lr: 0.020000\n",
      "2021-11-05 01:06:07,682 epoch 8 - iter 5/15 - loss 0.00110995 - samples/sec: 127.00 - lr: 0.020000\n",
      "2021-11-05 01:06:07,778 epoch 8 - iter 6/15 - loss 0.00167042 - samples/sec: 168.16 - lr: 0.020000\n",
      "2021-11-05 01:06:07,888 epoch 8 - iter 7/15 - loss 0.00170801 - samples/sec: 146.43 - lr: 0.020000\n",
      "2021-11-05 01:06:07,985 epoch 8 - iter 8/15 - loss 0.00164027 - samples/sec: 165.03 - lr: 0.020000\n",
      "2021-11-05 01:06:08,098 epoch 8 - iter 9/15 - loss 0.00172813 - samples/sec: 142.00 - lr: 0.020000\n",
      "2021-11-05 01:06:08,190 epoch 8 - iter 10/15 - loss 0.00168885 - samples/sec: 175.29 - lr: 0.020000\n",
      "2021-11-05 01:06:08,283 epoch 8 - iter 11/15 - loss 0.00173372 - samples/sec: 173.09 - lr: 0.020000\n",
      "2021-11-05 01:06:08,358 epoch 8 - iter 12/15 - loss 0.00162569 - samples/sec: 217.09 - lr: 0.020000\n",
      "2021-11-05 01:06:08,443 epoch 8 - iter 13/15 - loss 0.00163601 - samples/sec: 189.67 - lr: 0.020000\n",
      "2021-11-05 01:06:08,532 epoch 8 - iter 14/15 - loss 0.00202742 - samples/sec: 181.35 - lr: 0.020000\n",
      "2021-11-05 01:06:08,570 epoch 8 - iter 15/15 - loss 0.00200529 - samples/sec: 430.20 - lr: 0.020000\n",
      "2021-11-05 01:06:08,571 ----------------------------------------------------------------------------------------------------\n",
      "2021-11-05 01:06:08,571 EPOCH 8 done: loss 0.0020 - lr 0.0200000\n",
      "2021-11-05 01:06:08,571 BAD EPOCHS (no improvement): 1\n",
      "2021-11-05 01:06:08,572 ----------------------------------------------------------------------------------------------------\n",
      "2021-11-05 01:06:08,697 epoch 9 - iter 1/15 - loss 0.00163791 - samples/sec: 140.00 - lr: 0.020000\n",
      "2021-11-05 01:06:08,828 epoch 9 - iter 2/15 - loss 0.00114491 - samples/sec: 122.26 - lr: 0.020000\n",
      "2021-11-05 01:06:08,943 epoch 9 - iter 3/15 - loss 0.00088417 - samples/sec: 140.26 - lr: 0.020000\n",
      "2021-11-05 01:06:09,066 epoch 9 - iter 4/15 - loss 0.00076481 - samples/sec: 130.47 - lr: 0.020000\n",
      "2021-11-05 01:06:09,152 epoch 9 - iter 5/15 - loss 0.00069401 - samples/sec: 188.54 - lr: 0.020000\n",
      "2021-11-05 01:06:09,245 epoch 9 - iter 6/15 - loss 0.00060167 - samples/sec: 173.39 - lr: 0.020000\n",
      "2021-11-05 01:06:09,331 epoch 9 - iter 7/15 - loss 0.00079652 - samples/sec: 186.78 - lr: 0.020000\n",
      "2021-11-05 01:06:09,445 epoch 9 - iter 8/15 - loss 0.00087817 - samples/sec: 141.61 - lr: 0.020000\n",
      "2021-11-05 01:06:09,554 epoch 9 - iter 9/15 - loss 0.00080151 - samples/sec: 146.81 - lr: 0.020000\n",
      "2021-11-05 01:06:09,649 epoch 9 - iter 10/15 - loss 0.00074742 - samples/sec: 169.68 - lr: 0.020000\n",
      "2021-11-05 01:06:09,747 epoch 9 - iter 11/15 - loss 0.00071060 - samples/sec: 165.49 - lr: 0.020000\n",
      "2021-11-05 01:06:09,847 epoch 9 - iter 12/15 - loss 0.00070387 - samples/sec: 160.66 - lr: 0.020000\n",
      "2021-11-05 01:06:09,934 epoch 9 - iter 13/15 - loss 0.00068084 - samples/sec: 185.62 - lr: 0.020000\n",
      "2021-11-05 01:06:10,033 epoch 9 - iter 14/15 - loss 0.00073585 - samples/sec: 161.94 - lr: 0.020000\n",
      "2021-11-05 01:06:10,073 epoch 9 - iter 15/15 - loss 0.00072824 - samples/sec: 405.63 - lr: 0.020000\n",
      "2021-11-05 01:06:10,074 ----------------------------------------------------------------------------------------------------\n",
      "2021-11-05 01:06:10,075 EPOCH 9 done: loss 0.0007 - lr 0.0200000\n",
      "2021-11-05 01:06:10,075 BAD EPOCHS (no improvement): 0\n",
      "2021-11-05 01:06:10,076 ----------------------------------------------------------------------------------------------------\n",
      "2021-11-05 01:06:10,188 epoch 10 - iter 1/15 - loss 0.00088530 - samples/sec: 157.30 - lr: 0.020000\n",
      "2021-11-05 01:06:10,298 epoch 10 - iter 2/15 - loss 0.00049538 - samples/sec: 146.79 - lr: 0.020000\n",
      "2021-11-05 01:06:10,419 epoch 10 - iter 3/15 - loss 0.00077966 - samples/sec: 132.87 - lr: 0.020000\n",
      "2021-11-05 01:06:10,514 epoch 10 - iter 4/15 - loss 0.00090279 - samples/sec: 169.01 - lr: 0.020000\n",
      "2021-11-05 01:06:10,646 epoch 10 - iter 5/15 - loss 0.00075507 - samples/sec: 121.68 - lr: 0.020000\n",
      "2021-11-05 01:06:10,758 epoch 10 - iter 6/15 - loss 0.00093955 - samples/sec: 144.00 - lr: 0.020000\n",
      "2021-11-05 01:06:10,849 epoch 10 - iter 7/15 - loss 0.00142300 - samples/sec: 177.59 - lr: 0.020000\n",
      "2021-11-05 01:06:10,938 epoch 10 - iter 8/15 - loss 0.00132101 - samples/sec: 180.12 - lr: 0.020000\n",
      "2021-11-05 01:06:11,035 epoch 10 - iter 9/15 - loss 0.00121328 - samples/sec: 166.94 - lr: 0.020000\n",
      "2021-11-05 01:06:11,132 epoch 10 - iter 10/15 - loss 0.00120548 - samples/sec: 164.65 - lr: 0.020000\n",
      "2021-11-05 01:06:11,225 epoch 10 - iter 11/15 - loss 0.00117634 - samples/sec: 174.88 - lr: 0.020000\n",
      "2021-11-05 01:06:11,337 epoch 10 - iter 12/15 - loss 0.00114601 - samples/sec: 142.70 - lr: 0.020000\n",
      "2021-11-05 01:06:11,458 epoch 10 - iter 13/15 - loss 0.00116744 - samples/sec: 133.02 - lr: 0.020000\n",
      "2021-11-05 01:06:11,549 epoch 10 - iter 14/15 - loss 0.00111422 - samples/sec: 178.36 - lr: 0.020000\n",
      "2021-11-05 01:06:11,594 epoch 10 - iter 15/15 - loss 0.00109768 - samples/sec: 360.61 - lr: 0.020000\n",
      "2021-11-05 01:06:11,595 ----------------------------------------------------------------------------------------------------\n",
      "2021-11-05 01:06:11,595 EPOCH 10 done: loss 0.0011 - lr 0.0200000\n",
      "2021-11-05 01:06:11,595 BAD EPOCHS (no improvement): 1\n",
      "2021-11-05 01:06:12,830 ----------------------------------------------------------------------------------------------------\n",
      "2021-11-05 01:06:12,832 Testing using last state of model ...\n",
      "2021-11-05 01:06:13,686 0.1667\t1.0\t0.2857\t0.0\n",
      "2021-11-05 01:06:13,686 \n",
      "Results:\n",
      "- F-score (micro) 0.2857\n",
      "- F-score (macro) 0.2627\n",
      "- Accuracy 0.0\n",
      "\n",
      "By class:\n",
      "                      precision    recall  f1-score   support\n",
      "\n",
      "body or organization     0.4400    1.0000    0.6111        11\n",
      "            strategy     0.2400    1.0000    0.3871         6\n",
      "           diagnosis     0.1600    1.0000    0.2759         4\n",
      "          regulation     0.0800    1.0000    0.1481         2\n",
      "      pre-regulation     0.0400    1.0000    0.0769         1\n",
      "          principles     0.0400    1.0000    0.0769         1\n",
      "\n",
      "           micro avg     0.1667    1.0000    0.2857        25\n",
      "           macro avg     0.1667    1.0000    0.2627        25\n",
      "        weighted avg     0.2864    1.0000    0.4239        25\n",
      "         samples avg     0.1667    1.0000    0.2857        25\n",
      "\n",
      "2021-11-05 01:06:13,686 ----------------------------------------------------------------------------------------------------\n",
      "2021-11-05 01:06:13,687 loading file models/base/final-model.pt\n",
      "{'TREC_6': {'label_dictionary': <flair.data.Dictionary object at 0x7fabe2836760>, 'multi_label': False, 'multi_label_threshold': 0.5, 'label_type': None, 'beta': 1.0}, 'DBPedia': {'label_dictionary': <flair.data.Dictionary object at 0x7fabe2836ee0>, 'multi_label': False, 'multi_label_threshold': 0.5, 'label_type': None, 'beta': 1.0}, 'AGNews': {'label_dictionary': <flair.data.Dictionary object at 0x7fabe2836be0>, 'multi_label': False, 'multi_label_threshold': 0.5, 'label_type': None, 'beta': 1.0}, 'IMDB': {'label_dictionary': <flair.data.Dictionary object at 0x7fabe2836d90>, 'multi_label': False, 'multi_label_threshold': 0.5, 'label_type': None, 'beta': 1.0}, 'SST': {'label_dictionary': <flair.data.Dictionary object at 0x7fabe2836280>, 'multi_label': False, 'multi_label_threshold': 0.5, 'label_type': None, 'beta': 1.0}, 'GO_EMOTIONS': {'label_dictionary': <flair.data.Dictionary object at 0x7fabe28368e0>, 'multi_label': True, 'multi_label_threshold': 0.5, 'label_type': None, 'beta': 1.0}, 'NEWS_CATEGORY': {'label_dictionary': <flair.data.Dictionary object at 0x7fabe2836df0>, 'multi_label': False, 'multi_label_threshold': 0.5, 'label_type': None, 'beta': 1.0}, 'Amazon': {'label_dictionary': <flair.data.Dictionary object at 0x7fabe2842700>, 'multi_label': False, 'multi_label_threshold': 0.5, 'label_type': None, 'beta': 1.0}, 'Yelp': {'label_dictionary': <flair.data.Dictionary object at 0x7fabe28426a0>, 'multi_label': False, 'multi_label_threshold': 0.5, 'label_type': None, 'beta': 1.0}, 'Document function classification': {'label_dictionary': <flair.data.Dictionary object at 0x7fabd640a280>, 'label_type': 'Document function'}}\n"
     ]
    }
   ],
   "source": [
    "trained_base = train_and_get_model(X_train, y_train, X_test, y_test, \"base\")\n",
    "\n",
    "\n",
    "test_sents = X_test.apply(Sentence)\n",
    "trained_base.predict(list(test_sents))\n",
    "pred, scores = get_predictions(test_sents)\n",
    "acc = accuracy_score(y_test, pred)"
   ]
  },
  {
   "cell_type": "code",
   "execution_count": 22,
   "id": "523eacdd",
   "metadata": {},
   "outputs": [
    {
     "name": "stdout",
     "output_type": "stream",
     "text": [
      "TEST ACC: 0.8705882352941177\n"
     ]
    }
   ],
   "source": [
    "print(\"TEST ACC:\",acc)"
   ]
  },
  {
   "cell_type": "code",
   "execution_count": 29,
   "id": "513af02a",
   "metadata": {},
   "outputs": [],
   "source": [
    "def get_probs(sents):\n",
    "    all_probs=[]\n",
    "\n",
    "    for s in sents:\n",
    "        probs = dict()\n",
    "        for l in s.labels:\n",
    "            probs[l.value]=l.score\n",
    "        all_probs.append(probs)\n",
    "    return pd.DataFrame(all_probs)"
   ]
  },
  {
   "cell_type": "code",
   "execution_count": 30,
   "id": "c7796baa",
   "metadata": {},
   "outputs": [
    {
     "name": "stderr",
     "output_type": "stream",
     "text": [
      "/home/stanislaw/repos/TARSPolicyClassification/.venv/lib/python3.8/site-packages/sklearn/metrics/_ranking.py:999: UndefinedMetricWarning:\n",
      "\n",
      "No positive samples in y_true, true positive value should be meaningless\n",
      "\n",
      "/home/stanislaw/repos/TARSPolicyClassification/.venv/lib/python3.8/site-packages/sklearn/metrics/_ranking.py:999: UndefinedMetricWarning:\n",
      "\n",
      "No positive samples in y_true, true positive value should be meaningless\n",
      "\n",
      "/home/stanislaw/repos/TARSPolicyClassification/.venv/lib/python3.8/site-packages/sklearn/metrics/_ranking.py:999: UndefinedMetricWarning:\n",
      "\n",
      "No positive samples in y_true, true positive value should be meaningless\n",
      "\n",
      "/home/stanislaw/repos/TARSPolicyClassification/.venv/lib/python3.8/site-packages/sklearn/metrics/_ranking.py:999: UndefinedMetricWarning:\n",
      "\n",
      "No positive samples in y_true, true positive value should be meaningless\n",
      "\n",
      "/home/stanislaw/repos/TARSPolicyClassification/.venv/lib/python3.8/site-packages/sklearn/metrics/_ranking.py:999: UndefinedMetricWarning:\n",
      "\n",
      "No positive samples in y_true, true positive value should be meaningless\n",
      "\n",
      "/home/stanislaw/repos/TARSPolicyClassification/.venv/lib/python3.8/site-packages/sklearn/metrics/_ranking.py:999: UndefinedMetricWarning:\n",
      "\n",
      "No positive samples in y_true, true positive value should be meaningless\n",
      "\n"
     ]
    },
    {
     "data": {
      "image/png": "[encoded data removed]",
      "text/plain": [
       "<Figure size 720x576 with 1 Axes>"
      ]
     },
     "metadata": {
      "needs_background": "light"
     },
     "output_type": "display_data"
    }
   ],
   "source": [
    "probs = get_probs(test_sents)\n",
    "figure(figsize=(10, 8))\n",
    "for label in probs.columns:\n",
    "    fpr, tpr, _ = metrics.roc_curve(y_test==label, probs[label])\n",
    "    plt.plot(fpr,tpr,label=label)\n",
    "plt.legend(loc=4)\n",
    "plt.show()"
   ]
  },
  {
   "cell_type": "code",
   "execution_count": 31,
   "id": "3441b057",
   "metadata": {},
   "outputs": [
    {
     "data": {
      "image/png": "[encoded data removed]",
      "text/plain": [
       "<Figure size 432x288 with 1 Axes>"
      ]
     },
     "metadata": {
      "needs_background": "light"
     },
     "output_type": "display_data"
    }
   ],
   "source": [
    "labels = y_test.unique()\n",
    "ConfusionMatrixDisplay(\n",
    "    confusion_matrix(y_test, pred, labels=labels), display_labels=labels\n",
    ").plot(xticks_rotation=\"vertical\", cmap=plt.cm.Blues, colorbar=False)\n",
    "plt.tight_layout()\n",
    "plt.savefig('confusion_matrix.pdf')#, dpi=200)"
   ]
  },
  {
   "cell_type": "markdown",
   "id": "576d6951",
   "metadata": {},
   "source": [
    "# Long labels"
   ]
  },
  {
   "cell_type": "code",
   "execution_count": 26,
   "id": "ecdd28c2",
   "metadata": {},
   "outputs": [
    {
     "name": "stdout",
     "output_type": "stream",
     "text": [
      "2021-11-05 01:06:22,292 loading file /home/stanislaw/.flair/models/tars-base-v8.pt\n",
      "{'TREC_6': {'label_dictionary': <flair.data.Dictionary object at 0x7fabd14b3d30>, 'multi_label': False, 'multi_label_threshold': 0.5, 'label_type': None, 'beta': 1.0}, 'DBPedia': {'label_dictionary': <flair.data.Dictionary object at 0x7fabd14b3d60>, 'multi_label': False, 'multi_label_threshold': 0.5, 'label_type': None, 'beta': 1.0}, 'AGNews': {'label_dictionary': <flair.data.Dictionary object at 0x7fabe21da280>, 'multi_label': False, 'multi_label_threshold': 0.5, 'label_type': None, 'beta': 1.0}, 'IMDB': {'label_dictionary': <flair.data.Dictionary object at 0x7fabe21da100>, 'multi_label': False, 'multi_label_threshold': 0.5, 'label_type': None, 'beta': 1.0}, 'SST': {'label_dictionary': <flair.data.Dictionary object at 0x7fabe21dafa0>, 'multi_label': False, 'multi_label_threshold': 0.5, 'label_type': None, 'beta': 1.0}, 'GO_EMOTIONS': {'label_dictionary': <flair.data.Dictionary object at 0x7fabe21da0d0>, 'multi_label': True, 'multi_label_threshold': 0.5, 'label_type': None, 'beta': 1.0}, 'NEWS_CATEGORY': {'label_dictionary': <flair.data.Dictionary object at 0x7fabe21b9c70>, 'multi_label': False, 'multi_label_threshold': 0.5, 'label_type': None, 'beta': 1.0}, 'Amazon': {'label_dictionary': <flair.data.Dictionary object at 0x7fabe21cde80>, 'multi_label': False, 'multi_label_threshold': 0.5, 'label_type': None, 'beta': 1.0}, 'Yelp': {'label_dictionary': <flair.data.Dictionary object at 0x7fabe2768ac0>, 'multi_label': False, 'multi_label_threshold': 0.5, 'label_type': None, 'beta': 1.0}}\n",
      "2021-11-05 01:06:27,176 Computing label dictionary. Progress:\n"
     ]
    },
    {
     "name": "stderr",
     "output_type": "stream",
     "text": [
      "100%|██████████| 205/205 [00:00<00:00, 40038.76it/s]"
     ]
    },
    {
     "name": "stdout",
     "output_type": "stream",
     "text": [
      "2021-11-05 01:06:27,184 Corpus contains the labels: Document function (#205)\n",
      "2021-11-05 01:06:27,185 Created (for label 'Document function') Dictionary with 6 tags: document establishing AI-related body or organization, strategy, document describing actions that should be taken towards AI, legal regulation addressing AI, proposal of legal regulation addressing AI, principles, sets of ethical rules regarding AI, diagnosis, report, or other document describing the current state of AI\n",
      "2021-11-05 01:06:27,186 ----------------------------------------------------------------------------------------------------\n",
      "2021-11-05 01:06:27,187 Model: \"TARSClassifier(\n",
      "  (tars_model): TextClassifier(\n",
      "    (loss_function): CrossEntropyLoss()\n",
      "    (document_embeddings): TransformerDocumentEmbeddings(\n",
      "      (model): BertModel(\n",
      "        (embeddings): BertEmbeddings(\n",
      "          (word_embeddings): Embedding(30522, 768, padding_idx=0)\n",
      "          (position_embeddings): Embedding(512, 768)\n",
      "          (token_type_embeddings): Embedding(2, 768)\n",
      "          (LayerNorm): LayerNorm((768,), eps=1e-12, elementwise_affine=True)\n",
      "          (dropout): Dropout(p=0.1, inplace=False)\n",
      "        )\n",
      "        (encoder): BertEncoder(\n",
      "          (layer): ModuleList(\n",
      "            (0): BertLayer(\n",
      "              (attention): BertAttention(\n",
      "                (self): BertSelfAttention(\n",
      "                  (query): Linear(in_features=768, out_features=768, bias=True)\n",
      "                  (key): Linear(in_features=768, out_features=768, bias=True)\n",
      "                  (value): Linear(in_features=768, out_features=768, bias=True)\n",
      "                  (dropout): Dropout(p=0.1, inplace=False)\n",
      "                )\n",
      "                (output): BertSelfOutput(\n",
      "                  (dense): Linear(in_features=768, out_features=768, bias=True)\n",
      "                  (LayerNorm): LayerNorm((768,), eps=1e-12, elementwise_affine=True)\n",
      "                  (dropout): Dropout(p=0.1, inplace=False)\n",
      "                )\n",
      "              )\n",
      "              (intermediate): BertIntermediate(\n",
      "                (dense): Linear(in_features=768, out_features=3072, bias=True)\n",
      "              )\n",
      "              (output): BertOutput(\n",
      "                (dense): Linear(in_features=3072, out_features=768, bias=True)\n",
      "                (LayerNorm): LayerNorm((768,), eps=1e-12, elementwise_affine=True)\n",
      "                (dropout): Dropout(p=0.1, inplace=False)\n",
      "              )\n",
      "            )\n",
      "            (1): BertLayer(\n",
      "              (attention): BertAttention(\n",
      "                (self): BertSelfAttention(\n",
      "                  (query): Linear(in_features=768, out_features=768, bias=True)\n",
      "                  (key): Linear(in_features=768, out_features=768, bias=True)\n",
      "                  (value): Linear(in_features=768, out_features=768, bias=True)\n",
      "                  (dropout): Dropout(p=0.1, inplace=False)\n",
      "                )\n",
      "                (output): BertSelfOutput(\n",
      "                  (dense): Linear(in_features=768, out_features=768, bias=True)\n",
      "                  (LayerNorm): LayerNorm((768,), eps=1e-12, elementwise_affine=True)\n",
      "                  (dropout): Dropout(p=0.1, inplace=False)\n",
      "                )\n",
      "              )\n",
      "              (intermediate): BertIntermediate(\n",
      "                (dense): Linear(in_features=768, out_features=3072, bias=True)\n",
      "              )\n",
      "              (output): BertOutput(\n",
      "                (dense): Linear(in_features=3072, out_features=768, bias=True)\n",
      "                (LayerNorm): LayerNorm((768,), eps=1e-12, elementwise_affine=True)\n",
      "                (dropout): Dropout(p=0.1, inplace=False)\n",
      "              )\n",
      "            )\n",
      "            (2): BertLayer(\n",
      "              (attention): BertAttention(\n",
      "                (self): BertSelfAttention(\n",
      "                  (query): Linear(in_features=768, out_features=768, bias=True)\n",
      "                  (key): Linear(in_features=768, out_features=768, bias=True)\n",
      "                  (value): Linear(in_features=768, out_features=768, bias=True)\n",
      "                  (dropout): Dropout(p=0.1, inplace=False)\n",
      "                )\n",
      "                (output): BertSelfOutput(\n",
      "                  (dense): Linear(in_features=768, out_features=768, bias=True)\n",
      "                  (LayerNorm): LayerNorm((768,), eps=1e-12, elementwise_affine=True)\n",
      "                  (dropout): Dropout(p=0.1, inplace=False)\n",
      "                )\n",
      "              )\n",
      "              (intermediate): BertIntermediate(\n",
      "                (dense): Linear(in_features=768, out_features=3072, bias=True)\n",
      "              )\n",
      "              (output): BertOutput(\n",
      "                (dense): Linear(in_features=3072, out_features=768, bias=True)\n",
      "                (LayerNorm): LayerNorm((768,), eps=1e-12, elementwise_affine=True)\n",
      "                (dropout): Dropout(p=0.1, inplace=False)\n",
      "              )\n",
      "            )\n",
      "            (3): BertLayer(\n",
      "              (attention): BertAttention(\n",
      "                (self): BertSelfAttention(\n",
      "                  (query): Linear(in_features=768, out_features=768, bias=True)\n",
      "                  (key): Linear(in_features=768, out_features=768, bias=True)\n",
      "                  (value): Linear(in_features=768, out_features=768, bias=True)\n",
      "                  (dropout): Dropout(p=0.1, inplace=False)\n",
      "                )\n",
      "                (output): BertSelfOutput(\n",
      "                  (dense): Linear(in_features=768, out_features=768, bias=True)\n",
      "                  (LayerNorm): LayerNorm((768,), eps=1e-12, elementwise_affine=True)\n",
      "                  (dropout): Dropout(p=0.1, inplace=False)\n",
      "                )\n",
      "              )\n",
      "              (intermediate): BertIntermediate(\n",
      "                (dense): Linear(in_features=768, out_features=3072, bias=True)\n",
      "              )\n",
      "              (output): BertOutput(\n",
      "                (dense): Linear(in_features=3072, out_features=768, bias=True)\n",
      "                (LayerNorm): LayerNorm((768,), eps=1e-12, elementwise_affine=True)\n",
      "                (dropout): Dropout(p=0.1, inplace=False)\n",
      "              )\n",
      "            )\n",
      "            (4): BertLayer(\n",
      "              (attention): BertAttention(\n",
      "                (self): BertSelfAttention(\n",
      "                  (query): Linear(in_features=768, out_features=768, bias=True)\n",
      "                  (key): Linear(in_features=768, out_features=768, bias=True)\n",
      "                  (value): Linear(in_features=768, out_features=768, bias=True)\n",
      "                  (dropout): Dropout(p=0.1, inplace=False)\n",
      "                )\n",
      "                (output): BertSelfOutput(\n",
      "                  (dense): Linear(in_features=768, out_features=768, bias=True)\n",
      "                  (LayerNorm): LayerNorm((768,), eps=1e-12, elementwise_affine=True)\n",
      "                  (dropout): Dropout(p=0.1, inplace=False)\n",
      "                )\n",
      "              )\n",
      "              (intermediate): BertIntermediate(\n",
      "                (dense): Linear(in_features=768, out_features=3072, bias=True)\n",
      "              )\n",
      "              (output): BertOutput(\n",
      "                (dense): Linear(in_features=3072, out_features=768, bias=True)\n",
      "                (LayerNorm): LayerNorm((768,), eps=1e-12, elementwise_affine=True)\n",
      "                (dropout): Dropout(p=0.1, inplace=False)\n",
      "              )\n",
      "            )\n",
      "            (5): BertLayer(\n",
      "              (attention): BertAttention(\n",
      "                (self): BertSelfAttention(\n",
      "                  (query): Linear(in_features=768, out_features=768, bias=True)\n",
      "                  (key): Linear(in_features=768, out_features=768, bias=True)\n",
      "                  (value): Linear(in_features=768, out_features=768, bias=True)\n",
      "                  (dropout): Dropout(p=0.1, inplace=False)\n",
      "                )\n",
      "                (output): BertSelfOutput(\n",
      "                  (dense): Linear(in_features=768, out_features=768, bias=True)\n",
      "                  (LayerNorm): LayerNorm((768,), eps=1e-12, elementwise_affine=True)\n",
      "                  (dropout): Dropout(p=0.1, inplace=False)\n",
      "                )\n",
      "              )\n",
      "              (intermediate): BertIntermediate(\n",
      "                (dense): Linear(in_features=768, out_features=3072, bias=True)\n",
      "              )\n",
      "              (output): BertOutput(\n",
      "                (dense): Linear(in_features=3072, out_features=768, bias=True)\n",
      "                (LayerNorm): LayerNorm((768,), eps=1e-12, elementwise_affine=True)\n",
      "                (dropout): Dropout(p=0.1, inplace=False)\n",
      "              )\n",
      "            )\n",
      "            (6): BertLayer(\n",
      "              (attention): BertAttention(\n",
      "                (self): BertSelfAttention(\n",
      "                  (query): Linear(in_features=768, out_features=768, bias=True)\n",
      "                  (key): Linear(in_features=768, out_features=768, bias=True)\n",
      "                  (value): Linear(in_features=768, out_features=768, bias=True)\n",
      "                  (dropout): Dropout(p=0.1, inplace=False)\n",
      "                )\n",
      "                (output): BertSelfOutput(\n",
      "                  (dense): Linear(in_features=768, out_features=768, bias=True)\n",
      "                  (LayerNorm): LayerNorm((768,), eps=1e-12, elementwise_affine=True)\n",
      "                  (dropout): Dropout(p=0.1, inplace=False)\n",
      "                )\n",
      "              )\n",
      "              (intermediate): BertIntermediate(\n",
      "                (dense): Linear(in_features=768, out_features=3072, bias=True)\n",
      "              )\n",
      "              (output): BertOutput(\n",
      "                (dense): Linear(in_features=3072, out_features=768, bias=True)\n",
      "                (LayerNorm): LayerNorm((768,), eps=1e-12, elementwise_affine=True)\n",
      "                (dropout): Dropout(p=0.1, inplace=False)\n",
      "              )\n",
      "            )\n",
      "            (7): BertLayer(\n",
      "              (attention): BertAttention(\n",
      "                (self): BertSelfAttention(\n",
      "                  (query): Linear(in_features=768, out_features=768, bias=True)\n",
      "                  (key): Linear(in_features=768, out_features=768, bias=True)\n",
      "                  (value): Linear(in_features=768, out_features=768, bias=True)\n",
      "                  (dropout): Dropout(p=0.1, inplace=False)\n",
      "                )\n",
      "                (output): BertSelfOutput(\n",
      "                  (dense): Linear(in_features=768, out_features=768, bias=True)\n",
      "                  (LayerNorm): LayerNorm((768,), eps=1e-12, elementwise_affine=True)\n",
      "                  (dropout): Dropout(p=0.1, inplace=False)\n",
      "                )\n",
      "              )\n",
      "              (intermediate): BertIntermediate(\n",
      "                (dense): Linear(in_features=768, out_features=3072, bias=True)\n",
      "              )\n",
      "              (output): BertOutput(\n",
      "                (dense): Linear(in_features=3072, out_features=768, bias=True)\n",
      "                (LayerNorm): LayerNorm((768,), eps=1e-12, elementwise_affine=True)\n",
      "                (dropout): Dropout(p=0.1, inplace=False)\n",
      "              )\n",
      "            )\n",
      "            (8): BertLayer(\n",
      "              (attention): BertAttention(\n",
      "                (self): BertSelfAttention(\n",
      "                  (query): Linear(in_features=768, out_features=768, bias=True)\n",
      "                  (key): Linear(in_features=768, out_features=768, bias=True)\n",
      "                  (value): Linear(in_features=768, out_features=768, bias=True)\n",
      "                  (dropout): Dropout(p=0.1, inplace=False)\n",
      "                )\n",
      "                (output): BertSelfOutput(\n",
      "                  (dense): Linear(in_features=768, out_features=768, bias=True)\n",
      "                  (LayerNorm): LayerNorm((768,), eps=1e-12, elementwise_affine=True)\n",
      "                  (dropout): Dropout(p=0.1, inplace=False)\n",
      "                )\n",
      "              )\n",
      "              (intermediate): BertIntermediate(\n",
      "                (dense): Linear(in_features=768, out_features=3072, bias=True)\n",
      "              )\n",
      "              (output): BertOutput(\n",
      "                (dense): Linear(in_features=3072, out_features=768, bias=True)\n",
      "                (LayerNorm): LayerNorm((768,), eps=1e-12, elementwise_affine=True)\n",
      "                (dropout): Dropout(p=0.1, inplace=False)\n",
      "              )\n",
      "            )\n",
      "            (9): BertLayer(\n",
      "              (attention): BertAttention(\n",
      "                (self): BertSelfAttention(\n",
      "                  (query): Linear(in_features=768, out_features=768, bias=True)\n",
      "                  (key): Linear(in_features=768, out_features=768, bias=True)\n",
      "                  (value): Linear(in_features=768, out_features=768, bias=True)\n",
      "                  (dropout): Dropout(p=0.1, inplace=False)\n",
      "                )\n",
      "                (output): BertSelfOutput(\n",
      "                  (dense): Linear(in_features=768, out_features=768, bias=True)\n",
      "                  (LayerNorm): LayerNorm((768,), eps=1e-12, elementwise_affine=True)\n",
      "                  (dropout): Dropout(p=0.1, inplace=False)\n",
      "                )\n",
      "              )\n",
      "              (intermediate): BertIntermediate(\n",
      "                (dense): Linear(in_features=768, out_features=3072, bias=True)\n",
      "              )\n",
      "              (output): BertOutput(\n",
      "                (dense): Linear(in_features=3072, out_features=768, bias=True)\n",
      "                (LayerNorm): LayerNorm((768,), eps=1e-12, elementwise_affine=True)\n",
      "                (dropout): Dropout(p=0.1, inplace=False)\n",
      "              )\n",
      "            )\n",
      "            (10): BertLayer(\n",
      "              (attention): BertAttention(\n",
      "                (self): BertSelfAttention(\n",
      "                  (query): Linear(in_features=768, out_features=768, bias=True)\n",
      "                  (key): Linear(in_features=768, out_features=768, bias=True)\n",
      "                  (value): Linear(in_features=768, out_features=768, bias=True)\n",
      "                  (dropout): Dropout(p=0.1, inplace=False)\n",
      "                )\n",
      "                (output): BertSelfOutput(\n",
      "                  (dense): Linear(in_features=768, out_features=768, bias=True)\n",
      "                  (LayerNorm): LayerNorm((768,), eps=1e-12, elementwise_affine=True)\n",
      "                  (dropout): Dropout(p=0.1, inplace=False)\n",
      "                )\n",
      "              )\n",
      "              (intermediate): BertIntermediate(\n",
      "                (dense): Linear(in_features=768, out_features=3072, bias=True)\n",
      "              )\n",
      "              (output): BertOutput(\n",
      "                (dense): Linear(in_features=3072, out_features=768, bias=True)\n",
      "                (LayerNorm): LayerNorm((768,), eps=1e-12, elementwise_affine=True)\n",
      "                (dropout): Dropout(p=0.1, inplace=False)\n",
      "              )\n",
      "            )\n",
      "            (11): BertLayer(\n",
      "              (attention): BertAttention(\n",
      "                (self): BertSelfAttention(\n",
      "                  (query): Linear(in_features=768, out_features=768, bias=True)\n",
      "                  (key): Linear(in_features=768, out_features=768, bias=True)\n",
      "                  (value): Linear(in_features=768, out_features=768, bias=True)\n",
      "                  (dropout): Dropout(p=0.1, inplace=False)\n",
      "                )\n",
      "                (output): BertSelfOutput(\n",
      "                  (dense): Linear(in_features=768, out_features=768, bias=True)\n",
      "                  (LayerNorm): LayerNorm((768,), eps=1e-12, elementwise_affine=True)\n",
      "                  (dropout): Dropout(p=0.1, inplace=False)\n",
      "                )\n",
      "              )\n",
      "              (intermediate): BertIntermediate(\n",
      "                (dense): Linear(in_features=768, out_features=3072, bias=True)\n",
      "              )\n",
      "              (output): BertOutput(\n",
      "                (dense): Linear(in_features=3072, out_features=768, bias=True)\n",
      "                (LayerNorm): LayerNorm((768,), eps=1e-12, elementwise_affine=True)\n",
      "                (dropout): Dropout(p=0.1, inplace=False)\n",
      "              )\n",
      "            )\n",
      "          )\n",
      "        )\n",
      "        (pooler): BertPooler(\n",
      "          (dense): Linear(in_features=768, out_features=768, bias=True)\n",
      "          (activation): Tanh()\n",
      "        )\n",
      "      )\n",
      "    )\n",
      "    (decoder): Linear(in_features=768, out_features=2, bias=True)\n",
      "  )\n",
      ")\"\n",
      "2021-11-05 01:06:27,187 ----------------------------------------------------------------------------------------------------\n",
      "2021-11-05 01:06:27,188 Corpus: \"Corpus: 205 train + 23 dev + 25 test sentences\"\n",
      "2021-11-05 01:06:27,188 ----------------------------------------------------------------------------------------------------\n",
      "2021-11-05 01:06:27,189 Parameters:\n",
      "2021-11-05 01:06:27,189  - learning_rate: \"0.02\"\n",
      "2021-11-05 01:06:27,189  - mini_batch_size: \"16\"\n",
      "2021-11-05 01:06:27,190  - patience: \"3\"\n",
      "2021-11-05 01:06:27,190  - anneal_factor: \"0.5\"\n",
      "2021-11-05 01:06:27,190  - max_epochs: \"10\"\n",
      "2021-11-05 01:06:27,191  - shuffle: \"True\"\n",
      "2021-11-05 01:06:27,191  - train_with_dev: \"True\"\n",
      "2021-11-05 01:06:27,191  - batch_growth_annealing: \"False\"\n",
      "2021-11-05 01:06:27,191 ----------------------------------------------------------------------------------------------------\n",
      "2021-11-05 01:06:27,192 Model training base path: \"models/few-shot-long\"\n",
      "2021-11-05 01:06:27,192 ----------------------------------------------------------------------------------------------------\n",
      "2021-11-05 01:06:27,192 Device: cuda:0\n",
      "2021-11-05 01:06:27,193 ----------------------------------------------------------------------------------------------------\n",
      "2021-11-05 01:06:27,193 Embeddings storage mode: cpu\n",
      "2021-11-05 01:06:27,195 ----------------------------------------------------------------------------------------------------\n",
      "2021-11-05 01:06:27,338 epoch 1 - iter 1/15 - loss 0.02319541 - samples/sec: 123.89 - lr: 0.020000\n"
     ]
    },
    {
     "name": "stderr",
     "output_type": "stream",
     "text": [
      "\n"
     ]
    },
    {
     "name": "stdout",
     "output_type": "stream",
     "text": [
      "2021-11-05 01:06:27,476 epoch 1 - iter 2/15 - loss 0.02253569 - samples/sec: 116.90 - lr: 0.020000\n",
      "2021-11-05 01:06:27,600 epoch 1 - iter 3/15 - loss 0.02008842 - samples/sec: 129.68 - lr: 0.020000\n",
      "2021-11-05 01:06:27,710 epoch 1 - iter 4/15 - loss 0.01847633 - samples/sec: 146.38 - lr: 0.020000\n",
      "2021-11-05 01:06:27,820 epoch 1 - iter 5/15 - loss 0.01837939 - samples/sec: 145.87 - lr: 0.020000\n",
      "2021-11-05 01:06:27,987 epoch 1 - iter 6/15 - loss 0.01749854 - samples/sec: 96.72 - lr: 0.020000\n",
      "2021-11-05 01:06:28,171 epoch 1 - iter 7/15 - loss 0.01670260 - samples/sec: 87.04 - lr: 0.020000\n",
      "2021-11-05 01:06:28,313 epoch 1 - iter 8/15 - loss 0.01586158 - samples/sec: 113.25 - lr: 0.020000\n",
      "2021-11-05 01:06:28,465 epoch 1 - iter 9/15 - loss 0.01559946 - samples/sec: 106.42 - lr: 0.020000\n",
      "2021-11-05 01:06:28,616 epoch 1 - iter 10/15 - loss 0.01512423 - samples/sec: 106.05 - lr: 0.020000\n",
      "2021-11-05 01:06:28,815 epoch 1 - iter 11/15 - loss 0.01467232 - samples/sec: 80.91 - lr: 0.020000\n",
      "2021-11-05 01:06:29,001 epoch 1 - iter 12/15 - loss 0.01448377 - samples/sec: 86.24 - lr: 0.020000\n",
      "2021-11-05 01:06:29,136 epoch 1 - iter 13/15 - loss 0.01402772 - samples/sec: 119.55 - lr: 0.020000\n",
      "2021-11-05 01:06:29,290 epoch 1 - iter 14/15 - loss 0.01349672 - samples/sec: 104.10 - lr: 0.020000\n",
      "2021-11-05 01:06:29,350 epoch 1 - iter 15/15 - loss 0.01462366 - samples/sec: 271.21 - lr: 0.020000\n",
      "2021-11-05 01:06:29,351 ----------------------------------------------------------------------------------------------------\n",
      "2021-11-05 01:06:29,352 EPOCH 1 done: loss 0.0146 - lr 0.0200000\n",
      "2021-11-05 01:06:29,353 BAD EPOCHS (no improvement): 0\n",
      "2021-11-05 01:06:29,353 ----------------------------------------------------------------------------------------------------\n",
      "2021-11-05 01:06:29,553 epoch 2 - iter 1/15 - loss 0.00961452 - samples/sec: 85.29 - lr: 0.020000\n",
      "2021-11-05 01:06:29,688 epoch 2 - iter 2/15 - loss 0.00926381 - samples/sec: 119.75 - lr: 0.020000\n",
      "2021-11-05 01:06:29,874 epoch 2 - iter 3/15 - loss 0.00908539 - samples/sec: 86.20 - lr: 0.020000\n",
      "2021-11-05 01:06:30,012 epoch 2 - iter 4/15 - loss 0.00871615 - samples/sec: 116.63 - lr: 0.020000\n",
      "2021-11-05 01:06:30,166 epoch 2 - iter 5/15 - loss 0.00850794 - samples/sec: 104.72 - lr: 0.020000\n",
      "2021-11-05 01:06:30,353 epoch 2 - iter 6/15 - loss 0.00952954 - samples/sec: 86.10 - lr: 0.020000\n",
      "2021-11-05 01:06:30,506 epoch 2 - iter 7/15 - loss 0.01003690 - samples/sec: 104.80 - lr: 0.020000\n",
      "2021-11-05 01:06:30,667 epoch 2 - iter 8/15 - loss 0.00997641 - samples/sec: 100.26 - lr: 0.020000\n",
      "2021-11-05 01:06:30,867 epoch 2 - iter 9/15 - loss 0.01013599 - samples/sec: 80.07 - lr: 0.020000\n",
      "2021-11-05 01:06:31,020 epoch 2 - iter 10/15 - loss 0.00993650 - samples/sec: 105.72 - lr: 0.020000\n",
      "2021-11-05 01:06:31,221 epoch 2 - iter 11/15 - loss 0.00999692 - samples/sec: 79.73 - lr: 0.020000\n",
      "2021-11-05 01:06:31,412 epoch 2 - iter 12/15 - loss 0.00993832 - samples/sec: 84.31 - lr: 0.020000\n",
      "2021-11-05 01:06:31,574 epoch 2 - iter 13/15 - loss 0.00987889 - samples/sec: 99.01 - lr: 0.020000\n",
      "2021-11-05 01:06:31,720 epoch 2 - iter 14/15 - loss 0.00989273 - samples/sec: 110.27 - lr: 0.020000\n",
      "2021-11-05 01:06:31,782 epoch 2 - iter 15/15 - loss 0.01032733 - samples/sec: 261.52 - lr: 0.020000\n",
      "2021-11-05 01:06:31,783 ----------------------------------------------------------------------------------------------------\n",
      "2021-11-05 01:06:31,783 EPOCH 2 done: loss 0.0103 - lr 0.0200000\n",
      "2021-11-05 01:06:31,784 BAD EPOCHS (no improvement): 0\n",
      "2021-11-05 01:06:31,784 ----------------------------------------------------------------------------------------------------\n",
      "2021-11-05 01:06:31,992 epoch 3 - iter 1/15 - loss 0.00769927 - samples/sec: 85.48 - lr: 0.020000\n",
      "2021-11-05 01:06:32,155 epoch 3 - iter 2/15 - loss 0.00792970 - samples/sec: 98.61 - lr: 0.020000\n",
      "2021-11-05 01:06:32,293 epoch 3 - iter 3/15 - loss 0.00771218 - samples/sec: 116.88 - lr: 0.020000\n",
      "2021-11-05 01:06:32,609 epoch 3 - iter 4/15 - loss 0.00812534 - samples/sec: 50.77 - lr: 0.020000\n",
      "2021-11-05 01:06:32,760 epoch 3 - iter 5/15 - loss 0.00820597 - samples/sec: 107.01 - lr: 0.020000\n",
      "2021-11-05 01:06:32,921 epoch 3 - iter 6/15 - loss 0.00827566 - samples/sec: 99.46 - lr: 0.020000\n",
      "2021-11-05 01:06:33,126 epoch 3 - iter 7/15 - loss 0.00812691 - samples/sec: 78.40 - lr: 0.020000\n",
      "2021-11-05 01:06:33,299 epoch 3 - iter 8/15 - loss 0.00807545 - samples/sec: 92.69 - lr: 0.020000\n",
      "2021-11-05 01:06:33,463 epoch 3 - iter 9/15 - loss 0.00780069 - samples/sec: 98.26 - lr: 0.020000\n",
      "2021-11-05 01:06:33,588 epoch 3 - iter 10/15 - loss 0.00793788 - samples/sec: 128.82 - lr: 0.020000\n",
      "2021-11-05 01:06:33,759 epoch 3 - iter 11/15 - loss 0.00771135 - samples/sec: 93.93 - lr: 0.020000\n",
      "2021-11-05 01:06:33,954 epoch 3 - iter 12/15 - loss 0.00798480 - samples/sec: 82.51 - lr: 0.020000\n",
      "2021-11-05 01:06:34,135 epoch 3 - iter 13/15 - loss 0.00786520 - samples/sec: 88.48 - lr: 0.020000\n",
      "2021-11-05 01:06:34,292 epoch 3 - iter 14/15 - loss 0.00799302 - samples/sec: 102.94 - lr: 0.020000\n",
      "2021-11-05 01:06:34,351 epoch 3 - iter 15/15 - loss 0.00805224 - samples/sec: 274.46 - lr: 0.020000\n",
      "2021-11-05 01:06:34,352 ----------------------------------------------------------------------------------------------------\n",
      "2021-11-05 01:06:34,352 EPOCH 3 done: loss 0.0081 - lr 0.0200000\n",
      "2021-11-05 01:06:34,352 BAD EPOCHS (no improvement): 0\n",
      "2021-11-05 01:06:34,353 ----------------------------------------------------------------------------------------------------\n",
      "2021-11-05 01:06:34,520 epoch 4 - iter 1/15 - loss 0.00726144 - samples/sec: 103.72 - lr: 0.020000\n",
      "2021-11-05 01:06:34,693 epoch 4 - iter 2/15 - loss 0.00677708 - samples/sec: 93.00 - lr: 0.020000\n",
      "2021-11-05 01:06:34,812 epoch 4 - iter 3/15 - loss 0.00622867 - samples/sec: 135.83 - lr: 0.020000\n",
      "2021-11-05 01:06:34,939 epoch 4 - iter 4/15 - loss 0.00633214 - samples/sec: 126.05 - lr: 0.020000\n",
      "2021-11-05 01:06:35,089 epoch 4 - iter 5/15 - loss 0.00716530 - samples/sec: 107.48 - lr: 0.020000\n",
      "2021-11-05 01:06:35,206 epoch 4 - iter 6/15 - loss 0.00774928 - samples/sec: 137.47 - lr: 0.020000\n",
      "2021-11-05 01:06:35,323 epoch 4 - iter 7/15 - loss 0.00761856 - samples/sec: 137.68 - lr: 0.020000\n",
      "2021-11-05 01:06:35,477 epoch 4 - iter 8/15 - loss 0.00749370 - samples/sec: 104.06 - lr: 0.020000\n",
      "2021-11-05 01:06:35,599 epoch 4 - iter 9/15 - loss 0.00715020 - samples/sec: 132.22 - lr: 0.020000\n",
      "2021-11-05 01:06:35,728 epoch 4 - iter 10/15 - loss 0.00708013 - samples/sec: 123.92 - lr: 0.020000\n",
      "2021-11-05 01:06:35,893 epoch 4 - iter 11/15 - loss 0.00662282 - samples/sec: 97.66 - lr: 0.020000\n",
      "2021-11-05 01:06:36,037 epoch 4 - iter 12/15 - loss 0.00642887 - samples/sec: 111.09 - lr: 0.020000\n",
      "2021-11-05 01:06:36,183 epoch 4 - iter 13/15 - loss 0.00633023 - samples/sec: 110.51 - lr: 0.020000\n",
      "2021-11-05 01:06:36,328 epoch 4 - iter 14/15 - loss 0.00626024 - samples/sec: 110.87 - lr: 0.020000\n",
      "2021-11-05 01:06:36,371 epoch 4 - iter 15/15 - loss 0.00627520 - samples/sec: 374.54 - lr: 0.020000\n",
      "2021-11-05 01:06:36,372 ----------------------------------------------------------------------------------------------------\n",
      "2021-11-05 01:06:36,373 EPOCH 4 done: loss 0.0063 - lr 0.0200000\n",
      "2021-11-05 01:06:36,373 BAD EPOCHS (no improvement): 0\n",
      "2021-11-05 01:06:36,374 ----------------------------------------------------------------------------------------------------\n",
      "2021-11-05 01:06:36,548 epoch 5 - iter 1/15 - loss 0.00541578 - samples/sec: 97.71 - lr: 0.020000\n",
      "2021-11-05 01:06:36,684 epoch 5 - iter 2/15 - loss 0.00541020 - samples/sec: 117.74 - lr: 0.020000\n",
      "2021-11-05 01:06:36,806 epoch 5 - iter 3/15 - loss 0.00505401 - samples/sec: 131.47 - lr: 0.020000\n",
      "2021-11-05 01:06:36,959 epoch 5 - iter 4/15 - loss 0.00529076 - samples/sec: 105.22 - lr: 0.020000\n",
      "2021-11-05 01:06:37,076 epoch 5 - iter 5/15 - loss 0.00549501 - samples/sec: 138.10 - lr: 0.020000\n",
      "2021-11-05 01:06:37,200 epoch 5 - iter 6/15 - loss 0.00540260 - samples/sec: 129.13 - lr: 0.020000\n",
      "2021-11-05 01:06:37,327 epoch 5 - iter 7/15 - loss 0.00532539 - samples/sec: 126.41 - lr: 0.020000\n",
      "2021-11-05 01:06:37,449 epoch 5 - iter 8/15 - loss 0.00531079 - samples/sec: 131.84 - lr: 0.020000\n",
      "2021-11-05 01:06:37,574 epoch 5 - iter 9/15 - loss 0.00523928 - samples/sec: 128.85 - lr: 0.020000\n",
      "2021-11-05 01:06:37,718 epoch 5 - iter 10/15 - loss 0.00524690 - samples/sec: 111.65 - lr: 0.020000\n",
      "2021-11-05 01:06:37,843 epoch 5 - iter 11/15 - loss 0.00529117 - samples/sec: 128.41 - lr: 0.020000\n",
      "2021-11-05 01:06:37,971 epoch 5 - iter 12/15 - loss 0.00502125 - samples/sec: 126.40 - lr: 0.020000\n",
      "2021-11-05 01:06:38,133 epoch 5 - iter 13/15 - loss 0.00533101 - samples/sec: 98.66 - lr: 0.020000\n",
      "2021-11-05 01:06:38,260 epoch 5 - iter 14/15 - loss 0.00517916 - samples/sec: 126.88 - lr: 0.020000\n",
      "2021-11-05 01:06:38,317 epoch 5 - iter 15/15 - loss 0.00517279 - samples/sec: 286.95 - lr: 0.020000\n",
      "2021-11-05 01:06:38,318 ----------------------------------------------------------------------------------------------------\n",
      "2021-11-05 01:06:38,318 EPOCH 5 done: loss 0.0052 - lr 0.0200000\n",
      "2021-11-05 01:06:38,318 BAD EPOCHS (no improvement): 0\n",
      "2021-11-05 01:06:38,319 ----------------------------------------------------------------------------------------------------\n",
      "2021-11-05 01:06:38,452 epoch 6 - iter 1/15 - loss 0.00545828 - samples/sec: 130.93 - lr: 0.020000\n",
      "2021-11-05 01:06:38,569 epoch 6 - iter 2/15 - loss 0.00362459 - samples/sec: 137.30 - lr: 0.020000\n",
      "2021-11-05 01:06:38,714 epoch 6 - iter 3/15 - loss 0.00371736 - samples/sec: 110.49 - lr: 0.020000\n",
      "2021-11-05 01:06:38,880 epoch 6 - iter 4/15 - loss 0.00337201 - samples/sec: 96.83 - lr: 0.020000\n",
      "2021-11-05 01:06:39,004 epoch 6 - iter 5/15 - loss 0.00344871 - samples/sec: 129.78 - lr: 0.020000\n",
      "2021-11-05 01:06:39,126 epoch 6 - iter 6/15 - loss 0.00355868 - samples/sec: 132.11 - lr: 0.020000\n",
      "2021-11-05 01:06:39,253 epoch 6 - iter 7/15 - loss 0.00326705 - samples/sec: 126.70 - lr: 0.020000\n",
      "2021-11-05 01:06:39,374 epoch 6 - iter 8/15 - loss 0.00360270 - samples/sec: 132.80 - lr: 0.020000\n",
      "2021-11-05 01:06:39,528 epoch 6 - iter 9/15 - loss 0.00356137 - samples/sec: 103.82 - lr: 0.020000\n",
      "2021-11-05 01:06:39,642 epoch 6 - iter 10/15 - loss 0.00344513 - samples/sec: 141.05 - lr: 0.020000\n",
      "2021-11-05 01:06:39,792 epoch 6 - iter 11/15 - loss 0.00355691 - samples/sec: 107.74 - lr: 0.020000\n",
      "2021-11-05 01:06:39,943 epoch 6 - iter 12/15 - loss 0.00344453 - samples/sec: 105.85 - lr: 0.020000\n",
      "2021-11-05 01:06:40,068 epoch 6 - iter 13/15 - loss 0.00331568 - samples/sec: 129.54 - lr: 0.020000\n",
      "2021-11-05 01:06:40,184 epoch 6 - iter 14/15 - loss 0.00334365 - samples/sec: 138.07 - lr: 0.020000\n",
      "2021-11-05 01:06:40,234 epoch 6 - iter 15/15 - loss 0.00362033 - samples/sec: 326.26 - lr: 0.020000\n",
      "2021-11-05 01:06:40,235 ----------------------------------------------------------------------------------------------------\n",
      "2021-11-05 01:06:40,235 EPOCH 6 done: loss 0.0036 - lr 0.0200000\n",
      "2021-11-05 01:06:40,235 BAD EPOCHS (no improvement): 0\n",
      "2021-11-05 01:06:40,236 ----------------------------------------------------------------------------------------------------\n",
      "2021-11-05 01:06:40,374 epoch 7 - iter 1/15 - loss 0.00545681 - samples/sec: 125.38 - lr: 0.020000\n",
      "2021-11-05 01:06:40,523 epoch 7 - iter 2/15 - loss 0.00517639 - samples/sec: 107.60 - lr: 0.020000\n",
      "2021-11-05 01:06:40,683 epoch 7 - iter 3/15 - loss 0.00391119 - samples/sec: 100.42 - lr: 0.020000\n",
      "2021-11-05 01:06:40,805 epoch 7 - iter 4/15 - loss 0.00355458 - samples/sec: 131.76 - lr: 0.020000\n",
      "2021-11-05 01:06:40,932 epoch 7 - iter 5/15 - loss 0.00356231 - samples/sec: 127.40 - lr: 0.020000\n",
      "2021-11-05 01:06:41,048 epoch 7 - iter 6/15 - loss 0.00368845 - samples/sec: 138.18 - lr: 0.020000\n",
      "2021-11-05 01:06:41,172 epoch 7 - iter 7/15 - loss 0.00347497 - samples/sec: 130.11 - lr: 0.020000\n",
      "2021-11-05 01:06:41,322 epoch 7 - iter 8/15 - loss 0.00320803 - samples/sec: 107.12 - lr: 0.020000\n",
      "2021-11-05 01:06:41,464 epoch 7 - iter 9/15 - loss 0.00316968 - samples/sec: 112.56 - lr: 0.020000\n",
      "2021-11-05 01:06:41,615 epoch 7 - iter 10/15 - loss 0.00308538 - samples/sec: 106.84 - lr: 0.020000\n",
      "2021-11-05 01:06:41,781 epoch 7 - iter 11/15 - loss 0.00302080 - samples/sec: 96.79 - lr: 0.020000\n",
      "2021-11-05 01:06:41,903 epoch 7 - iter 12/15 - loss 0.00295286 - samples/sec: 131.10 - lr: 0.020000\n",
      "2021-11-05 01:06:42,028 epoch 7 - iter 13/15 - loss 0.00303016 - samples/sec: 128.74 - lr: 0.020000\n",
      "2021-11-05 01:06:42,156 epoch 7 - iter 14/15 - loss 0.00298187 - samples/sec: 126.03 - lr: 0.020000\n",
      "2021-11-05 01:06:42,208 epoch 7 - iter 15/15 - loss 0.00296797 - samples/sec: 311.53 - lr: 0.020000\n",
      "2021-11-05 01:06:42,209 ----------------------------------------------------------------------------------------------------\n",
      "2021-11-05 01:06:42,209 EPOCH 7 done: loss 0.0030 - lr 0.0200000\n",
      "2021-11-05 01:06:42,210 BAD EPOCHS (no improvement): 0\n",
      "2021-11-05 01:06:42,210 ----------------------------------------------------------------------------------------------------\n",
      "2021-11-05 01:06:42,380 epoch 8 - iter 1/15 - loss 0.00203611 - samples/sec: 101.78 - lr: 0.020000\n",
      "2021-11-05 01:06:42,528 epoch 8 - iter 2/15 - loss 0.00285676 - samples/sec: 109.18 - lr: 0.020000\n",
      "2021-11-05 01:06:42,646 epoch 8 - iter 3/15 - loss 0.00254104 - samples/sec: 136.16 - lr: 0.020000\n",
      "2021-11-05 01:06:42,797 epoch 8 - iter 4/15 - loss 0.00246797 - samples/sec: 106.62 - lr: 0.020000\n",
      "2021-11-05 01:06:42,947 epoch 8 - iter 5/15 - loss 0.00337497 - samples/sec: 106.61 - lr: 0.020000\n",
      "2021-11-05 01:06:43,113 epoch 8 - iter 6/15 - loss 0.00315468 - samples/sec: 97.14 - lr: 0.020000\n",
      "2021-11-05 01:06:43,244 epoch 8 - iter 7/15 - loss 0.00304318 - samples/sec: 122.73 - lr: 0.020000\n",
      "2021-11-05 01:06:43,375 epoch 8 - iter 8/15 - loss 0.00302422 - samples/sec: 122.53 - lr: 0.020000\n",
      "2021-11-05 01:06:43,525 epoch 8 - iter 9/15 - loss 0.00284817 - samples/sec: 106.73 - lr: 0.020000\n",
      "2021-11-05 01:06:43,642 epoch 8 - iter 10/15 - loss 0.00260615 - samples/sec: 137.78 - lr: 0.020000\n",
      "2021-11-05 01:06:43,775 epoch 8 - iter 11/15 - loss 0.00257820 - samples/sec: 121.04 - lr: 0.020000\n",
      "2021-11-05 01:06:43,899 epoch 8 - iter 12/15 - loss 0.00259065 - samples/sec: 129.67 - lr: 0.020000\n",
      "2021-11-05 01:06:44,022 epoch 8 - iter 13/15 - loss 0.00243284 - samples/sec: 130.95 - lr: 0.020000\n",
      "2021-11-05 01:06:44,150 epoch 8 - iter 14/15 - loss 0.00242461 - samples/sec: 125.95 - lr: 0.020000\n",
      "2021-11-05 01:06:44,198 epoch 8 - iter 15/15 - loss 0.00310847 - samples/sec: 334.69 - lr: 0.020000\n",
      "2021-11-05 01:06:44,199 ----------------------------------------------------------------------------------------------------\n",
      "2021-11-05 01:06:44,199 EPOCH 8 done: loss 0.0031 - lr 0.0200000\n",
      "2021-11-05 01:06:44,200 BAD EPOCHS (no improvement): 1\n",
      "2021-11-05 01:06:44,200 ----------------------------------------------------------------------------------------------------\n",
      "2021-11-05 01:06:44,347 epoch 9 - iter 1/15 - loss 0.00273020 - samples/sec: 123.45 - lr: 0.020000\n",
      "2021-11-05 01:06:44,472 epoch 9 - iter 2/15 - loss 0.00176195 - samples/sec: 128.86 - lr: 0.020000\n",
      "2021-11-05 01:06:44,622 epoch 9 - iter 3/15 - loss 0.00195235 - samples/sec: 106.79 - lr: 0.020000\n",
      "2021-11-05 01:06:44,751 epoch 9 - iter 4/15 - loss 0.00194676 - samples/sec: 124.59 - lr: 0.020000\n",
      "2021-11-05 01:06:44,896 epoch 9 - iter 5/15 - loss 0.00183179 - samples/sec: 111.59 - lr: 0.020000\n",
      "2021-11-05 01:06:45,020 epoch 9 - iter 6/15 - loss 0.00178562 - samples/sec: 128.67 - lr: 0.020000\n",
      "2021-11-05 01:06:45,171 epoch 9 - iter 7/15 - loss 0.00169027 - samples/sec: 106.63 - lr: 0.020000\n",
      "2021-11-05 01:06:45,325 epoch 9 - iter 8/15 - loss 0.00155714 - samples/sec: 104.47 - lr: 0.020000\n",
      "2021-11-05 01:06:45,453 epoch 9 - iter 9/15 - loss 0.00147463 - samples/sec: 125.73 - lr: 0.020000\n",
      "2021-11-05 01:06:45,617 epoch 9 - iter 10/15 - loss 0.00143195 - samples/sec: 97.83 - lr: 0.020000\n",
      "2021-11-05 01:06:45,738 epoch 9 - iter 11/15 - loss 0.00160612 - samples/sec: 133.17 - lr: 0.020000\n",
      "2021-11-05 01:06:45,874 epoch 9 - iter 12/15 - loss 0.00151248 - samples/sec: 118.01 - lr: 0.020000\n",
      "2021-11-05 01:06:46,027 epoch 9 - iter 13/15 - loss 0.00159487 - samples/sec: 105.07 - lr: 0.020000\n",
      "2021-11-05 01:06:46,141 epoch 9 - iter 14/15 - loss 0.00164655 - samples/sec: 140.42 - lr: 0.020000\n",
      "2021-11-05 01:06:46,188 epoch 9 - iter 15/15 - loss 0.00165032 - samples/sec: 347.70 - lr: 0.020000\n",
      "2021-11-05 01:06:46,189 ----------------------------------------------------------------------------------------------------\n",
      "2021-11-05 01:06:46,189 EPOCH 9 done: loss 0.0017 - lr 0.0200000\n",
      "2021-11-05 01:06:46,189 BAD EPOCHS (no improvement): 0\n",
      "2021-11-05 01:06:46,190 ----------------------------------------------------------------------------------------------------\n",
      "2021-11-05 01:06:46,335 epoch 10 - iter 1/15 - loss 0.00173151 - samples/sec: 118.56 - lr: 0.020000\n",
      "2021-11-05 01:06:46,457 epoch 10 - iter 2/15 - loss 0.00147417 - samples/sec: 131.45 - lr: 0.020000\n",
      "2021-11-05 01:06:46,586 epoch 10 - iter 3/15 - loss 0.00147469 - samples/sec: 125.29 - lr: 0.020000\n",
      "2021-11-05 01:06:46,751 epoch 10 - iter 4/15 - loss 0.00125160 - samples/sec: 97.42 - lr: 0.020000\n",
      "2021-11-05 01:06:46,869 epoch 10 - iter 5/15 - loss 0.00114064 - samples/sec: 136.06 - lr: 0.020000\n",
      "2021-11-05 01:06:46,993 epoch 10 - iter 6/15 - loss 0.00107335 - samples/sec: 129.97 - lr: 0.020000\n",
      "2021-11-05 01:06:47,146 epoch 10 - iter 7/15 - loss 0.00104704 - samples/sec: 104.76 - lr: 0.020000\n",
      "2021-11-05 01:06:47,294 epoch 10 - iter 8/15 - loss 0.00100254 - samples/sec: 108.17 - lr: 0.020000\n",
      "2021-11-05 01:06:47,441 epoch 10 - iter 9/15 - loss 0.00102263 - samples/sec: 109.85 - lr: 0.020000\n",
      "2021-11-05 01:06:47,588 epoch 10 - iter 10/15 - loss 0.00121467 - samples/sec: 109.32 - lr: 0.020000\n",
      "2021-11-05 01:06:47,712 epoch 10 - iter 11/15 - loss 0.00114370 - samples/sec: 129.57 - lr: 0.020000\n",
      "2021-11-05 01:06:47,850 epoch 10 - iter 12/15 - loss 0.00111898 - samples/sec: 116.31 - lr: 0.020000\n",
      "2021-11-05 01:06:47,974 epoch 10 - iter 13/15 - loss 0.00108287 - samples/sec: 129.66 - lr: 0.020000\n",
      "2021-11-05 01:06:48,084 epoch 10 - iter 14/15 - loss 0.00110944 - samples/sec: 146.19 - lr: 0.020000\n",
      "2021-11-05 01:06:48,130 epoch 10 - iter 15/15 - loss 0.00213653 - samples/sec: 354.24 - lr: 0.020000\n",
      "2021-11-05 01:06:48,131 ----------------------------------------------------------------------------------------------------\n",
      "2021-11-05 01:06:48,131 EPOCH 10 done: loss 0.0021 - lr 0.0200000\n",
      "2021-11-05 01:06:48,131 BAD EPOCHS (no improvement): 1\n",
      "2021-11-05 01:06:51,873 ----------------------------------------------------------------------------------------------------\n",
      "2021-11-05 01:06:51,874 Testing using last state of model ...\n",
      "2021-11-05 01:06:52,766 0.1667\t1.0\t0.2857\t0.0\n",
      "2021-11-05 01:06:52,767 \n",
      "Results:\n",
      "- F-score (micro) 0.2857\n",
      "- F-score (macro) 0.2559\n",
      "- Accuracy 0.0\n",
      "\n",
      "By class:\n",
      "                                                                         precision    recall  f1-score   support\n",
      "\n",
      "  strategy, document describing actions that should be taken towards AI     0.4400    1.0000    0.6111        11\n",
      "                  document establishing AI-related body or organization     0.3200    1.0000    0.4848         8\n",
      "diagnosis, report, or other document describing the current state of AI     0.1200    1.0000    0.2143         3\n",
      "                         principles, sets of ethical rules regarding AI     0.0800    1.0000    0.1481         2\n",
      "                                         legal regulation addressing AI     0.0400    1.0000    0.0769         1\n",
      "                             proposal of legal regulation addressing AI     0.0000    0.0000    0.0000         0\n",
      "\n",
      "                                                              micro avg     0.1667    1.0000    0.2857        25\n",
      "                                                              macro avg     0.1667    0.8333    0.2559        25\n",
      "                                                           weighted avg     0.3184    1.0000    0.4647        25\n",
      "                                                            samples avg     0.1667    1.0000    0.2857        25\n",
      "\n",
      "2021-11-05 01:06:52,767 ----------------------------------------------------------------------------------------------------\n",
      "2021-11-05 01:06:52,768 loading file models/few-shot-long/final-model.pt\n",
      "{'TREC_6': {'label_dictionary': <flair.data.Dictionary object at 0x7fabd14d8070>, 'multi_label': False, 'multi_label_threshold': 0.5, 'label_type': None, 'beta': 1.0}, 'DBPedia': {'label_dictionary': <flair.data.Dictionary object at 0x7fabd14d8d30>, 'multi_label': False, 'multi_label_threshold': 0.5, 'label_type': None, 'beta': 1.0}, 'AGNews': {'label_dictionary': <flair.data.Dictionary object at 0x7fabe25e0310>, 'multi_label': False, 'multi_label_threshold': 0.5, 'label_type': None, 'beta': 1.0}, 'IMDB': {'label_dictionary': <flair.data.Dictionary object at 0x7fabe25e03a0>, 'multi_label': False, 'multi_label_threshold': 0.5, 'label_type': None, 'beta': 1.0}, 'SST': {'label_dictionary': <flair.data.Dictionary object at 0x7fabe25e05b0>, 'multi_label': False, 'multi_label_threshold': 0.5, 'label_type': None, 'beta': 1.0}, 'GO_EMOTIONS': {'label_dictionary': <flair.data.Dictionary object at 0x7fabe25e0a00>, 'multi_label': True, 'multi_label_threshold': 0.5, 'label_type': None, 'beta': 1.0}, 'NEWS_CATEGORY': {'label_dictionary': <flair.data.Dictionary object at 0x7fabd62be850>, 'multi_label': False, 'multi_label_threshold': 0.5, 'label_type': None, 'beta': 1.0}, 'Amazon': {'label_dictionary': <flair.data.Dictionary object at 0x7fabd14d0cd0>, 'multi_label': False, 'multi_label_threshold': 0.5, 'label_type': None, 'beta': 1.0}, 'Yelp': {'label_dictionary': <flair.data.Dictionary object at 0x7fabd14d0460>, 'multi_label': False, 'multi_label_threshold': 0.5, 'label_type': None, 'beta': 1.0}, 'Document function classification': {'label_dictionary': <flair.data.Dictionary object at 0x7fabd145e9d0>, 'label_type': 'Document function'}}\n"
     ]
    }
   ],
   "source": [
    "trained_long = train_and_get_model(X_train, y_train_long, X_test, y_test_long, \"few-shot-long\")\n",
    "\n",
    "\n",
    "test_sents = X_test.apply(Sentence)\n",
    "trained_long.predict(list(test_sents))\n",
    "pred, scores = get_predictions(test_sents)\n",
    "acc = accuracy_score(y_test_long, pred)"
   ]
  },
  {
   "cell_type": "code",
   "execution_count": 27,
   "id": "f3cd0808",
   "metadata": {},
   "outputs": [
    {
     "name": "stdout",
     "output_type": "stream",
     "text": [
      "0.8705882352941177\n"
     ]
    }
   ],
   "source": [
    "print(acc)"
   ]
  },
  {
   "cell_type": "markdown",
   "id": "51073926",
   "metadata": {},
   "source": [
    "## Smaller Training set"
   ]
  },
  {
   "cell_type": "code",
   "execution_count": 28,
   "id": "02eaf736",
   "metadata": {},
   "outputs": [],
   "source": [
    "import sklearn.model_selection\n",
    "train, test = sklearn.model_selection.train_test_split(df_full, test_size=.5, stratify = df_full.documentFunction)"
   ]
  },
  {
   "cell_type": "code",
   "execution_count": 223,
   "id": "265c5fc5",
   "metadata": {},
   "outputs": [
    {
     "name": "stdout",
     "output_type": "stream",
     "text": [
      "2021-11-05 00:59:29,824 loading file /home/stanislaw/.flair/models/tars-base-v8.pt\n",
      "{'TREC_6': {'label_dictionary': <flair.data.Dictionary object at 0x7f31b06e9940>, 'multi_label': False, 'multi_label_threshold': 0.5, 'label_type': None, 'beta': 1.0}, 'DBPedia': {'label_dictionary': <flair.data.Dictionary object at 0x7f31b02abfd0>, 'multi_label': False, 'multi_label_threshold': 0.5, 'label_type': None, 'beta': 1.0}, 'AGNews': {'label_dictionary': <flair.data.Dictionary object at 0x7f31b0510b20>, 'multi_label': False, 'multi_label_threshold': 0.5, 'label_type': None, 'beta': 1.0}, 'IMDB': {'label_dictionary': <flair.data.Dictionary object at 0x7f31b05106d0>, 'multi_label': False, 'multi_label_threshold': 0.5, 'label_type': None, 'beta': 1.0}, 'SST': {'label_dictionary': <flair.data.Dictionary object at 0x7f31b0510970>, 'multi_label': False, 'multi_label_threshold': 0.5, 'label_type': None, 'beta': 1.0}, 'GO_EMOTIONS': {'label_dictionary': <flair.data.Dictionary object at 0x7f31b0510e50>, 'multi_label': True, 'multi_label_threshold': 0.5, 'label_type': None, 'beta': 1.0}, 'NEWS_CATEGORY': {'label_dictionary': <flair.data.Dictionary object at 0x7f31b04ac670>, 'multi_label': False, 'multi_label_threshold': 0.5, 'label_type': None, 'beta': 1.0}, 'Amazon': {'label_dictionary': <flair.data.Dictionary object at 0x7f31b05305b0>, 'multi_label': False, 'multi_label_threshold': 0.5, 'label_type': None, 'beta': 1.0}, 'Yelp': {'label_dictionary': <flair.data.Dictionary object at 0x7f31b0498b80>, 'multi_label': False, 'multi_label_threshold': 0.5, 'label_type': None, 'beta': 1.0}}\n",
      "2021-11-05 00:59:34,821 Computing label dictionary. Progress:\n"
     ]
    },
    {
     "name": "stderr",
     "output_type": "stream",
     "text": [
      "100%|██████████| 152/152 [00:00<00:00, 38596.33it/s]"
     ]
    },
    {
     "name": "stdout",
     "output_type": "stream",
     "text": [
      "2021-11-05 00:59:34,827 Corpus contains the labels: Document function (#152)\n",
      "2021-11-05 00:59:34,827 Created (for label 'Document function') Dictionary with 6 tags: strategy, regulation, principles, diagnosis, body or organization, pre-regulation\n",
      "2021-11-05 00:59:34,828 ----------------------------------------------------------------------------------------------------\n",
      "2021-11-05 00:59:34,830 Model: \"TARSClassifier(\n",
      "  (tars_model): TextClassifier(\n",
      "    (loss_function): CrossEntropyLoss()\n",
      "    (document_embeddings): TransformerDocumentEmbeddings(\n",
      "      (model): BertModel(\n",
      "        (embeddings): BertEmbeddings(\n",
      "          (word_embeddings): Embedding(30522, 768, padding_idx=0)\n",
      "          (position_embeddings): Embedding(512, 768)\n",
      "          (token_type_embeddings): Embedding(2, 768)\n",
      "          (LayerNorm): LayerNorm((768,), eps=1e-12, elementwise_affine=True)\n",
      "          (dropout): Dropout(p=0.1, inplace=False)\n",
      "        )\n",
      "        (encoder): BertEncoder(\n",
      "          (layer): ModuleList(\n",
      "            (0): BertLayer(\n",
      "              (attention): BertAttention(\n",
      "                (self): BertSelfAttention(\n",
      "                  (query): Linear(in_features=768, out_features=768, bias=True)\n",
      "                  (key): Linear(in_features=768, out_features=768, bias=True)\n",
      "                  (value): Linear(in_features=768, out_features=768, bias=True)\n",
      "                  (dropout): Dropout(p=0.1, inplace=False)\n",
      "                )\n",
      "                (output): BertSelfOutput(\n",
      "                  (dense): Linear(in_features=768, out_features=768, bias=True)\n",
      "                  (LayerNorm): LayerNorm((768,), eps=1e-12, elementwise_affine=True)\n",
      "                  (dropout): Dropout(p=0.1, inplace=False)\n",
      "                )\n",
      "              )\n",
      "              (intermediate): BertIntermediate(\n",
      "                (dense): Linear(in_features=768, out_features=3072, bias=True)\n",
      "              )\n",
      "              (output): BertOutput(\n",
      "                (dense): Linear(in_features=3072, out_features=768, bias=True)\n",
      "                (LayerNorm): LayerNorm((768,), eps=1e-12, elementwise_affine=True)\n",
      "                (dropout): Dropout(p=0.1, inplace=False)\n",
      "              )\n",
      "            )\n",
      "            (1): BertLayer(\n",
      "              (attention): BertAttention(\n",
      "                (self): BertSelfAttention(\n",
      "                  (query): Linear(in_features=768, out_features=768, bias=True)\n",
      "                  (key): Linear(in_features=768, out_features=768, bias=True)\n",
      "                  (value): Linear(in_features=768, out_features=768, bias=True)\n",
      "                  (dropout): Dropout(p=0.1, inplace=False)\n",
      "                )\n",
      "                (output): BertSelfOutput(\n",
      "                  (dense): Linear(in_features=768, out_features=768, bias=True)\n",
      "                  (LayerNorm): LayerNorm((768,), eps=1e-12, elementwise_affine=True)\n",
      "                  (dropout): Dropout(p=0.1, inplace=False)\n",
      "                )\n",
      "              )\n",
      "              (intermediate): BertIntermediate(\n",
      "                (dense): Linear(in_features=768, out_features=3072, bias=True)\n",
      "              )\n",
      "              (output): BertOutput(\n",
      "                (dense): Linear(in_features=3072, out_features=768, bias=True)\n",
      "                (LayerNorm): LayerNorm((768,), eps=1e-12, elementwise_affine=True)\n",
      "                (dropout): Dropout(p=0.1, inplace=False)\n",
      "              )\n",
      "            )\n",
      "            (2): BertLayer(\n",
      "              (attention): BertAttention(\n",
      "                (self): BertSelfAttention(\n",
      "                  (query): Linear(in_features=768, out_features=768, bias=True)\n",
      "                  (key): Linear(in_features=768, out_features=768, bias=True)\n",
      "                  (value): Linear(in_features=768, out_features=768, bias=True)\n",
      "                  (dropout): Dropout(p=0.1, inplace=False)\n",
      "                )\n",
      "                (output): BertSelfOutput(\n",
      "                  (dense): Linear(in_features=768, out_features=768, bias=True)\n",
      "                  (LayerNorm): LayerNorm((768,), eps=1e-12, elementwise_affine=True)\n",
      "                  (dropout): Dropout(p=0.1, inplace=False)\n",
      "                )\n",
      "              )\n",
      "              (intermediate): BertIntermediate(\n",
      "                (dense): Linear(in_features=768, out_features=3072, bias=True)\n",
      "              )\n",
      "              (output): BertOutput(\n",
      "                (dense): Linear(in_features=3072, out_features=768, bias=True)\n",
      "                (LayerNorm): LayerNorm((768,), eps=1e-12, elementwise_affine=True)\n",
      "                (dropout): Dropout(p=0.1, inplace=False)\n",
      "              )\n",
      "            )\n",
      "            (3): BertLayer(\n",
      "              (attention): BertAttention(\n",
      "                (self): BertSelfAttention(\n",
      "                  (query): Linear(in_features=768, out_features=768, bias=True)\n",
      "                  (key): Linear(in_features=768, out_features=768, bias=True)\n",
      "                  (value): Linear(in_features=768, out_features=768, bias=True)\n",
      "                  (dropout): Dropout(p=0.1, inplace=False)\n",
      "                )\n",
      "                (output): BertSelfOutput(\n",
      "                  (dense): Linear(in_features=768, out_features=768, bias=True)\n",
      "                  (LayerNorm): LayerNorm((768,), eps=1e-12, elementwise_affine=True)\n",
      "                  (dropout): Dropout(p=0.1, inplace=False)\n",
      "                )\n",
      "              )\n",
      "              (intermediate): BertIntermediate(\n",
      "                (dense): Linear(in_features=768, out_features=3072, bias=True)\n",
      "              )\n",
      "              (output): BertOutput(\n",
      "                (dense): Linear(in_features=3072, out_features=768, bias=True)\n",
      "                (LayerNorm): LayerNorm((768,), eps=1e-12, elementwise_affine=True)\n",
      "                (dropout): Dropout(p=0.1, inplace=False)\n",
      "              )\n",
      "            )\n",
      "            (4): BertLayer(\n",
      "              (attention): BertAttention(\n",
      "                (self): BertSelfAttention(\n",
      "                  (query): Linear(in_features=768, out_features=768, bias=True)\n",
      "                  (key): Linear(in_features=768, out_features=768, bias=True)\n",
      "                  (value): Linear(in_features=768, out_features=768, bias=True)\n",
      "                  (dropout): Dropout(p=0.1, inplace=False)\n",
      "                )\n",
      "                (output): BertSelfOutput(\n",
      "                  (dense): Linear(in_features=768, out_features=768, bias=True)\n",
      "                  (LayerNorm): LayerNorm((768,), eps=1e-12, elementwise_affine=True)\n",
      "                  (dropout): Dropout(p=0.1, inplace=False)\n",
      "                )\n",
      "              )\n",
      "              (intermediate): BertIntermediate(\n",
      "                (dense): Linear(in_features=768, out_features=3072, bias=True)\n",
      "              )\n",
      "              (output): BertOutput(\n",
      "                (dense): Linear(in_features=3072, out_features=768, bias=True)\n",
      "                (LayerNorm): LayerNorm((768,), eps=1e-12, elementwise_affine=True)\n",
      "                (dropout): Dropout(p=0.1, inplace=False)\n",
      "              )\n",
      "            )\n",
      "            (5): BertLayer(\n",
      "              (attention): BertAttention(\n",
      "                (self): BertSelfAttention(\n",
      "                  (query): Linear(in_features=768, out_features=768, bias=True)\n",
      "                  (key): Linear(in_features=768, out_features=768, bias=True)\n",
      "                  (value): Linear(in_features=768, out_features=768, bias=True)\n",
      "                  (dropout): Dropout(p=0.1, inplace=False)\n",
      "                )\n",
      "                (output): BertSelfOutput(\n",
      "                  (dense): Linear(in_features=768, out_features=768, bias=True)\n",
      "                  (LayerNorm): LayerNorm((768,), eps=1e-12, elementwise_affine=True)\n",
      "                  (dropout): Dropout(p=0.1, inplace=False)\n",
      "                )\n",
      "              )\n",
      "              (intermediate): BertIntermediate(\n",
      "                (dense): Linear(in_features=768, out_features=3072, bias=True)\n",
      "              )\n",
      "              (output): BertOutput(\n",
      "                (dense): Linear(in_features=3072, out_features=768, bias=True)\n",
      "                (LayerNorm): LayerNorm((768,), eps=1e-12, elementwise_affine=True)\n",
      "                (dropout): Dropout(p=0.1, inplace=False)\n",
      "              )\n",
      "            )\n",
      "            (6): BertLayer(\n",
      "              (attention): BertAttention(\n",
      "                (self): BertSelfAttention(\n",
      "                  (query): Linear(in_features=768, out_features=768, bias=True)\n",
      "                  (key): Linear(in_features=768, out_features=768, bias=True)\n",
      "                  (value): Linear(in_features=768, out_features=768, bias=True)\n",
      "                  (dropout): Dropout(p=0.1, inplace=False)\n",
      "                )\n",
      "                (output): BertSelfOutput(\n",
      "                  (dense): Linear(in_features=768, out_features=768, bias=True)\n",
      "                  (LayerNorm): LayerNorm((768,), eps=1e-12, elementwise_affine=True)\n",
      "                  (dropout): Dropout(p=0.1, inplace=False)\n",
      "                )\n",
      "              )\n",
      "              (intermediate): BertIntermediate(\n",
      "                (dense): Linear(in_features=768, out_features=3072, bias=True)\n",
      "              )\n",
      "              (output): BertOutput(\n",
      "                (dense): Linear(in_features=3072, out_features=768, bias=True)\n",
      "                (LayerNorm): LayerNorm((768,), eps=1e-12, elementwise_affine=True)\n",
      "                (dropout): Dropout(p=0.1, inplace=False)\n",
      "              )\n",
      "            )\n",
      "            (7): BertLayer(\n",
      "              (attention): BertAttention(\n",
      "                (self): BertSelfAttention(\n",
      "                  (query): Linear(in_features=768, out_features=768, bias=True)\n",
      "                  (key): Linear(in_features=768, out_features=768, bias=True)\n",
      "                  (value): Linear(in_features=768, out_features=768, bias=True)\n",
      "                  (dropout): Dropout(p=0.1, inplace=False)\n",
      "                )\n",
      "                (output): BertSelfOutput(\n",
      "                  (dense): Linear(in_features=768, out_features=768, bias=True)\n",
      "                  (LayerNorm): LayerNorm((768,), eps=1e-12, elementwise_affine=True)\n",
      "                  (dropout): Dropout(p=0.1, inplace=False)\n",
      "                )\n",
      "              )\n",
      "              (intermediate): BertIntermediate(\n",
      "                (dense): Linear(in_features=768, out_features=3072, bias=True)\n",
      "              )\n",
      "              (output): BertOutput(\n",
      "                (dense): Linear(in_features=3072, out_features=768, bias=True)\n",
      "                (LayerNorm): LayerNorm((768,), eps=1e-12, elementwise_affine=True)\n",
      "                (dropout): Dropout(p=0.1, inplace=False)\n",
      "              )\n",
      "            )\n",
      "            (8): BertLayer(\n",
      "              (attention): BertAttention(\n",
      "                (self): BertSelfAttention(\n",
      "                  (query): Linear(in_features=768, out_features=768, bias=True)\n",
      "                  (key): Linear(in_features=768, out_features=768, bias=True)\n",
      "                  (value): Linear(in_features=768, out_features=768, bias=True)\n",
      "                  (dropout): Dropout(p=0.1, inplace=False)\n",
      "                )\n",
      "                (output): BertSelfOutput(\n",
      "                  (dense): Linear(in_features=768, out_features=768, bias=True)\n",
      "                  (LayerNorm): LayerNorm((768,), eps=1e-12, elementwise_affine=True)\n",
      "                  (dropout): Dropout(p=0.1, inplace=False)\n",
      "                )\n",
      "              )\n",
      "              (intermediate): BertIntermediate(\n",
      "                (dense): Linear(in_features=768, out_features=3072, bias=True)\n",
      "              )\n",
      "              (output): BertOutput(\n",
      "                (dense): Linear(in_features=3072, out_features=768, bias=True)\n",
      "                (LayerNorm): LayerNorm((768,), eps=1e-12, elementwise_affine=True)\n",
      "                (dropout): Dropout(p=0.1, inplace=False)\n",
      "              )\n",
      "            )\n",
      "            (9): BertLayer(\n",
      "              (attention): BertAttention(\n",
      "                (self): BertSelfAttention(\n",
      "                  (query): Linear(in_features=768, out_features=768, bias=True)\n",
      "                  (key): Linear(in_features=768, out_features=768, bias=True)\n",
      "                  (value): Linear(in_features=768, out_features=768, bias=True)\n",
      "                  (dropout): Dropout(p=0.1, inplace=False)\n",
      "                )\n",
      "                (output): BertSelfOutput(\n",
      "                  (dense): Linear(in_features=768, out_features=768, bias=True)\n",
      "                  (LayerNorm): LayerNorm((768,), eps=1e-12, elementwise_affine=True)\n",
      "                  (dropout): Dropout(p=0.1, inplace=False)\n",
      "                )\n",
      "              )\n",
      "              (intermediate): BertIntermediate(\n",
      "                (dense): Linear(in_features=768, out_features=3072, bias=True)\n",
      "              )\n",
      "              (output): BertOutput(\n",
      "                (dense): Linear(in_features=3072, out_features=768, bias=True)\n",
      "                (LayerNorm): LayerNorm((768,), eps=1e-12, elementwise_affine=True)\n",
      "                (dropout): Dropout(p=0.1, inplace=False)\n",
      "              )\n",
      "            )\n",
      "            (10): BertLayer(\n",
      "              (attention): BertAttention(\n",
      "                (self): BertSelfAttention(\n",
      "                  (query): Linear(in_features=768, out_features=768, bias=True)\n",
      "                  (key): Linear(in_features=768, out_features=768, bias=True)\n",
      "                  (value): Linear(in_features=768, out_features=768, bias=True)\n",
      "                  (dropout): Dropout(p=0.1, inplace=False)\n",
      "                )\n",
      "                (output): BertSelfOutput(\n",
      "                  (dense): Linear(in_features=768, out_features=768, bias=True)\n",
      "                  (LayerNorm): LayerNorm((768,), eps=1e-12, elementwise_affine=True)\n",
      "                  (dropout): Dropout(p=0.1, inplace=False)\n",
      "                )\n",
      "              )\n",
      "              (intermediate): BertIntermediate(\n",
      "                (dense): Linear(in_features=768, out_features=3072, bias=True)\n",
      "              )\n",
      "              (output): BertOutput(\n",
      "                (dense): Linear(in_features=3072, out_features=768, bias=True)\n",
      "                (LayerNorm): LayerNorm((768,), eps=1e-12, elementwise_affine=True)\n",
      "                (dropout): Dropout(p=0.1, inplace=False)\n",
      "              )\n",
      "            )\n",
      "            (11): BertLayer(\n",
      "              (attention): BertAttention(\n",
      "                (self): BertSelfAttention(\n",
      "                  (query): Linear(in_features=768, out_features=768, bias=True)\n",
      "                  (key): Linear(in_features=768, out_features=768, bias=True)\n",
      "                  (value): Linear(in_features=768, out_features=768, bias=True)\n",
      "                  (dropout): Dropout(p=0.1, inplace=False)\n",
      "                )\n",
      "                (output): BertSelfOutput(\n",
      "                  (dense): Linear(in_features=768, out_features=768, bias=True)\n",
      "                  (LayerNorm): LayerNorm((768,), eps=1e-12, elementwise_affine=True)\n",
      "                  (dropout): Dropout(p=0.1, inplace=False)\n",
      "                )\n",
      "              )\n",
      "              (intermediate): BertIntermediate(\n",
      "                (dense): Linear(in_features=768, out_features=3072, bias=True)\n",
      "              )\n",
      "              (output): BertOutput(\n",
      "                (dense): Linear(in_features=3072, out_features=768, bias=True)\n",
      "                (LayerNorm): LayerNorm((768,), eps=1e-12, elementwise_affine=True)\n",
      "                (dropout): Dropout(p=0.1, inplace=False)\n",
      "              )\n",
      "            )\n",
      "          )\n",
      "        )\n",
      "        (pooler): BertPooler(\n",
      "          (dense): Linear(in_features=768, out_features=768, bias=True)\n",
      "          (activation): Tanh()\n",
      "        )\n",
      "      )\n",
      "    )\n",
      "    (decoder): Linear(in_features=768, out_features=2, bias=True)\n",
      "  )\n",
      ")\"\n",
      "2021-11-05 00:59:34,830 ----------------------------------------------------------------------------------------------------\n",
      "2021-11-05 00:59:34,831 Corpus: \"Corpus: 152 train + 17 dev + 169 test sentences\"\n",
      "2021-11-05 00:59:34,831 ----------------------------------------------------------------------------------------------------\n",
      "2021-11-05 00:59:34,831 Parameters:\n",
      "2021-11-05 00:59:34,832  - learning_rate: \"0.02\"\n",
      "2021-11-05 00:59:34,832  - mini_batch_size: \"16\"\n",
      "2021-11-05 00:59:34,833  - patience: \"3\"\n",
      "2021-11-05 00:59:34,833  - anneal_factor: \"0.5\"\n",
      "2021-11-05 00:59:34,833  - max_epochs: \"10\"\n",
      "2021-11-05 00:59:34,834  - shuffle: \"True\"\n",
      "2021-11-05 00:59:34,834  - train_with_dev: \"True\"\n",
      "2021-11-05 00:59:34,834  - batch_growth_annealing: \"False\"\n",
      "2021-11-05 00:59:34,835 ----------------------------------------------------------------------------------------------------\n",
      "2021-11-05 00:59:34,836 Model training base path: \"models/few-shot-smaller-set\"\n",
      "2021-11-05 00:59:34,836 ----------------------------------------------------------------------------------------------------\n",
      "2021-11-05 00:59:34,836 Device: cuda:0\n",
      "2021-11-05 00:59:34,837 ----------------------------------------------------------------------------------------------------\n",
      "2021-11-05 00:59:34,837 Embeddings storage mode: cpu\n",
      "2021-11-05 00:59:34,839 ----------------------------------------------------------------------------------------------------\n",
      "2021-11-05 00:59:34,953 epoch 1 - iter 1/11 - loss 0.01155394 - samples/sec: 156.92 - lr: 0.020000\n"
     ]
    },
    {
     "name": "stderr",
     "output_type": "stream",
     "text": [
      "\n"
     ]
    },
    {
     "name": "stdout",
     "output_type": "stream",
     "text": [
      "2021-11-05 00:59:35,064 epoch 1 - iter 2/11 - loss 0.01877687 - samples/sec: 145.26 - lr: 0.020000\n",
      "2021-11-05 00:59:35,217 epoch 1 - iter 3/11 - loss 0.01596526 - samples/sec: 105.16 - lr: 0.020000\n",
      "2021-11-05 00:59:35,309 epoch 1 - iter 4/11 - loss 0.01566565 - samples/sec: 174.66 - lr: 0.020000\n",
      "2021-11-05 00:59:35,416 epoch 1 - iter 5/11 - loss 0.01429666 - samples/sec: 150.69 - lr: 0.020000\n",
      "2021-11-05 00:59:35,510 epoch 1 - iter 6/11 - loss 0.01496256 - samples/sec: 170.94 - lr: 0.020000\n",
      "2021-11-05 00:59:35,634 epoch 1 - iter 7/11 - loss 0.01461281 - samples/sec: 129.97 - lr: 0.020000\n",
      "2021-11-05 00:59:35,741 epoch 1 - iter 8/11 - loss 0.01395825 - samples/sec: 149.32 - lr: 0.020000\n",
      "2021-11-05 00:59:35,831 epoch 1 - iter 9/11 - loss 0.01357035 - samples/sec: 179.77 - lr: 0.020000\n",
      "2021-11-05 00:59:35,948 epoch 1 - iter 10/11 - loss 0.01312395 - samples/sec: 137.57 - lr: 0.020000\n",
      "2021-11-05 00:59:36,027 epoch 1 - iter 11/11 - loss 0.01328158 - samples/sec: 203.91 - lr: 0.020000\n",
      "2021-11-05 00:59:36,028 ----------------------------------------------------------------------------------------------------\n",
      "2021-11-05 00:59:36,029 EPOCH 1 done: loss 0.0133 - lr 0.0200000\n",
      "2021-11-05 00:59:36,029 BAD EPOCHS (no improvement): 0\n",
      "2021-11-05 00:59:36,029 ----------------------------------------------------------------------------------------------------\n",
      "2021-11-05 00:59:36,132 epoch 2 - iter 1/11 - loss 0.00880961 - samples/sec: 173.84 - lr: 0.020000\n",
      "2021-11-05 00:59:36,259 epoch 2 - iter 2/11 - loss 0.00936324 - samples/sec: 126.53 - lr: 0.020000\n",
      "2021-11-05 00:59:36,395 epoch 2 - iter 3/11 - loss 0.00961531 - samples/sec: 118.36 - lr: 0.020000\n",
      "2021-11-05 00:59:36,506 epoch 2 - iter 4/11 - loss 0.00936677 - samples/sec: 144.12 - lr: 0.020000\n",
      "2021-11-05 00:59:36,602 epoch 2 - iter 5/11 - loss 0.00900644 - samples/sec: 167.90 - lr: 0.020000\n",
      "2021-11-05 00:59:36,700 epoch 2 - iter 6/11 - loss 0.00921454 - samples/sec: 163.87 - lr: 0.020000\n",
      "2021-11-05 00:59:36,837 epoch 2 - iter 7/11 - loss 0.00911954 - samples/sec: 117.73 - lr: 0.020000\n",
      "2021-11-05 00:59:36,929 epoch 2 - iter 8/11 - loss 0.00908108 - samples/sec: 174.90 - lr: 0.020000\n",
      "2021-11-05 00:59:37,028 epoch 2 - iter 9/11 - loss 0.00886691 - samples/sec: 162.33 - lr: 0.020000\n",
      "2021-11-05 00:59:37,123 epoch 2 - iter 10/11 - loss 0.00861849 - samples/sec: 170.85 - lr: 0.020000\n",
      "2021-11-05 00:59:37,181 epoch 2 - iter 11/11 - loss 0.00919236 - samples/sec: 277.03 - lr: 0.020000\n",
      "2021-11-05 00:59:37,182 ----------------------------------------------------------------------------------------------------\n",
      "2021-11-05 00:59:37,182 EPOCH 2 done: loss 0.0092 - lr 0.0200000\n",
      "2021-11-05 00:59:37,182 BAD EPOCHS (no improvement): 0\n",
      "2021-11-05 00:59:37,183 ----------------------------------------------------------------------------------------------------\n",
      "2021-11-05 00:59:37,283 epoch 3 - iter 1/11 - loss 0.00365588 - samples/sec: 179.19 - lr: 0.020000\n",
      "2021-11-05 00:59:37,410 epoch 3 - iter 2/11 - loss 0.00411016 - samples/sec: 126.59 - lr: 0.020000\n",
      "2021-11-05 00:59:37,544 epoch 3 - iter 3/11 - loss 0.00508602 - samples/sec: 120.00 - lr: 0.020000\n",
      "2021-11-05 00:59:37,649 epoch 3 - iter 4/11 - loss 0.00586252 - samples/sec: 152.77 - lr: 0.020000\n",
      "2021-11-05 00:59:37,742 epoch 3 - iter 5/11 - loss 0.00581415 - samples/sec: 173.35 - lr: 0.020000\n",
      "2021-11-05 00:59:37,827 epoch 3 - iter 6/11 - loss 0.00643627 - samples/sec: 190.58 - lr: 0.020000\n",
      "2021-11-05 00:59:37,920 epoch 3 - iter 7/11 - loss 0.00608883 - samples/sec: 172.76 - lr: 0.020000\n",
      "2021-11-05 00:59:38,030 epoch 3 - iter 8/11 - loss 0.00593423 - samples/sec: 145.37 - lr: 0.020000\n",
      "2021-11-05 00:59:38,167 epoch 3 - iter 9/11 - loss 0.00603428 - samples/sec: 118.12 - lr: 0.020000\n",
      "2021-11-05 00:59:38,256 epoch 3 - iter 10/11 - loss 0.00594750 - samples/sec: 179.64 - lr: 0.020000\n",
      "2021-11-05 00:59:38,309 epoch 3 - iter 11/11 - loss 0.00630972 - samples/sec: 304.74 - lr: 0.020000\n",
      "2021-11-05 00:59:38,310 ----------------------------------------------------------------------------------------------------\n",
      "2021-11-05 00:59:38,311 EPOCH 3 done: loss 0.0063 - lr 0.0200000\n",
      "2021-11-05 00:59:38,311 BAD EPOCHS (no improvement): 0\n",
      "2021-11-05 00:59:38,311 ----------------------------------------------------------------------------------------------------\n",
      "2021-11-05 00:59:38,413 epoch 4 - iter 1/11 - loss 0.00468957 - samples/sec: 174.15 - lr: 0.020000\n",
      "2021-11-05 00:59:38,507 epoch 4 - iter 2/11 - loss 0.00348390 - samples/sec: 173.02 - lr: 0.020000\n",
      "2021-11-05 00:59:38,610 epoch 4 - iter 3/11 - loss 0.00402532 - samples/sec: 155.97 - lr: 0.020000\n",
      "2021-11-05 00:59:38,722 epoch 4 - iter 4/11 - loss 0.00408815 - samples/sec: 143.33 - lr: 0.020000\n",
      "2021-11-05 00:59:38,837 epoch 4 - iter 5/11 - loss 0.00493412 - samples/sec: 139.56 - lr: 0.020000\n",
      "2021-11-05 00:59:38,947 epoch 4 - iter 6/11 - loss 0.00478077 - samples/sec: 146.95 - lr: 0.020000\n",
      "2021-11-05 00:59:39,044 epoch 4 - iter 7/11 - loss 0.00490162 - samples/sec: 165.93 - lr: 0.020000\n",
      "2021-11-05 00:59:39,179 epoch 4 - iter 8/11 - loss 0.00463733 - samples/sec: 118.92 - lr: 0.020000\n",
      "2021-11-05 00:59:39,268 epoch 4 - iter 9/11 - loss 0.00469794 - samples/sec: 180.34 - lr: 0.020000\n",
      "2021-11-05 00:59:39,365 epoch 4 - iter 10/11 - loss 0.00494841 - samples/sec: 166.13 - lr: 0.020000\n",
      "2021-11-05 00:59:39,426 epoch 4 - iter 11/11 - loss 0.00486185 - samples/sec: 265.22 - lr: 0.020000\n",
      "2021-11-05 00:59:39,427 ----------------------------------------------------------------------------------------------------\n",
      "2021-11-05 00:59:39,428 EPOCH 4 done: loss 0.0049 - lr 0.0200000\n",
      "2021-11-05 00:59:39,428 BAD EPOCHS (no improvement): 0\n",
      "2021-11-05 00:59:39,428 ----------------------------------------------------------------------------------------------------\n",
      "2021-11-05 00:59:39,545 epoch 5 - iter 1/11 - loss 0.00447896 - samples/sec: 150.09 - lr: 0.020000\n",
      "2021-11-05 00:59:39,635 epoch 5 - iter 2/11 - loss 0.00282236 - samples/sec: 178.75 - lr: 0.020000\n",
      "2021-11-05 00:59:39,762 epoch 5 - iter 3/11 - loss 0.00283994 - samples/sec: 126.30 - lr: 0.020000\n",
      "2021-11-05 00:59:39,879 epoch 5 - iter 4/11 - loss 0.00254521 - samples/sec: 138.10 - lr: 0.020000\n",
      "2021-11-05 00:59:40,000 epoch 5 - iter 5/11 - loss 0.00258154 - samples/sec: 133.13 - lr: 0.020000\n",
      "2021-11-05 00:59:40,091 epoch 5 - iter 6/11 - loss 0.00257809 - samples/sec: 175.78 - lr: 0.020000\n",
      "2021-11-05 00:59:40,197 epoch 5 - iter 7/11 - loss 0.00277022 - samples/sec: 152.00 - lr: 0.020000\n",
      "2021-11-05 00:59:40,288 epoch 5 - iter 8/11 - loss 0.00291724 - samples/sec: 178.27 - lr: 0.020000\n",
      "2021-11-05 00:59:40,368 epoch 5 - iter 9/11 - loss 0.00272302 - samples/sec: 200.37 - lr: 0.020000\n",
      "2021-11-05 00:59:40,459 epoch 5 - iter 10/11 - loss 0.00288999 - samples/sec: 176.29 - lr: 0.020000\n",
      "2021-11-05 00:59:40,546 epoch 5 - iter 11/11 - loss 0.00282524 - samples/sec: 186.70 - lr: 0.020000\n",
      "2021-11-05 00:59:40,547 ----------------------------------------------------------------------------------------------------\n",
      "2021-11-05 00:59:40,547 EPOCH 5 done: loss 0.0028 - lr 0.0200000\n",
      "2021-11-05 00:59:40,547 BAD EPOCHS (no improvement): 0\n",
      "2021-11-05 00:59:40,548 ----------------------------------------------------------------------------------------------------\n",
      "2021-11-05 00:59:40,648 epoch 6 - iter 1/11 - loss 0.00126637 - samples/sec: 177.61 - lr: 0.020000\n",
      "2021-11-05 00:59:40,738 epoch 6 - iter 2/11 - loss 0.00158906 - samples/sec: 180.11 - lr: 0.020000\n",
      "2021-11-05 00:59:40,874 epoch 6 - iter 3/11 - loss 0.00123716 - samples/sec: 118.62 - lr: 0.020000\n",
      "2021-11-05 00:59:40,979 epoch 6 - iter 4/11 - loss 0.00158264 - samples/sec: 152.59 - lr: 0.020000\n",
      "2021-11-05 00:59:41,076 epoch 6 - iter 5/11 - loss 0.00152333 - samples/sec: 166.52 - lr: 0.020000\n",
      "2021-11-05 00:59:41,165 epoch 6 - iter 6/11 - loss 0.00168998 - samples/sec: 179.78 - lr: 0.020000\n",
      "2021-11-05 00:59:41,258 epoch 6 - iter 7/11 - loss 0.00173436 - samples/sec: 174.17 - lr: 0.020000\n",
      "2021-11-05 00:59:41,354 epoch 6 - iter 8/11 - loss 0.00174052 - samples/sec: 167.74 - lr: 0.020000\n",
      "2021-11-05 00:59:41,464 epoch 6 - iter 9/11 - loss 0.00204470 - samples/sec: 146.58 - lr: 0.020000\n",
      "2021-11-05 00:59:41,600 epoch 6 - iter 10/11 - loss 0.00204031 - samples/sec: 117.82 - lr: 0.020000\n",
      "2021-11-05 00:59:41,660 epoch 6 - iter 11/11 - loss 0.00210455 - samples/sec: 270.33 - lr: 0.020000\n",
      "2021-11-05 00:59:41,661 ----------------------------------------------------------------------------------------------------\n",
      "2021-11-05 00:59:41,662 EPOCH 6 done: loss 0.0021 - lr 0.0200000\n",
      "2021-11-05 00:59:41,662 BAD EPOCHS (no improvement): 0\n",
      "2021-11-05 00:59:41,663 ----------------------------------------------------------------------------------------------------\n",
      "2021-11-05 00:59:41,747 epoch 7 - iter 1/11 - loss 0.00396696 - samples/sec: 214.95 - lr: 0.020000\n",
      "2021-11-05 00:59:41,837 epoch 7 - iter 2/11 - loss 0.00330503 - samples/sec: 178.13 - lr: 0.020000\n",
      "2021-11-05 00:59:41,954 epoch 7 - iter 3/11 - loss 0.00299535 - samples/sec: 137.32 - lr: 0.020000\n",
      "2021-11-05 00:59:42,077 epoch 7 - iter 4/11 - loss 0.00236553 - samples/sec: 131.12 - lr: 0.020000\n",
      "2021-11-05 00:59:42,166 epoch 7 - iter 5/11 - loss 0.00206959 - samples/sec: 181.36 - lr: 0.020000\n",
      "2021-11-05 00:59:42,259 epoch 7 - iter 6/11 - loss 0.00197218 - samples/sec: 173.43 - lr: 0.020000\n",
      "2021-11-05 00:59:42,395 epoch 7 - iter 7/11 - loss 0.00190884 - samples/sec: 118.32 - lr: 0.020000\n",
      "2021-11-05 00:59:42,530 epoch 7 - iter 8/11 - loss 0.00193839 - samples/sec: 118.68 - lr: 0.020000\n",
      "2021-11-05 00:59:42,620 epoch 7 - iter 9/11 - loss 0.00191183 - samples/sec: 179.46 - lr: 0.020000\n",
      "2021-11-05 00:59:42,727 epoch 7 - iter 10/11 - loss 0.00224786 - samples/sec: 150.78 - lr: 0.020000\n",
      "2021-11-05 00:59:42,787 epoch 7 - iter 11/11 - loss 0.00219494 - samples/sec: 270.46 - lr: 0.020000\n",
      "2021-11-05 00:59:42,788 ----------------------------------------------------------------------------------------------------\n",
      "2021-11-05 00:59:42,788 EPOCH 7 done: loss 0.0022 - lr 0.0200000\n",
      "2021-11-05 00:59:42,788 BAD EPOCHS (no improvement): 1\n",
      "2021-11-05 00:59:42,789 ----------------------------------------------------------------------------------------------------\n",
      "2021-11-05 00:59:42,932 epoch 8 - iter 1/11 - loss 0.00080304 - samples/sec: 120.46 - lr: 0.020000\n",
      "2021-11-05 00:59:43,017 epoch 8 - iter 2/11 - loss 0.00093284 - samples/sec: 190.15 - lr: 0.020000\n",
      "2021-11-05 00:59:43,115 epoch 8 - iter 3/11 - loss 0.00067912 - samples/sec: 163.46 - lr: 0.020000\n",
      "2021-11-05 00:59:43,244 epoch 8 - iter 4/11 - loss 0.00077104 - samples/sec: 125.07 - lr: 0.020000\n",
      "2021-11-05 00:59:43,340 epoch 8 - iter 5/11 - loss 0.00117609 - samples/sec: 168.18 - lr: 0.020000\n",
      "2021-11-05 00:59:43,431 epoch 8 - iter 6/11 - loss 0.00115635 - samples/sec: 176.73 - lr: 0.020000\n",
      "2021-11-05 00:59:43,552 epoch 8 - iter 7/11 - loss 0.00117808 - samples/sec: 132.77 - lr: 0.020000\n",
      "2021-11-05 00:59:43,667 epoch 8 - iter 8/11 - loss 0.00109930 - samples/sec: 140.40 - lr: 0.020000\n",
      "2021-11-05 00:59:43,754 epoch 8 - iter 9/11 - loss 0.00134572 - samples/sec: 184.96 - lr: 0.020000\n",
      "2021-11-05 00:59:43,846 epoch 8 - iter 10/11 - loss 0.00137838 - samples/sec: 174.49 - lr: 0.020000\n",
      "2021-11-05 00:59:43,907 epoch 8 - iter 11/11 - loss 0.00148442 - samples/sec: 265.64 - lr: 0.020000\n",
      "2021-11-05 00:59:43,908 ----------------------------------------------------------------------------------------------------\n",
      "2021-11-05 00:59:43,908 EPOCH 8 done: loss 0.0015 - lr 0.0200000\n",
      "2021-11-05 00:59:43,909 BAD EPOCHS (no improvement): 0\n",
      "2021-11-05 00:59:43,909 ----------------------------------------------------------------------------------------------------\n",
      "2021-11-05 00:59:44,009 epoch 9 - iter 1/11 - loss 0.00036661 - samples/sec: 178.31 - lr: 0.020000\n",
      "2021-11-05 00:59:44,150 epoch 9 - iter 2/11 - loss 0.00035477 - samples/sec: 113.53 - lr: 0.020000\n",
      "2021-11-05 00:59:44,264 epoch 9 - iter 3/11 - loss 0.00030039 - samples/sec: 140.87 - lr: 0.020000\n",
      "2021-11-05 00:59:44,348 epoch 9 - iter 4/11 - loss 0.00028076 - samples/sec: 193.30 - lr: 0.020000\n",
      "2021-11-05 00:59:44,440 epoch 9 - iter 5/11 - loss 0.00104786 - samples/sec: 174.38 - lr: 0.020000\n",
      "2021-11-05 00:59:44,533 epoch 9 - iter 6/11 - loss 0.00094017 - samples/sec: 173.16 - lr: 0.020000\n",
      "2021-11-05 00:59:44,657 epoch 9 - iter 7/11 - loss 0.00114037 - samples/sec: 129.95 - lr: 0.020000\n",
      "2021-11-05 00:59:44,763 epoch 9 - iter 8/11 - loss 0.00102435 - samples/sec: 151.11 - lr: 0.020000\n",
      "2021-11-05 00:59:44,900 epoch 9 - iter 9/11 - loss 0.00101395 - samples/sec: 117.60 - lr: 0.020000\n",
      "2021-11-05 00:59:44,985 epoch 9 - iter 10/11 - loss 0.00095319 - samples/sec: 189.00 - lr: 0.020000\n",
      "2021-11-05 00:59:45,046 epoch 9 - iter 11/11 - loss 0.00090971 - samples/sec: 265.35 - lr: 0.020000\n",
      "2021-11-05 00:59:45,047 ----------------------------------------------------------------------------------------------------\n",
      "2021-11-05 00:59:45,047 EPOCH 9 done: loss 0.0009 - lr 0.0200000\n",
      "2021-11-05 00:59:45,048 BAD EPOCHS (no improvement): 0\n",
      "2021-11-05 00:59:45,048 ----------------------------------------------------------------------------------------------------\n",
      "2021-11-05 00:59:45,153 epoch 10 - iter 1/11 - loss 0.00016242 - samples/sec: 169.14 - lr: 0.020000\n",
      "2021-11-05 00:59:45,261 epoch 10 - iter 2/11 - loss 0.00047963 - samples/sec: 148.61 - lr: 0.020000\n",
      "2021-11-05 00:59:45,372 epoch 10 - iter 3/11 - loss 0.00038318 - samples/sec: 145.24 - lr: 0.020000\n",
      "2021-11-05 00:59:45,491 epoch 10 - iter 4/11 - loss 0.00032653 - samples/sec: 135.52 - lr: 0.020000\n",
      "2021-11-05 00:59:45,573 epoch 10 - iter 5/11 - loss 0.00034999 - samples/sec: 196.25 - lr: 0.020000\n",
      "2021-11-05 00:59:45,664 epoch 10 - iter 6/11 - loss 0.00067896 - samples/sec: 178.29 - lr: 0.020000\n",
      "2021-11-05 00:59:45,792 epoch 10 - iter 7/11 - loss 0.00070120 - samples/sec: 125.50 - lr: 0.020000\n",
      "2021-11-05 00:59:45,881 epoch 10 - iter 8/11 - loss 0.00068400 - samples/sec: 180.47 - lr: 0.020000\n",
      "2021-11-05 00:59:46,003 epoch 10 - iter 9/11 - loss 0.00064832 - samples/sec: 132.52 - lr: 0.020000\n",
      "2021-11-05 00:59:46,095 epoch 10 - iter 10/11 - loss 0.00060153 - samples/sec: 173.44 - lr: 0.020000\n",
      "2021-11-05 00:59:46,179 epoch 10 - iter 11/11 - loss 0.00057876 - samples/sec: 192.01 - lr: 0.020000\n",
      "2021-11-05 00:59:46,180 ----------------------------------------------------------------------------------------------------\n",
      "2021-11-05 00:59:46,181 EPOCH 10 done: loss 0.0006 - lr 0.0200000\n",
      "2021-11-05 00:59:46,181 BAD EPOCHS (no improvement): 0\n",
      "2021-11-05 00:59:47,437 ----------------------------------------------------------------------------------------------------\n",
      "2021-11-05 00:59:47,439 Testing using last state of model ...\n",
      "2021-11-05 00:59:53,379 0.1667\t1.0\t0.2857\t0.0\n",
      "2021-11-05 00:59:53,380 \n",
      "Results:\n",
      "- F-score (micro) 0.2857\n",
      "- F-score (macro) 0.2604\n",
      "- Accuracy 0.0\n",
      "\n",
      "By class:\n",
      "                      precision    recall  f1-score   support\n",
      "\n",
      "            strategy     0.4201    1.0000    0.5917        71\n",
      "body or organization     0.3136    1.0000    0.4775        53\n",
      "           diagnosis     0.1006    1.0000    0.1828        17\n",
      "          principles     0.0888    1.0000    0.1630        15\n",
      "          regulation     0.0533    1.0000    0.1011         9\n",
      "      pre-regulation     0.0237    1.0000    0.0462         4\n",
      "\n",
      "           micro avg     0.1667    1.0000    0.2857       169\n",
      "           macro avg     0.1667    1.0000    0.2604       169\n",
      "        weighted avg     0.2962    1.0000    0.4377       169\n",
      "         samples avg     0.1667    1.0000    0.2857       169\n",
      "\n",
      "2021-11-05 00:59:53,380 ----------------------------------------------------------------------------------------------------\n",
      "2021-11-05 00:59:53,381 loading file models/few-shot-smaller-set/final-model.pt\n",
      "{'TREC_6': {'label_dictionary': <flair.data.Dictionary object at 0x7f31a8ba85e0>, 'multi_label': False, 'multi_label_threshold': 0.5, 'label_type': None, 'beta': 1.0}, 'DBPedia': {'label_dictionary': <flair.data.Dictionary object at 0x7f31a8ba8460>, 'multi_label': False, 'multi_label_threshold': 0.5, 'label_type': None, 'beta': 1.0}, 'AGNews': {'label_dictionary': <flair.data.Dictionary object at 0x7f31a8ba81f0>, 'multi_label': False, 'multi_label_threshold': 0.5, 'label_type': None, 'beta': 1.0}, 'IMDB': {'label_dictionary': <flair.data.Dictionary object at 0x7f31a8ba8070>, 'multi_label': False, 'multi_label_threshold': 0.5, 'label_type': None, 'beta': 1.0}, 'SST': {'label_dictionary': <flair.data.Dictionary object at 0x7f31a8ba8820>, 'multi_label': False, 'multi_label_threshold': 0.5, 'label_type': None, 'beta': 1.0}, 'GO_EMOTIONS': {'label_dictionary': <flair.data.Dictionary object at 0x7f31a8ba8190>, 'multi_label': True, 'multi_label_threshold': 0.5, 'label_type': None, 'beta': 1.0}, 'NEWS_CATEGORY': {'label_dictionary': <flair.data.Dictionary object at 0x7f31a8979580>, 'multi_label': False, 'multi_label_threshold': 0.5, 'label_type': None, 'beta': 1.0}, 'Amazon': {'label_dictionary': <flair.data.Dictionary object at 0x7f31a8979d60>, 'multi_label': False, 'multi_label_threshold': 0.5, 'label_type': None, 'beta': 1.0}, 'Yelp': {'label_dictionary': <flair.data.Dictionary object at 0x7f31a8979d90>, 'multi_label': False, 'multi_label_threshold': 0.5, 'label_type': None, 'beta': 1.0}, 'Document function classification': {'label_dictionary': <flair.data.Dictionary object at 0x7f31a886a310>, 'label_type': 'Document function'}}\n"
     ]
    }
   ],
   "source": [
    "trained_small = train_and_get_model(train.title, train.documentFunction, test.title, test.documentFunction, \"few-shot-smaller-set\")"
   ]
  },
  {
   "cell_type": "code",
   "execution_count": 224,
   "id": "d9aeed21",
   "metadata": {},
   "outputs": [],
   "source": [
    "test_sents = test.title.apply(Sentence)\n",
    "trained_small.predict(list(test_sents))\n",
    "pred, scores = get_predictions(test_sents)\n",
    "acc = accuracy_score(test.documentFunction, pred)\n"
   ]
  },
  {
   "cell_type": "code",
   "execution_count": 225,
   "id": "59b9507b",
   "metadata": {},
   "outputs": [
    {
     "data": {
      "text/plain": [
       "0.834319526627219"
      ]
     },
     "execution_count": 225,
     "metadata": {},
     "output_type": "execute_result"
    }
   ],
   "source": [
    "acc"
   ]
  },
  {
   "cell_type": "markdown",
   "id": "efdcf3cb",
   "metadata": {},
   "source": [
    "## bert Baseline"
   ]
  },
  {
   "cell_type": "code",
   "execution_count": 95,
   "id": "cc54d710",
   "metadata": {},
   "outputs": [
    {
     "name": "stderr",
     "output_type": "stream",
     "text": [
      "loading configuration file https://huggingface.co/distilbert-base-uncased/resolve/main/config.json from cache at /home/stanislaw/.cache/huggingface/transformers/23454919702d26495337f3da04d1655c7ee010d5ec9d77bdb9e399e00302c0a1.91b885ab15d631bf9cee9dc9d25ece0afd932f2f5130eba28f2055b2220c0333\n",
      "Model config DistilBertConfig {\n",
      "  \"activation\": \"gelu\",\n",
      "  \"architectures\": [\n",
      "    \"DistilBertForMaskedLM\"\n",
      "  ],\n",
      "  \"attention_dropout\": 0.1,\n",
      "  \"dim\": 768,\n",
      "  \"dropout\": 0.1,\n",
      "  \"hidden_dim\": 3072,\n",
      "  \"initializer_range\": 0.02,\n",
      "  \"max_position_embeddings\": 512,\n",
      "  \"model_type\": \"distilbert\",\n",
      "  \"n_heads\": 12,\n",
      "  \"n_layers\": 6,\n",
      "  \"pad_token_id\": 0,\n",
      "  \"qa_dropout\": 0.1,\n",
      "  \"seq_classif_dropout\": 0.2,\n",
      "  \"sinusoidal_pos_embds\": false,\n",
      "  \"tie_weights_\": true,\n",
      "  \"transformers_version\": \"4.12.3\",\n",
      "  \"vocab_size\": 30522\n",
      "}\n",
      "\n",
      "loading file https://huggingface.co/distilbert-base-uncased/resolve/main/vocab.txt from cache at /home/stanislaw/.cache/huggingface/transformers/0e1bbfda7f63a99bb52e3915dcf10c3c92122b827d92eb2d34ce94ee79ba486c.d789d64ebfe299b0e416afc4a169632f903f693095b4629a7ea271d5a0cf2c99\n",
      "loading file https://huggingface.co/distilbert-base-uncased/resolve/main/tokenizer.json from cache at /home/stanislaw/.cache/huggingface/transformers/75abb59d7a06f4f640158a9bfcde005264e59e8d566781ab1415b139d2e4c603.7f2721073f19841be16f41b0a70b600ca6b880c8f3df6f3535cbc704371bdfa4\n",
      "loading file https://huggingface.co/distilbert-base-uncased/resolve/main/added_tokens.json from cache at None\n",
      "loading file https://huggingface.co/distilbert-base-uncased/resolve/main/special_tokens_map.json from cache at None\n",
      "loading file https://huggingface.co/distilbert-base-uncased/resolve/main/tokenizer_config.json from cache at /home/stanislaw/.cache/huggingface/transformers/8c8624b8ac8aa99c60c912161f8332de003484428c47906d7ff7eb7f73eecdbb.20430bd8e10ef77a7d2977accefe796051e01bc2fc4aa146bc862997a1a15e79\n",
      "loading configuration file https://huggingface.co/distilbert-base-uncased/resolve/main/config.json from cache at /home/stanislaw/.cache/huggingface/transformers/23454919702d26495337f3da04d1655c7ee010d5ec9d77bdb9e399e00302c0a1.91b885ab15d631bf9cee9dc9d25ece0afd932f2f5130eba28f2055b2220c0333\n",
      "Model config DistilBertConfig {\n",
      "  \"activation\": \"gelu\",\n",
      "  \"architectures\": [\n",
      "    \"DistilBertForMaskedLM\"\n",
      "  ],\n",
      "  \"attention_dropout\": 0.1,\n",
      "  \"dim\": 768,\n",
      "  \"dropout\": 0.1,\n",
      "  \"hidden_dim\": 3072,\n",
      "  \"initializer_range\": 0.02,\n",
      "  \"max_position_embeddings\": 512,\n",
      "  \"model_type\": \"distilbert\",\n",
      "  \"n_heads\": 12,\n",
      "  \"n_layers\": 6,\n",
      "  \"pad_token_id\": 0,\n",
      "  \"qa_dropout\": 0.1,\n",
      "  \"seq_classif_dropout\": 0.2,\n",
      "  \"sinusoidal_pos_embds\": false,\n",
      "  \"tie_weights_\": true,\n",
      "  \"transformers_version\": \"4.12.3\",\n",
      "  \"vocab_size\": 30522\n",
      "}\n",
      "\n",
      "loading configuration file https://huggingface.co/distilbert-base-uncased/resolve/main/config.json from cache at /home/stanislaw/.cache/huggingface/transformers/23454919702d26495337f3da04d1655c7ee010d5ec9d77bdb9e399e00302c0a1.91b885ab15d631bf9cee9dc9d25ece0afd932f2f5130eba28f2055b2220c0333\n",
      "Model config DistilBertConfig {\n",
      "  \"activation\": \"gelu\",\n",
      "  \"architectures\": [\n",
      "    \"DistilBertForMaskedLM\"\n",
      "  ],\n",
      "  \"attention_dropout\": 0.1,\n",
      "  \"dim\": 768,\n",
      "  \"dropout\": 0.1,\n",
      "  \"hidden_dim\": 3072,\n",
      "  \"id2label\": {\n",
      "    \"0\": \"LABEL_0\",\n",
      "    \"1\": \"LABEL_1\",\n",
      "    \"2\": \"LABEL_2\",\n",
      "    \"3\": \"LABEL_3\",\n",
      "    \"4\": \"LABEL_4\",\n",
      "    \"5\": \"LABEL_5\"\n",
      "  },\n",
      "  \"initializer_range\": 0.02,\n",
      "  \"label2id\": {\n",
      "    \"LABEL_0\": 0,\n",
      "    \"LABEL_1\": 1,\n",
      "    \"LABEL_2\": 2,\n",
      "    \"LABEL_3\": 3,\n",
      "    \"LABEL_4\": 4,\n",
      "    \"LABEL_5\": 5\n",
      "  },\n",
      "  \"max_position_embeddings\": 512,\n",
      "  \"model_type\": \"distilbert\",\n",
      "  \"n_heads\": 12,\n",
      "  \"n_layers\": 6,\n",
      "  \"pad_token_id\": 0,\n",
      "  \"qa_dropout\": 0.1,\n",
      "  \"seq_classif_dropout\": 0.2,\n",
      "  \"sinusoidal_pos_embds\": false,\n",
      "  \"tie_weights_\": true,\n",
      "  \"transformers_version\": \"4.12.3\",\n",
      "  \"vocab_size\": 30522\n",
      "}\n",
      "\n",
      "loading weights file https://huggingface.co/distilbert-base-uncased/resolve/main/pytorch_model.bin from cache at /home/stanislaw/.cache/huggingface/transformers/9c169103d7e5a73936dd2b627e42851bec0831212b677c637033ee4bce9ab5ee.126183e36667471617ae2f0835fab707baa54b731f991507ebbb55ea85adb12a\n",
      "Some weights of the model checkpoint at distilbert-base-uncased were not used when initializing DistilBertForSequenceClassification: ['vocab_projector.bias', 'vocab_projector.weight', 'vocab_transform.bias', 'vocab_layer_norm.bias', 'vocab_layer_norm.weight', 'vocab_transform.weight']\n",
      "- This IS expected if you are initializing DistilBertForSequenceClassification from the checkpoint of a model trained on another task or with another architecture (e.g. initializing a BertForSequenceClassification model from a BertForPreTraining model).\n",
      "- This IS NOT expected if you are initializing DistilBertForSequenceClassification from the checkpoint of a model that you expect to be exactly identical (initializing a BertForSequenceClassification model from a BertForSequenceClassification model).\n",
      "Some weights of DistilBertForSequenceClassification were not initialized from the model checkpoint at distilbert-base-uncased and are newly initialized: ['pre_classifier.bias', 'classifier.bias', 'classifier.weight', 'pre_classifier.weight']\n",
      "You should probably TRAIN this model on a down-stream task to be able to use it for predictions and inference.\n"
     ]
    }
   ],
   "source": [
    "from transformers import AutoTokenizer\n",
    "from transformers import AutoModelForSequenceClassification\n",
    "\n",
    "tokenizer = AutoTokenizer.from_pretrained(\"distilbert-base-uncased\")\n",
    "model = AutoModelForSequenceClassification.from_pretrained(\"distilbert-base-uncased\", num_labels=6)\n"
   ]
  },
  {
   "cell_type": "code",
   "execution_count": 96,
   "metadata": {},
   "outputs": [],
   "source": [
    "from datasets import Dataset\n"
   ]
  },
  {
   "cell_type": "code",
   "execution_count": 97,
   "metadata": {},
   "outputs": [],
   "source": [
    "func_to_label={'body or organization': 0,\n",
    " 'strategy': 1,\n",
    " 'regulation': 2,\n",
    " 'pre-regulation': 3,\n",
    " 'principles': 4,\n",
    " 'diagnosis': 5}"
   ]
  },
  {
   "cell_type": "code",
   "execution_count": 98,
   "metadata": {},
   "outputs": [],
   "source": [
    "train = Dataset.from_pandas(df)\n",
    "test = Dataset.from_pandas(df_test)\n",
    "\n",
    "# train = train.rename_column('documentFunction', 'label')\n",
    "# test = test.rename_column('documentFunction', 'label')"
   ]
  },
  {
   "cell_type": "code",
   "execution_count": 99,
   "metadata": {},
   "outputs": [
    {
     "name": "stderr",
     "output_type": "stream",
     "text": [
      "100%|██████████| 253/253 [00:00<00:00, 20515.40ex/s]\n",
      "100%|██████████| 85/85 [00:00<00:00, 18993.92ex/s]\n",
      "100%|██████████| 1/1 [00:00<00:00, 38.79ba/s]\n",
      "100%|██████████| 1/1 [00:00<00:00, 124.19ba/s]\n"
     ]
    }
   ],
   "source": [
    "train = train.map(lambda a: {'label':func_to_label[a['documentFunction']]})\n",
    "test = test.map(lambda a: {'label':func_to_label[a['documentFunction']]})\n",
    "train = train.remove_columns(['oecdId','docFunctionLong','documentFunction'])\n",
    "test = test.remove_columns(['oecdId','docFunctionLong','documentFunction'])\n",
    "\n",
    "train = train.map(lambda e: tokenizer(e['title'], truncation=True, padding='max_length'), batched=True)\n",
    "test = test.map(lambda e: tokenizer(e['title'], truncation=True, padding='max_length'), batched=True)\n"
   ]
  },
  {
   "cell_type": "code",
   "execution_count": 100,
   "metadata": {},
   "outputs": [
    {
     "data": {
      "text/plain": [
       "Dataset({\n",
       "    features: ['attention_mask', 'input_ids', 'label', 'title'],\n",
       "    num_rows: 253\n",
       "})"
      ]
     },
     "execution_count": 100,
     "metadata": {},
     "output_type": "execute_result"
    }
   ],
   "source": [
    "train"
   ]
  },
  {
   "cell_type": "code",
   "execution_count": 104,
   "metadata": {},
   "outputs": [
    {
     "name": "stderr",
     "output_type": "stream",
     "text": [
      "PyTorch: setting up devices\n",
      "The default value for the training argument `--report_to` will change in v5 (from all installed integrations to none). In v5, you will need to use `--report_to all` to get the same behavior as now. You should start updating your code and make this info disappear :-).\n"
     ]
    }
   ],
   "source": [
    "from transformers import TrainingArguments,Trainer\n",
    "\n",
    "training_args = TrainingArguments(\"destill_bert\",num_train_epochs=10,)\n"
   ]
  },
  {
   "cell_type": "code",
   "execution_count": 126,
   "metadata": {},
   "outputs": [],
   "source": [
    "trainer = Trainer(\n",
    "    model=model, args=training_args, train_dataset=train, eval_dataset=test,compute_metrics=compute_metrics\n",
    ")\n"
   ]
  },
  {
   "cell_type": "code",
   "execution_count": 106,
   "metadata": {},
   "outputs": [
    {
     "name": "stderr",
     "output_type": "stream",
     "text": [
      "***** Running training *****\n",
      "  Num examples = 253\n",
      "  Num Epochs = 10\n",
      "  Instantaneous batch size per device = 8\n",
      "  Total train batch size (w. parallel, distributed & accumulation) = 8\n",
      "  Gradient Accumulation steps = 1\n",
      "  Total optimization steps = 320\n",
      "100%|██████████| 320/320 [01:04<00:00,  5.44it/s]\n",
      "\n",
      "Training completed. Do not forget to share your model on huggingface.co/models =)\n",
      "\n",
      "\n",
      "100%|██████████| 320/320 [01:04<00:00,  4.93it/s]"
     ]
    },
    {
     "name": "stdout",
     "output_type": "stream",
     "text": [
      "{'train_runtime': 64.8633, 'train_samples_per_second': 39.005, 'train_steps_per_second': 4.933, 'train_loss': 0.0505524754524231, 'epoch': 10.0}\n"
     ]
    },
    {
     "name": "stderr",
     "output_type": "stream",
     "text": [
      "\n"
     ]
    },
    {
     "data": {
      "text/plain": [
       "TrainOutput(global_step=320, training_loss=0.0505524754524231, metrics={'train_runtime': 64.8633, 'train_samples_per_second': 39.005, 'train_steps_per_second': 4.933, 'train_loss': 0.0505524754524231, 'epoch': 10.0})"
      ]
     },
     "execution_count": 106,
     "metadata": {},
     "output_type": "execute_result"
    }
   ],
   "source": [
    "trainer.train()\n"
   ]
  },
  {
   "cell_type": "code",
   "execution_count": 125,
   "metadata": {},
   "outputs": [],
   "source": [
    "from datasets import load_metric\n",
    "import numpy as np\n",
    "metric = load_metric(\"accuracy\")\n",
    "def compute_metrics(eval_pred):\n",
    "    logits, labels = eval_pred\n",
    "    predictions = np.argmax(logits, axis=-1)\n",
    "    return metric.compute(predictions=predictions, references=labels)\n",
    "\n"
   ]
  }
 ],
 "metadata": {
  "interpreter": {
   "hash": "0b63b9aa92b9b8288fefc5a0b1648255b8202adcd5bc8ae2b967f8fab199243d"
  },
  "kernelspec": {
   "display_name": "Python 3 (ipykernel)",
   "language": "python",
   "name": "python3"
  },
  "language_info": {
   "codemirror_mode": {
    "name": "ipython",
    "version": 3
   },
   "file_extension": ".py",
   "mimetype": "text/x-python",
   "name": "python",
   "nbconvert_exporter": "python",
   "pygments_lexer": "ipython3",
   "version": "3.8.3"
  }
 },
 "nbformat": 4,
 "nbformat_minor": 5
}
